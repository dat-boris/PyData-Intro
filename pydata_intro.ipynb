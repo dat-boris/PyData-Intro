{
 "cells": [
  {
   "cell_type": "markdown",
   "metadata": {
    "collapsed": true,
    "slideshow": {
     "slide_type": "slide"
    }
   },
   "source": [
    "# High and low of PyData\n",
    "\n",
    "The wonderful PyData stack and a gentle intro\n",
    "\n",
    "![Mobify](https://www.mobify.com/wp-content/themes/sparkjoy-mobify-may-16-v2/library/images/logo-mobify-spark-sm-black.png)"
   ]
  },
  {
   "cell_type": "markdown",
   "metadata": {
    "slideshow": {
     "slide_type": "slide"
    }
   },
   "source": [
    "## Hello\n",
    "\n",
    "* Started as a reverse engineer\n",
    "* Founded a startup Pathful - Python full stack\n",
    "* Now part of Mobify - plays with Python Data Pipeline!"
   ]
  },
  {
   "cell_type": "code",
   "execution_count": 11,
   "metadata": {
    "collapsed": true
   },
   "outputs": [],
   "source": [
    "import dis\n",
    "import django\n",
    "import numpy, pandas"
   ]
  },
  {
   "cell_type": "code",
   "execution_count": 12,
   "metadata": {
    "collapsed": true,
    "slideshow": {
     "slide_type": "skip"
    }
   },
   "outputs": [],
   "source": [
    "from __future__ import print_function, division"
   ]
  },
  {
   "cell_type": "markdown",
   "metadata": {
    "slideshow": {
     "slide_type": "slide"
    }
   },
   "source": [
    "# PyData stack\n",
    "\n",
    "What is PyData?"
   ]
  },
  {
   "cell_type": "markdown",
   "metadata": {
    "slideshow": {
     "slide_type": "-"
    }
   },
   "source": [
    "### ![Stack diagram](http://image.slidesharecdn.com/pydatanyc2015-151110132252-lva1-app6891/95/pydata-nyc-2015-3-638.jpg?cb=1447161910)\n"
   ]
  },
  {
   "cell_type": "markdown",
   "metadata": {
    "slideshow": {
     "slide_type": "slide"
    }
   },
   "source": [
    "![img](https://raw.githubusercontent.com/sketchytechky/PyData-Intro/master/pydata_stack.jpg)"
   ]
  },
  {
   "cell_type": "markdown",
   "metadata": {
    "slideshow": {
     "slide_type": "slide"
    }
   },
   "source": [
    "### Each part of the python stack\n",
    "\n",
    "* Platform - IPython\n",
    "* Packaging - Conda\n",
    "* Visualization - Bokeh, matplotlib for \n",
    "* Model - Statsmodel, Scipy, PyMC, NetworkX and SKLearn\n",
    "* Data access - Pandas, Blaze, numpy\n",
    "* Voodo - numba"
   ]
  },
  {
   "cell_type": "markdown",
   "metadata": {
    "slideshow": {
     "slide_type": "slide"
    }
   },
   "source": [
    "## Platform - IPython\n",
    "\n",
    "![jupyer](http://jupyter.org/assets/nav_logo.svg)\n",
    "\n",
    "* A place which allows you to play with data\n",
    "* share your result - e.g. this presentation\n",
    "\n"
   ]
  },
  {
   "cell_type": "code",
   "execution_count": 206,
   "metadata": {
    "collapsed": false
   },
   "outputs": [],
   "source": [
    "# Look, you can live code in here\n",
    "from sklearn import datasets\n",
    "# import some data to play with\n",
    "iris = datasets.load_iris()\n",
    "#print(iris.DESCR)"
   ]
  },
  {
   "cell_type": "markdown",
   "metadata": {
    "slideshow": {
     "slide_type": "-"
    }
   },
   "source": [
    "## Packaging - Conda\n",
    "\n",
    "* Package and environment management system\n",
    "* Specialize in compiling different binary packages\n",
    "* Especially useful for PyData packages since they takes a long time to build\n",
    "* Automatic take advantage of some hardware optimization (e.g. Intel MKL)\n",
    "\n"
   ]
  },
  {
   "cell_type": "markdown",
   "metadata": {
    "slideshow": {
     "slide_type": "slide"
    }
   },
   "source": [
    "## Visualiztion - Bokeh\n",
    "\n",
    "* Very easy to do visualization inside the notebook\n"
   ]
  },
  {
   "cell_type": "code",
   "execution_count": 115,
   "metadata": {
    "collapsed": false,
    "slideshow": {
     "slide_type": "-"
    }
   },
   "outputs": [
    {
     "data": {
      "text/html": [
       "\n",
       "    <div class=\"bk-banner\">\n",
       "        <a href=\"http://bokeh.pydata.org\" target=\"_blank\" class=\"bk-logo bk-logo-small bk-logo-notebook\"></a>\n",
       "        <span id=\"57c87b23-2c02-4a3f-b747-a105e1a1cb15\">Loading BokehJS ...</span>\n",
       "    </div>"
      ]
     },
     "metadata": {},
     "output_type": "display_data"
    },
    {
     "data": {
      "application/javascript": [
       "\n",
       "(function(global) {\n",
       "  function now() {\n",
       "    return new Date();\n",
       "  }\n",
       "\n",
       "  if (typeof (window._bokeh_onload_callbacks) === \"undefined\") {\n",
       "    window._bokeh_onload_callbacks = [];\n",
       "  }\n",
       "\n",
       "  function run_callbacks() {\n",
       "    window._bokeh_onload_callbacks.forEach(function(callback) { callback() });\n",
       "    delete window._bokeh_onload_callbacks\n",
       "    console.info(\"Bokeh: all callbacks have finished\");\n",
       "  }\n",
       "\n",
       "  function load_libs(js_urls, callback) {\n",
       "    window._bokeh_onload_callbacks.push(callback);\n",
       "    if (window._bokeh_is_loading > 0) {\n",
       "      console.log(\"Bokeh: BokehJS is being loaded, scheduling callback at\", now());\n",
       "      return null;\n",
       "    }\n",
       "    if (js_urls == null || js_urls.length === 0) {\n",
       "      run_callbacks();\n",
       "      return null;\n",
       "    }\n",
       "    console.log(\"Bokeh: BokehJS not loaded, scheduling load and callback at\", now());\n",
       "    window._bokeh_is_loading = js_urls.length;\n",
       "    for (var i = 0; i < js_urls.length; i++) {\n",
       "      var url = js_urls[i];\n",
       "      var s = document.createElement('script');\n",
       "      s.src = url;\n",
       "      s.async = false;\n",
       "      s.onreadystatechange = s.onload = function() {\n",
       "        window._bokeh_is_loading--;\n",
       "        if (window._bokeh_is_loading === 0) {\n",
       "          console.log(\"Bokeh: all BokehJS libraries loaded\");\n",
       "          run_callbacks()\n",
       "        }\n",
       "      };\n",
       "      s.onerror = function() {\n",
       "        console.warn(\"failed to load library \" + url);\n",
       "      };\n",
       "      console.log(\"Bokeh: injecting script tag for BokehJS library: \", url);\n",
       "      document.getElementsByTagName(\"head\")[0].appendChild(s);\n",
       "    }\n",
       "  };\n",
       "\n",
       "  var js_urls = ['https://cdn.pydata.org/bokeh/release/bokeh-0.11.1.min.js', 'https://cdn.pydata.org/bokeh/release/bokeh-widgets-0.11.1.min.js', 'https://cdn.pydata.org/bokeh/release/bokeh-compiler-0.11.1.min.js'];\n",
       "\n",
       "  var inline_js = [\n",
       "    function(Bokeh) {\n",
       "      Bokeh.set_log_level(\"info\");\n",
       "    },\n",
       "    \n",
       "    function(Bokeh) {\n",
       "      Bokeh.$(\"#57c87b23-2c02-4a3f-b747-a105e1a1cb15\").text(\"BokehJS successfully loaded\");\n",
       "    },\n",
       "    function(Bokeh) {\n",
       "      console.log(\"Bokeh: injecting CSS: https://cdn.pydata.org/bokeh/release/bokeh-0.11.1.min.css\");\n",
       "      Bokeh.embed.inject_css(\"https://cdn.pydata.org/bokeh/release/bokeh-0.11.1.min.css\");\n",
       "      console.log(\"Bokeh: injecting CSS: https://cdn.pydata.org/bokeh/release/bokeh-widgets-0.11.1.min.css\");\n",
       "      Bokeh.embed.inject_css(\"https://cdn.pydata.org/bokeh/release/bokeh-widgets-0.11.1.min.css\");\n",
       "    }\n",
       "  ];\n",
       "\n",
       "  function run_inline_js() {\n",
       "    for (var i = 0; i < inline_js.length; i++) {\n",
       "      inline_js[i](window.Bokeh);\n",
       "    }\n",
       "  }\n",
       "\n",
       "  if (window._bokeh_is_loading === 0) {\n",
       "    console.log(\"Bokeh: BokehJS loaded, going straight to plotting\");\n",
       "    run_inline_js();\n",
       "  } else {\n",
       "    load_libs(js_urls, function() {\n",
       "      console.log(\"Bokeh: BokehJS plotting callback run at\", now());\n",
       "      run_inline_js();\n",
       "    });\n",
       "  }\n",
       "}(this));"
      ]
     },
     "metadata": {},
     "output_type": "display_data"
    }
   ],
   "source": [
    "from bokeh.io import output_notebook\n",
    "output_notebook()"
   ]
  },
  {
   "cell_type": "code",
   "execution_count": 207,
   "metadata": {
    "collapsed": true,
    "slideshow": {
     "slide_type": "skip"
    }
   },
   "outputs": [],
   "source": [
    "from bokeh.charts import show\n",
    "# a hack to prevent showing import error\n",
    "def show_wrapper(scatter):\n",
    "    try:\n",
    "        show(scatter)\n",
    "    except ImportError:\n",
    "        pass"
   ]
  },
  {
   "cell_type": "code",
   "execution_count": 208,
   "metadata": {
    "collapsed": false,
    "slideshow": {
     "slide_type": "slide"
    }
   },
   "outputs": [
    {
     "data": {
      "text/html": [
       "\n",
       "\n",
       "    <div class=\"plotdiv\" id=\"2d9662f8-6661-47e9-81fb-2aaa77a66579\"></div>\n",
       "<script type=\"text/javascript\">\n",
       "  \n",
       "  (function(global) {\n",
       "    function now() {\n",
       "      return new Date();\n",
       "    }\n",
       "  \n",
       "    if (typeof (window._bokeh_onload_callbacks) === \"undefined\") {\n",
       "      window._bokeh_onload_callbacks = [];\n",
       "    }\n",
       "  \n",
       "    function run_callbacks() {\n",
       "      window._bokeh_onload_callbacks.forEach(function(callback) { callback() });\n",
       "      delete window._bokeh_onload_callbacks\n",
       "      console.info(\"Bokeh: all callbacks have finished\");\n",
       "    }\n",
       "  \n",
       "    function load_libs(js_urls, callback) {\n",
       "      window._bokeh_onload_callbacks.push(callback);\n",
       "      if (window._bokeh_is_loading > 0) {\n",
       "        console.log(\"Bokeh: BokehJS is being loaded, scheduling callback at\", now());\n",
       "        return null;\n",
       "      }\n",
       "      if (js_urls == null || js_urls.length === 0) {\n",
       "        run_callbacks();\n",
       "        return null;\n",
       "      }\n",
       "      console.log(\"Bokeh: BokehJS not loaded, scheduling load and callback at\", now());\n",
       "      window._bokeh_is_loading = js_urls.length;\n",
       "      for (var i = 0; i < js_urls.length; i++) {\n",
       "        var url = js_urls[i];\n",
       "        var s = document.createElement('script');\n",
       "        s.src = url;\n",
       "        s.async = false;\n",
       "        s.onreadystatechange = s.onload = function() {\n",
       "          window._bokeh_is_loading--;\n",
       "          if (window._bokeh_is_loading === 0) {\n",
       "            console.log(\"Bokeh: all BokehJS libraries loaded\");\n",
       "            run_callbacks()\n",
       "          }\n",
       "        };\n",
       "        s.onerror = function() {\n",
       "          console.warn(\"failed to load library \" + url);\n",
       "        };\n",
       "        console.log(\"Bokeh: injecting script tag for BokehJS library: \", url);\n",
       "        document.getElementsByTagName(\"head\")[0].appendChild(s);\n",
       "      }\n",
       "    };var element = document.getElementById(\"2d9662f8-6661-47e9-81fb-2aaa77a66579\");\n",
       "    if (element == null) {\n",
       "      console.log(\"Bokeh: ERROR: autoload.js configured with elementid '2d9662f8-6661-47e9-81fb-2aaa77a66579' but no matching script tag was found. \")\n",
       "      return false;\n",
       "    }\n",
       "  \n",
       "    var js_urls = [];\n",
       "  \n",
       "    var inline_js = [\n",
       "      function(Bokeh) {\n",
       "        Bokeh.$(function() {\n",
       "            var docs_json = {\"a428e0da-de57-48be-884f-3b1106bcf8d8\":{\"roots\":{\"references\":[{\"attributes\":{\"overlay\":{\"id\":\"2c034ef9-306f-49d3-a81f-d333d9cb21a6\",\"type\":\"BoxAnnotation\"},\"plot\":{\"id\":\"2875a362-8a2f-4a26-88bb-f000e10af8bc\",\"subtype\":\"Chart\",\"type\":\"Plot\"}},\"id\":\"bf3aff6b-29fe-4848-93f7-e26d25bbcba3\",\"type\":\"BoxZoomTool\"},{\"attributes\":{\"below\":[{\"id\":\"ccdc8e03-495c-48af-bf5b-f7af2099ec09\",\"type\":\"LinearAxis\"}],\"left\":[{\"id\":\"d68c68da-610d-4203-b015-7651113f17f1\",\"type\":\"LinearAxis\"}],\"legend\":true,\"renderers\":[{\"id\":\"e755fe69-efdb-4acf-bd7b-a5d7c0f47390\",\"type\":\"BoxAnnotation\"},{\"id\":\"b199b3c5-6281-4a0d-80d0-d48a5826284c\",\"type\":\"GlyphRenderer\"},{\"id\":\"92b43157-2849-42e8-ae2c-a0f2419c9ae3\",\"type\":\"GlyphRenderer\"},{\"id\":\"7c6a667a-1799-4554-9203-f44c6416bdf6\",\"type\":\"GlyphRenderer\"},{\"id\":\"aab99043-21a4-4340-a7ea-4d236e4b9d55\",\"type\":\"Legend\"},{\"id\":\"ccdc8e03-495c-48af-bf5b-f7af2099ec09\",\"type\":\"LinearAxis\"},{\"id\":\"d68c68da-610d-4203-b015-7651113f17f1\",\"type\":\"LinearAxis\"},{\"id\":\"d3bf8aa8-1c6a-4394-9aa0-4dedd2c9a969\",\"type\":\"Grid\"},{\"id\":\"83400d85-965d-4b19-94a9-58a745e02502\",\"type\":\"Grid\"}],\"title\":\"Iris Dataset Color and Marker by Species\",\"title_text_font_size\":{\"value\":\"14pt\"},\"tool_events\":{\"id\":\"55b77837-c50b-4a63-897e-dc70d9ea0bf2\",\"type\":\"ToolEvents\"},\"tools\":[{\"id\":\"19e73d03-7c56-4a23-aa80-4f6aa87dd09d\",\"type\":\"PanTool\"},{\"id\":\"8285bb70-6fa2-4b1e-99ff-fb4823b96df9\",\"type\":\"WheelZoomTool\"},{\"id\":\"c913fafa-cf2f-4d63-87c9-80f89ae0f8e4\",\"type\":\"BoxZoomTool\"},{\"id\":\"389dbf1f-55f1-4789-b725-42a6afe419eb\",\"type\":\"PreviewSaveTool\"},{\"id\":\"6a1f13ca-278c-4ea1-be7d-52bb67ab3ff6\",\"type\":\"ResizeTool\"},{\"id\":\"ec8a6384-6df8-471d-811b-113f9b25be89\",\"type\":\"ResetTool\"},{\"id\":\"bec105a9-6813-43b9-a4b4-797fe7108d8e\",\"type\":\"HelpTool\"}],\"x_mapper_type\":\"auto\",\"x_range\":{\"id\":\"1bc12368-f1ae-4287-8190-443fc1ae3573\",\"type\":\"Range1d\"},\"xscale\":\"auto\",\"y_mapper_type\":\"auto\",\"y_range\":{\"id\":\"f8220bcd-b01c-402e-8186-6eed6c26d23a\",\"type\":\"Range1d\"},\"yscale\":\"auto\"},\"id\":\"d9ac6def-732b-42a3-af97-c59c898033f0\",\"subtype\":\"Chart\",\"type\":\"Plot\"},{\"attributes\":{\"data_source\":{\"id\":\"9d5d5f8b-a788-4822-851a-f7bdcfb5b937\",\"type\":\"ColumnDataSource\"},\"glyph\":{\"id\":\"24495164-2b3d-4d92-b877-d0f621ed955d\",\"type\":\"Square\"},\"hover_glyph\":null,\"nonselection_glyph\":null,\"selection_glyph\":null},\"id\":\"44fc6c92-0a26-483c-a139-4680afc347a8\",\"type\":\"GlyphRenderer\"},{\"attributes\":{\"axis_label\":\"petal_length\",\"formatter\":{\"id\":\"a74ca7ae-95da-4cd7-a25c-4d9de558eb3a\",\"type\":\"BasicTickFormatter\"},\"plot\":{\"id\":\"d9ac6def-732b-42a3-af97-c59c898033f0\",\"subtype\":\"Chart\",\"type\":\"Plot\"},\"ticker\":{\"id\":\"627f2181-a384-42a2-b524-39ed4fe6f71e\",\"type\":\"BasicTicker\"}},\"id\":\"ccdc8e03-495c-48af-bf5b-f7af2099ec09\",\"type\":\"LinearAxis\"},{\"attributes\":{\"callback\":null,\"column_names\":[\"x_values\",\"y_values\"],\"data\":{\"chart_index\":[{\"species\":\"versicolor\"},{\"species\":\"versicolor\"},{\"species\":\"versicolor\"},{\"species\":\"versicolor\"},{\"species\":\"versicolor\"},{\"species\":\"versicolor\"},{\"species\":\"versicolor\"},{\"species\":\"versicolor\"},{\"species\":\"versicolor\"},{\"species\":\"versicolor\"},{\"species\":\"versicolor\"},{\"species\":\"versicolor\"},{\"species\":\"versicolor\"},{\"species\":\"versicolor\"},{\"species\":\"versicolor\"},{\"species\":\"versicolor\"},{\"species\":\"versicolor\"},{\"species\":\"versicolor\"},{\"species\":\"versicolor\"},{\"species\":\"versicolor\"},{\"species\":\"versicolor\"},{\"species\":\"versicolor\"},{\"species\":\"versicolor\"},{\"species\":\"versicolor\"},{\"species\":\"versicolor\"},{\"species\":\"versicolor\"},{\"species\":\"versicolor\"},{\"species\":\"versicolor\"},{\"species\":\"versicolor\"},{\"species\":\"versicolor\"},{\"species\":\"versicolor\"},{\"species\":\"versicolor\"},{\"species\":\"versicolor\"},{\"species\":\"versicolor\"},{\"species\":\"versicolor\"},{\"species\":\"versicolor\"},{\"species\":\"versicolor\"},{\"species\":\"versicolor\"},{\"species\":\"versicolor\"},{\"species\":\"versicolor\"},{\"species\":\"versicolor\"},{\"species\":\"versicolor\"},{\"species\":\"versicolor\"},{\"species\":\"versicolor\"},{\"species\":\"versicolor\"},{\"species\":\"versicolor\"},{\"species\":\"versicolor\"},{\"species\":\"versicolor\"},{\"species\":\"versicolor\"},{\"species\":\"versicolor\"}],\"species\":[\"versicolor\",\"versicolor\",\"versicolor\",\"versicolor\",\"versicolor\",\"versicolor\",\"versicolor\",\"versicolor\",\"versicolor\",\"versicolor\",\"versicolor\",\"versicolor\",\"versicolor\",\"versicolor\",\"versicolor\",\"versicolor\",\"versicolor\",\"versicolor\",\"versicolor\",\"versicolor\",\"versicolor\",\"versicolor\",\"versicolor\",\"versicolor\",\"versicolor\",\"versicolor\",\"versicolor\",\"versicolor\",\"versicolor\",\"versicolor\",\"versicolor\",\"versicolor\",\"versicolor\",\"versicolor\",\"versicolor\",\"versicolor\",\"versicolor\",\"versicolor\",\"versicolor\",\"versicolor\",\"versicolor\",\"versicolor\",\"versicolor\",\"versicolor\",\"versicolor\",\"versicolor\",\"versicolor\",\"versicolor\",\"versicolor\",\"versicolor\"],\"x_values\":[4.7,4.5,4.9,4.0,4.6,4.5,4.7,3.3,4.6,3.9,3.5,4.2,4.0,4.7,3.6,4.4,4.5,4.1,4.5,3.9,4.8,4.0,4.9,4.7,4.3,4.4,4.8,5.0,4.5,3.5,3.8,3.7,3.9,5.1,4.5,4.5,4.7,4.4,4.1,4.0,4.4,4.6,4.0,3.3,4.2,4.2,4.2,4.3,3.0,4.1],\"y_values\":[1.4,1.5,1.5,1.3,1.5,1.3,1.6,1.0,1.3,1.4,1.0,1.5,1.0,1.4,1.3,1.4,1.5,1.0,1.5,1.1,1.8,1.3,1.5,1.2,1.3,1.4,1.4,1.7,1.5,1.0,1.1,1.0,1.2,1.6,1.5,1.6,1.5,1.3,1.3,1.3,1.2,1.4,1.2,1.0,1.3,1.2,1.3,1.3,1.1,1.3]}},\"id\":\"9d5d5f8b-a788-4822-851a-f7bdcfb5b937\",\"type\":\"ColumnDataSource\"},{\"attributes\":{\"dimension\":1,\"plot\":{\"id\":\"4f4de0f2-22aa-4a49-aecf-7b1198e90ea5\",\"subtype\":\"Figure\",\"type\":\"Plot\"},\"ticker\":{\"id\":\"6077db99-b9e9-49f4-b2de-c289ea0fd919\",\"type\":\"BasicTicker\"}},\"id\":\"64399423-b084-4565-b18e-e8aa55a54460\",\"type\":\"Grid\"},{\"attributes\":{},\"id\":\"153e72bc-71d9-43e3-9175-c8cfdeec2bc1\",\"type\":\"BasicTicker\"},{\"attributes\":{\"below\":[{\"id\":\"02595016-a98c-4c6b-a926-fe1cf8541cbe\",\"type\":\"LinearAxis\"}],\"left\":[{\"id\":\"5aa418be-8938-4efe-9974-bd12a183fbe3\",\"type\":\"LinearAxis\"}],\"renderers\":[{\"id\":\"02595016-a98c-4c6b-a926-fe1cf8541cbe\",\"type\":\"LinearAxis\"},{\"id\":\"7547226d-0730-49f7-a2d2-8d0765dedc2e\",\"type\":\"Grid\"},{\"id\":\"5aa418be-8938-4efe-9974-bd12a183fbe3\",\"type\":\"LinearAxis\"},{\"id\":\"54923341-c9cf-4f71-b8c2-733e522b6198\",\"type\":\"Grid\"},{\"id\":\"5471b338-9f4c-4e46-a238-9af583d6fe34\",\"type\":\"BoxAnnotation\"},{\"id\":\"5e728cc2-0df5-4a78-b33e-5ef290be5fc1\",\"type\":\"Legend\"},{\"id\":\"97d85838-15ac-46de-b742-84de63ccdfb9\",\"type\":\"GlyphRenderer\"}],\"title\":\"simple line example\",\"tool_events\":{\"id\":\"ffab8d56-be62-478e-9586-c246214ac7f1\",\"type\":\"ToolEvents\"},\"tools\":[{\"id\":\"8478b1e5-3347-4c67-b727-7f8f82d22844\",\"type\":\"PanTool\"},{\"id\":\"64eb77f3-d9c3-42a0-9ae9-a0b8f1ca8dee\",\"type\":\"WheelZoomTool\"},{\"id\":\"7cf34ce7-a5e4-4088-a1b5-6b9d0eac262e\",\"type\":\"BoxZoomTool\"},{\"id\":\"76daa67e-db32-4fca-ac8a-b2e7ce00a399\",\"type\":\"PreviewSaveTool\"},{\"id\":\"e38851de-6354-4156-ba80-24a9d92b3f8b\",\"type\":\"ResizeTool\"},{\"id\":\"27bbe120-96fe-4020-9d0f-585c9faf59db\",\"type\":\"ResetTool\"},{\"id\":\"1b54e1d0-4db4-4f1e-b2ac-86cd9f89f8ec\",\"type\":\"HelpTool\"}],\"x_range\":{\"id\":\"a55d0754-c18c-4d62-ac4c-2c8f598ef5c4\",\"type\":\"DataRange1d\"},\"y_range\":{\"id\":\"52cde6a9-918d-412c-b158-206f5e48f26c\",\"type\":\"DataRange1d\"}},\"id\":\"49c11811-f21e-4043-964e-12a28838fe16\",\"subtype\":\"Figure\",\"type\":\"Plot\"},{\"attributes\":{\"axis_label\":\"petal_length\",\"formatter\":{\"id\":\"35199f23-83c8-48fe-b993-5f06b0f43369\",\"type\":\"BasicTickFormatter\"},\"plot\":{\"id\":\"bb5b007f-9c3b-473f-a5ec-f7aba899035e\",\"subtype\":\"Chart\",\"type\":\"Plot\"},\"ticker\":{\"id\":\"6fefe09c-487e-404a-9d18-1a923f323c6e\",\"type\":\"BasicTicker\"}},\"id\":\"afd16830-5b88-4188-a0c5-e57fb65e5dc0\",\"type\":\"LinearAxis\"},{\"attributes\":{\"dimension\":1,\"plot\":{\"id\":\"f6032e62-9709-450e-990b-1af60da13eb0\",\"subtype\":\"Figure\",\"type\":\"Plot\"},\"ticker\":{\"id\":\"060dc1bf-58bd-499a-9793-6cea9d3cc4c2\",\"type\":\"BasicTicker\"}},\"id\":\"26f0b588-4c3e-457a-9e92-5f49da8d282a\",\"type\":\"Grid\"},{\"attributes\":{\"plot\":{\"id\":\"f6032e62-9709-450e-990b-1af60da13eb0\",\"subtype\":\"Figure\",\"type\":\"Plot\"},\"ticker\":{\"id\":\"2f35cb47-603b-4d64-8a5a-3ce32582a24f\",\"type\":\"BasicTicker\"}},\"id\":\"0c3cd140-ccd4-4ae3-963f-8fd5232c0a6d\",\"type\":\"Grid\"},{\"attributes\":{\"fill_alpha\":{\"value\":0.7},\"fill_color\":{\"value\":\"#f22c40\"},\"line_color\":{\"value\":\"#f22c40\"},\"size\":{\"units\":\"screen\",\"value\":8},\"x\":{\"field\":\"x_values\"},\"y\":{\"field\":\"y_values\"}},\"id\":\"ee43c4dd-11bd-4797-8186-52e9d0715e89\",\"type\":\"Circle\"},{\"attributes\":{\"plot\":{\"id\":\"d9ac6def-732b-42a3-af97-c59c898033f0\",\"subtype\":\"Chart\",\"type\":\"Plot\"}},\"id\":\"6a1f13ca-278c-4ea1-be7d-52bb67ab3ff6\",\"type\":\"ResizeTool\"},{\"attributes\":{\"axis_label\":\"x\",\"formatter\":{\"id\":\"0d5bf8da-44a4-4c68-8f09-fcd300704a89\",\"type\":\"BasicTickFormatter\"},\"plot\":{\"id\":\"4f4de0f2-22aa-4a49-aecf-7b1198e90ea5\",\"subtype\":\"Figure\",\"type\":\"Plot\"},\"ticker\":{\"id\":\"d45c1259-71c3-45e7-ae2b-c1eaea851d07\",\"type\":\"BasicTicker\"}},\"id\":\"66d992d6-7171-42e5-a716-2fdad4f2bc3f\",\"type\":\"LinearAxis\"},{\"attributes\":{},\"id\":\"7b638761-a7b6-4cd8-b7e7-d546cbf68939\",\"type\":\"BasicTickFormatter\"},{\"attributes\":{},\"id\":\"a74ca7ae-95da-4cd7-a25c-4d9de558eb3a\",\"type\":\"BasicTickFormatter\"},{\"attributes\":{\"plot\":{\"id\":\"4f4de0f2-22aa-4a49-aecf-7b1198e90ea5\",\"subtype\":\"Figure\",\"type\":\"Plot\"}},\"id\":\"91b3930e-20dd-46f2-808a-1e979e9c984d\",\"type\":\"HelpTool\"},{\"attributes\":{\"axis_label\":\"x\",\"formatter\":{\"id\":\"7df858c2-831d-43d9-85ab-80065ae3ac78\",\"type\":\"BasicTickFormatter\"},\"plot\":{\"id\":\"f6032e62-9709-450e-990b-1af60da13eb0\",\"subtype\":\"Figure\",\"type\":\"Plot\"},\"ticker\":{\"id\":\"2f35cb47-603b-4d64-8a5a-3ce32582a24f\",\"type\":\"BasicTicker\"}},\"id\":\"e19f1189-dcb5-4765-8d7c-8f80e10ec337\",\"type\":\"LinearAxis\"},{\"attributes\":{\"callback\":null,\"column_names\":[\"x_values\",\"y_values\"],\"data\":{\"chart_index\":[{\"species\":\"setosa\"},{\"species\":\"setosa\"},{\"species\":\"setosa\"},{\"species\":\"setosa\"},{\"species\":\"setosa\"},{\"species\":\"setosa\"},{\"species\":\"setosa\"},{\"species\":\"setosa\"},{\"species\":\"setosa\"},{\"species\":\"setosa\"},{\"species\":\"setosa\"},{\"species\":\"setosa\"},{\"species\":\"setosa\"},{\"species\":\"setosa\"},{\"species\":\"setosa\"},{\"species\":\"setosa\"},{\"species\":\"setosa\"},{\"species\":\"setosa\"},{\"species\":\"setosa\"},{\"species\":\"setosa\"},{\"species\":\"setosa\"},{\"species\":\"setosa\"},{\"species\":\"setosa\"},{\"species\":\"setosa\"},{\"species\":\"setosa\"},{\"species\":\"setosa\"},{\"species\":\"setosa\"},{\"species\":\"setosa\"},{\"species\":\"setosa\"},{\"species\":\"setosa\"},{\"species\":\"setosa\"},{\"species\":\"setosa\"},{\"species\":\"setosa\"},{\"species\":\"setosa\"},{\"species\":\"setosa\"},{\"species\":\"setosa\"},{\"species\":\"setosa\"},{\"species\":\"setosa\"},{\"species\":\"setosa\"},{\"species\":\"setosa\"},{\"species\":\"setosa\"},{\"species\":\"setosa\"},{\"species\":\"setosa\"},{\"species\":\"setosa\"},{\"species\":\"setosa\"},{\"species\":\"setosa\"},{\"species\":\"setosa\"},{\"species\":\"setosa\"},{\"species\":\"setosa\"},{\"species\":\"setosa\"}],\"species\":[\"setosa\",\"setosa\",\"setosa\",\"setosa\",\"setosa\",\"setosa\",\"setosa\",\"setosa\",\"setosa\",\"setosa\",\"setosa\",\"setosa\",\"setosa\",\"setosa\",\"setosa\",\"setosa\",\"setosa\",\"setosa\",\"setosa\",\"setosa\",\"setosa\",\"setosa\",\"setosa\",\"setosa\",\"setosa\",\"setosa\",\"setosa\",\"setosa\",\"setosa\",\"setosa\",\"setosa\",\"setosa\",\"setosa\",\"setosa\",\"setosa\",\"setosa\",\"setosa\",\"setosa\",\"setosa\",\"setosa\",\"setosa\",\"setosa\",\"setosa\",\"setosa\",\"setosa\",\"setosa\",\"setosa\",\"setosa\",\"setosa\",\"setosa\"],\"x_values\":[1.4,1.4,1.3,1.5,1.4,1.7,1.4,1.5,1.4,1.5,1.5,1.6,1.4,1.1,1.2,1.5,1.3,1.4,1.7,1.5,1.7,1.5,1.0,1.7,1.9,1.6,1.6,1.5,1.4,1.6,1.6,1.5,1.5,1.4,1.5,1.2,1.3,1.4,1.3,1.5,1.3,1.3,1.3,1.6,1.9,1.4,1.6,1.4,1.5,1.4],\"y_values\":[0.2,0.2,0.2,0.2,0.2,0.4,0.3,0.2,0.2,0.1,0.2,0.2,0.1,0.1,0.2,0.4,0.4,0.3,0.3,0.3,0.2,0.4,0.2,0.5,0.2,0.2,0.4,0.2,0.2,0.2,0.2,0.4,0.1,0.2,0.2,0.2,0.2,0.1,0.2,0.2,0.3,0.3,0.2,0.6,0.4,0.3,0.2,0.2,0.2,0.2]}},\"id\":\"462c56f5-16b3-4afb-a921-f718aefda986\",\"type\":\"ColumnDataSource\"},{\"attributes\":{\"axis_label\":\"y\",\"formatter\":{\"id\":\"a0e55efc-ae9f-4862-9b80-d7d8b34ef22b\",\"type\":\"BasicTickFormatter\"},\"plot\":{\"id\":\"4f4de0f2-22aa-4a49-aecf-7b1198e90ea5\",\"subtype\":\"Figure\",\"type\":\"Plot\"},\"ticker\":{\"id\":\"6077db99-b9e9-49f4-b2de-c289ea0fd919\",\"type\":\"BasicTicker\"}},\"id\":\"5cce3b51-2234-4b0a-a507-c69f55618b58\",\"type\":\"LinearAxis\"},{\"attributes\":{\"fill_alpha\":{\"value\":0.7},\"fill_color\":{\"value\":\"#f22c40\"},\"line_color\":{\"value\":\"#f22c40\"},\"size\":{\"units\":\"screen\",\"value\":8},\"x\":{\"field\":\"x_values\"},\"y\":{\"field\":\"y_values\"}},\"id\":\"72c6285e-e225-4f8a-be7b-7acc9bbeb5d8\",\"type\":\"Circle\"},{\"attributes\":{\"data_source\":{\"id\":\"462c56f5-16b3-4afb-a921-f718aefda986\",\"type\":\"ColumnDataSource\"},\"glyph\":{\"id\":\"72c6285e-e225-4f8a-be7b-7acc9bbeb5d8\",\"type\":\"Circle\"},\"hover_glyph\":null,\"nonselection_glyph\":null,\"selection_glyph\":null},\"id\":\"d73d83ee-65fb-4631-8359-4d458692a56f\",\"type\":\"GlyphRenderer\"},{\"attributes\":{\"data_source\":{\"id\":\"ce237e1d-8e5a-479f-8843-05ef73d9e1ce\",\"type\":\"ColumnDataSource\"},\"glyph\":{\"id\":\"d532240b-c9c4-4248-86cf-c88a6de4c41c\",\"type\":\"Triangle\"},\"hover_glyph\":null,\"nonselection_glyph\":null,\"selection_glyph\":null},\"id\":\"f6e3bd1f-0cca-4160-bc29-1f37caae2935\",\"type\":\"GlyphRenderer\"},{\"attributes\":{\"plot\":{\"id\":\"2a774e5c-3a34-4e72-9c24-52609582b2cf\",\"subtype\":\"Chart\",\"type\":\"Plot\"}},\"id\":\"61bc9433-19c6-4691-b345-1783c850772f\",\"type\":\"PanTool\"},{\"attributes\":{\"data_source\":{\"id\":\"e4a6c18d-8829-4a26-bef3-5e89042d38f1\",\"type\":\"ColumnDataSource\"},\"glyph\":{\"id\":\"fecdf95e-4f64-4ca1-82af-bcc9e9788d62\",\"type\":\"Line\"},\"hover_glyph\":null,\"nonselection_glyph\":{\"id\":\"2333ccfb-0786-4fc9-a28a-20c2bed90690\",\"type\":\"Line\"},\"selection_glyph\":null},\"id\":\"22a5ff12-429d-44da-a9e5-8d62f10b8530\",\"type\":\"GlyphRenderer\"},{\"attributes\":{\"axis_label\":\"petal_width\",\"formatter\":{\"id\":\"7b638761-a7b6-4cd8-b7e7-d546cbf68939\",\"type\":\"BasicTickFormatter\"},\"plot\":{\"id\":\"d9ac6def-732b-42a3-af97-c59c898033f0\",\"subtype\":\"Chart\",\"type\":\"Plot\"},\"ticker\":{\"id\":\"e6dcbda7-8eb0-4372-9f3a-8dc478761361\",\"type\":\"BasicTicker\"}},\"id\":\"d68c68da-610d-4203-b015-7651113f17f1\",\"type\":\"LinearAxis\"},{\"attributes\":{\"plot\":{\"id\":\"49c11811-f21e-4043-964e-12a28838fe16\",\"subtype\":\"Figure\",\"type\":\"Plot\"}},\"id\":\"8478b1e5-3347-4c67-b727-7f8f82d22844\",\"type\":\"PanTool\"},{\"attributes\":{\"callback\":null},\"id\":\"2186c9b5-b8b4-4506-bd1d-8f91ea48fa93\",\"type\":\"DataRange1d\"},{\"attributes\":{\"callback\":null},\"id\":\"52cde6a9-918d-412c-b158-206f5e48f26c\",\"type\":\"DataRange1d\"},{\"attributes\":{\"plot\":{\"id\":\"49c11811-f21e-4043-964e-12a28838fe16\",\"subtype\":\"Figure\",\"type\":\"Plot\"}},\"id\":\"1b54e1d0-4db4-4f1e-b2ac-86cd9f89f8ec\",\"type\":\"HelpTool\"},{\"attributes\":{\"overlay\":{\"id\":\"e6acad52-897f-4662-944d-458e5f1c01fd\",\"type\":\"BoxAnnotation\"},\"plot\":{\"id\":\"f6032e62-9709-450e-990b-1af60da13eb0\",\"subtype\":\"Figure\",\"type\":\"Plot\"}},\"id\":\"0de38a86-e4b8-4cf1-82f1-818773dd7ae8\",\"type\":\"BoxZoomTool\"},{\"attributes\":{\"plot\":{\"id\":\"2a774e5c-3a34-4e72-9c24-52609582b2cf\",\"subtype\":\"Chart\",\"type\":\"Plot\"}},\"id\":\"1880a399-99fb-439e-9164-8a039a157220\",\"type\":\"ResizeTool\"},{\"attributes\":{\"plot\":{\"id\":\"d9ac6def-732b-42a3-af97-c59c898033f0\",\"subtype\":\"Chart\",\"type\":\"Plot\"}},\"id\":\"8285bb70-6fa2-4b1e-99ff-fb4823b96df9\",\"type\":\"WheelZoomTool\"},{\"attributes\":{\"plot\":{\"id\":\"bb5b007f-9c3b-473f-a5ec-f7aba899035e\",\"subtype\":\"Chart\",\"type\":\"Plot\"},\"ticker\":{\"id\":\"6fefe09c-487e-404a-9d18-1a923f323c6e\",\"type\":\"BasicTicker\"}},\"id\":\"944c58bd-35f8-49c2-ad1c-7239867481ac\",\"type\":\"Grid\"},{\"attributes\":{\"plot\":{\"id\":\"bb5b007f-9c3b-473f-a5ec-f7aba899035e\",\"subtype\":\"Chart\",\"type\":\"Plot\"}},\"id\":\"351acafc-bc41-4250-a7a5-faf7baffc85a\",\"type\":\"PreviewSaveTool\"},{\"attributes\":{},\"id\":\"cf3ace49-ee38-4826-a2b5-43120f1f43f9\",\"type\":\"BasicTickFormatter\"},{\"attributes\":{\"fill_alpha\":{\"value\":0.7},\"fill_color\":{\"value\":\"#5ab738\"},\"line_color\":{\"value\":\"#5ab738\"},\"size\":{\"units\":\"screen\",\"value\":8},\"x\":{\"field\":\"x_values\"},\"y\":{\"field\":\"y_values\"}},\"id\":\"d9a66ba1-7ed9-40b5-b510-e1fa54ce4587\",\"type\":\"Square\"},{\"attributes\":{\"fill_alpha\":{\"value\":0.7},\"fill_color\":{\"value\":\"#5ab738\"},\"line_color\":{\"value\":\"#5ab738\"},\"size\":{\"units\":\"screen\",\"value\":8},\"x\":{\"field\":\"x_values\"},\"y\":{\"field\":\"y_values\"}},\"id\":\"4a99c0dc-bc5e-44a6-84e6-73c0fc882805\",\"type\":\"Square\"},{\"attributes\":{\"data_source\":{\"id\":\"c5c2bdc3-80b6-4029-82af-9e59a2d371ae\",\"type\":\"ColumnDataSource\"},\"glyph\":{\"id\":\"ed7596fc-4fe3-4eb4-b732-5c79a79548fb\",\"type\":\"Line\"},\"hover_glyph\":null,\"nonselection_glyph\":{\"id\":\"818345bc-9703-40cf-9988-da15341b5dab\",\"type\":\"Line\"},\"selection_glyph\":null},\"id\":\"97d85838-15ac-46de-b742-84de63ccdfb9\",\"type\":\"GlyphRenderer\"},{\"attributes\":{\"line_alpha\":{\"value\":0.1},\"line_color\":{\"value\":\"#1f77b4\"},\"line_width\":{\"value\":2},\"x\":{\"field\":\"x\"},\"y\":{\"field\":\"y\"}},\"id\":\"818345bc-9703-40cf-9988-da15341b5dab\",\"type\":\"Line\"},{\"attributes\":{\"plot\":{\"id\":\"f6032e62-9709-450e-990b-1af60da13eb0\",\"subtype\":\"Figure\",\"type\":\"Plot\"}},\"id\":\"207de146-e2f9-46ec-8edc-912b2e77bc52\",\"type\":\"WheelZoomTool\"},{\"attributes\":{\"plot\":{\"id\":\"2a774e5c-3a34-4e72-9c24-52609582b2cf\",\"subtype\":\"Chart\",\"type\":\"Plot\"}},\"id\":\"0549bbcf-e5b8-4f40-8e3d-a53b5713a0bb\",\"type\":\"HelpTool\"},{\"attributes\":{\"line_color\":{\"value\":\"#1f77b4\"},\"line_width\":{\"value\":2},\"x\":{\"field\":\"x\"},\"y\":{\"field\":\"y\"}},\"id\":\"fecdf95e-4f64-4ca1-82af-bcc9e9788d62\",\"type\":\"Line\"},{\"attributes\":{\"data_source\":{\"id\":\"d527ca4d-0845-4359-b1f7-c9e1fdcd197c\",\"type\":\"ColumnDataSource\"},\"glyph\":{\"id\":\"7c659516-a8ba-4f66-b326-56d9e304f23a\",\"type\":\"Circle\"},\"hover_glyph\":null,\"nonselection_glyph\":null,\"selection_glyph\":null},\"id\":\"3ef8ae83-5653-400e-a61a-e1ab3888812a\",\"type\":\"GlyphRenderer\"},{\"attributes\":{},\"id\":\"dd1179be-0abf-489c-b4d5-baebf2363e3b\",\"type\":\"BasicTicker\"},{\"attributes\":{},\"id\":\"982dfd71-49cc-484a-a370-bbb95ef5c21e\",\"type\":\"ToolEvents\"},{\"attributes\":{\"fill_alpha\":{\"value\":0.7},\"fill_color\":{\"value\":\"#407ee7\"},\"line_color\":{\"value\":\"#407ee7\"},\"size\":{\"units\":\"screen\",\"value\":8},\"x\":{\"field\":\"x_values\"},\"y\":{\"field\":\"y_values\"}},\"id\":\"099d33f4-c899-4bb4-841f-be81358ff5ac\",\"type\":\"Triangle\"},{\"attributes\":{},\"id\":\"7df858c2-831d-43d9-85ab-80065ae3ac78\",\"type\":\"BasicTickFormatter\"},{\"attributes\":{\"legends\":[[\"setosa\",[{\"id\":\"3ef8ae83-5653-400e-a61a-e1ab3888812a\",\"type\":\"GlyphRenderer\"}]],[\"versicolor\",[{\"id\":\"d65b938b-d732-4fee-8032-0bfb9b83ab7f\",\"type\":\"GlyphRenderer\"}]],[\"virginica\",[{\"id\":\"dc533126-2a71-4bae-92ab-de652f98422a\",\"type\":\"GlyphRenderer\"}]]],\"location\":\"top_left\",\"plot\":{\"id\":\"2a774e5c-3a34-4e72-9c24-52609582b2cf\",\"subtype\":\"Chart\",\"type\":\"Plot\"}},\"id\":\"a50f78b3-2e5b-4723-8e6e-968a8aa1b264\",\"type\":\"Legend\"},{\"attributes\":{\"callback\":null,\"column_names\":[\"y\",\"x\"],\"data\":{\"x\":[1,2,3,4,5],\"y\":[6,7,2,4,5]}},\"id\":\"1597ab4a-2573-496f-9886-629fbe181cdc\",\"type\":\"ColumnDataSource\"},{\"attributes\":{\"fill_alpha\":{\"value\":0.7},\"fill_color\":{\"value\":\"#407ee7\"},\"line_color\":{\"value\":\"#407ee7\"},\"size\":{\"units\":\"screen\",\"value\":8},\"x\":{\"field\":\"x_values\"},\"y\":{\"field\":\"y_values\"}},\"id\":\"4473dced-3ba0-4e05-85fc-184bc739b20c\",\"type\":\"Triangle\"},{\"attributes\":{\"callback\":null,\"end\":7.49,\"start\":0.4099999999999999},\"id\":\"93c4f246-8ff2-469d-8776-3ed38d0f2967\",\"type\":\"Range1d\"},{\"attributes\":{\"callback\":null,\"end\":2.74,\"start\":-0.13999999999999999},\"id\":\"f8220bcd-b01c-402e-8186-6eed6c26d23a\",\"type\":\"Range1d\"},{\"attributes\":{},\"id\":\"9c0ca514-87ad-4852-9ae1-03025563fc03\",\"type\":\"BasicTicker\"},{\"attributes\":{\"data_source\":{\"id\":\"04bf5c34-00ae-45f6-8033-1f38a2f478ea\",\"type\":\"ColumnDataSource\"},\"glyph\":{\"id\":\"099d33f4-c899-4bb4-841f-be81358ff5ac\",\"type\":\"Triangle\"},\"hover_glyph\":null,\"nonselection_glyph\":null,\"selection_glyph\":null},\"id\":\"4d7c6d2a-6a52-496d-ab6c-e000a242132a\",\"type\":\"GlyphRenderer\"},{\"attributes\":{\"dimension\":1,\"plot\":{\"id\":\"49c11811-f21e-4043-964e-12a28838fe16\",\"subtype\":\"Figure\",\"type\":\"Plot\"},\"ticker\":{\"id\":\"25998c3d-2c1a-49f5-826b-a964e037237c\",\"type\":\"BasicTicker\"}},\"id\":\"54923341-c9cf-4f71-b8c2-733e522b6198\",\"type\":\"Grid\"},{\"attributes\":{\"plot\":{\"id\":\"2875a362-8a2f-4a26-88bb-f000e10af8bc\",\"subtype\":\"Chart\",\"type\":\"Plot\"}},\"id\":\"378048dd-343b-4650-94da-332c097e83aa\",\"type\":\"ResizeTool\"},{\"attributes\":{},\"id\":\"a2d832b6-0530-467d-b143-be25a3966318\",\"type\":\"BasicTickFormatter\"},{\"attributes\":{\"axis_label\":\"x\",\"formatter\":{\"id\":\"a2d832b6-0530-467d-b143-be25a3966318\",\"type\":\"BasicTickFormatter\"},\"plot\":{\"id\":\"49c11811-f21e-4043-964e-12a28838fe16\",\"subtype\":\"Figure\",\"type\":\"Plot\"},\"ticker\":{\"id\":\"af2b2202-da37-430e-a481-093a0c8bce03\",\"type\":\"BasicTicker\"}},\"id\":\"02595016-a98c-4c6b-a926-fe1cf8541cbe\",\"type\":\"LinearAxis\"},{\"attributes\":{},\"id\":\"ffc92aa8-0acb-4e41-8244-d321c0111a94\",\"type\":\"BasicTickFormatter\"},{\"attributes\":{\"fill_alpha\":{\"value\":0.7},\"fill_color\":{\"value\":\"#f22c40\"},\"line_color\":{\"value\":\"#f22c40\"},\"size\":{\"units\":\"screen\",\"value\":8},\"x\":{\"field\":\"x_values\"},\"y\":{\"field\":\"y_values\"}},\"id\":\"7c659516-a8ba-4f66-b326-56d9e304f23a\",\"type\":\"Circle\"},{\"attributes\":{},\"id\":\"627f2181-a384-42a2-b524-39ed4fe6f71e\",\"type\":\"BasicTicker\"},{\"attributes\":{\"plot\":{\"id\":\"49c11811-f21e-4043-964e-12a28838fe16\",\"subtype\":\"Figure\",\"type\":\"Plot\"},\"ticker\":{\"id\":\"af2b2202-da37-430e-a481-093a0c8bce03\",\"type\":\"BasicTicker\"}},\"id\":\"7547226d-0730-49f7-a2d2-8d0765dedc2e\",\"type\":\"Grid\"},{\"attributes\":{},\"id\":\"0d5bf8da-44a4-4c68-8f09-fcd300704a89\",\"type\":\"BasicTickFormatter\"},{\"attributes\":{\"plot\":{\"id\":\"2875a362-8a2f-4a26-88bb-f000e10af8bc\",\"subtype\":\"Chart\",\"type\":\"Plot\"}},\"id\":\"4a9f9ab2-93bc-40c9-a71c-2f2e7bbb372d\",\"type\":\"PreviewSaveTool\"},{\"attributes\":{\"axis_label\":\"y\",\"formatter\":{\"id\":\"9c61b676-08f6-406c-b9aa-51b3a7067f48\",\"type\":\"BasicTickFormatter\"},\"plot\":{\"id\":\"49c11811-f21e-4043-964e-12a28838fe16\",\"subtype\":\"Figure\",\"type\":\"Plot\"},\"ticker\":{\"id\":\"25998c3d-2c1a-49f5-826b-a964e037237c\",\"type\":\"BasicTicker\"}},\"id\":\"5aa418be-8938-4efe-9974-bd12a183fbe3\",\"type\":\"LinearAxis\"},{\"attributes\":{\"dimension\":1,\"plot\":{\"id\":\"bb5b007f-9c3b-473f-a5ec-f7aba899035e\",\"subtype\":\"Chart\",\"type\":\"Plot\"},\"ticker\":{\"id\":\"00cfdad3-b93f-4199-b9bf-da2a6c008008\",\"type\":\"BasicTicker\"}},\"id\":\"08be7557-1f5a-46dd-b341-a32f695cfb3d\",\"type\":\"Grid\"},{\"attributes\":{\"dimension\":1,\"plot\":{\"id\":\"2a774e5c-3a34-4e72-9c24-52609582b2cf\",\"subtype\":\"Chart\",\"type\":\"Plot\"},\"ticker\":{\"id\":\"dd1179be-0abf-489c-b4d5-baebf2363e3b\",\"type\":\"BasicTicker\"}},\"id\":\"94eaafaa-f1e4-4746-9419-d4e5ed0c8f34\",\"type\":\"Grid\"},{\"attributes\":{},\"id\":\"c47dcd14-7f5d-4107-8de3-0f34829d0f49\",\"type\":\"BasicTickFormatter\"},{\"attributes\":{\"data_source\":{\"id\":\"ff84c387-d31e-4fe1-9933-7a73036f787f\",\"type\":\"ColumnDataSource\"},\"glyph\":{\"id\":\"4a99c0dc-bc5e-44a6-84e6-73c0fc882805\",\"type\":\"Square\"},\"hover_glyph\":null,\"nonselection_glyph\":null,\"selection_glyph\":null},\"id\":\"9adbb3c4-be73-4e48-b7dd-9071eb5e7c29\",\"type\":\"GlyphRenderer\"},{\"attributes\":{},\"id\":\"9c61b676-08f6-406c-b9aa-51b3a7067f48\",\"type\":\"BasicTickFormatter\"},{\"attributes\":{\"bottom_units\":\"screen\",\"fill_alpha\":{\"value\":0.5},\"fill_color\":{\"value\":\"lightgrey\"},\"left_units\":\"screen\",\"level\":\"overlay\",\"line_alpha\":{\"value\":1.0},\"line_color\":{\"value\":\"black\"},\"line_dash\":[4,4],\"line_width\":{\"value\":2},\"plot\":null,\"render_mode\":\"css\",\"right_units\":\"screen\",\"top_units\":\"screen\"},\"id\":\"d7961be5-0560-4cd0-85ef-7557cb1f7f2b\",\"type\":\"BoxAnnotation\"},{\"attributes\":{\"callback\":null},\"id\":\"f2137566-100d-43af-a898-371b91f94ada\",\"type\":\"DataRange1d\"},{\"attributes\":{\"callback\":null,\"end\":2.74,\"start\":-0.13999999999999999},\"id\":\"7e3be656-8f54-4216-814f-5137a64a60b0\",\"type\":\"Range1d\"},{\"attributes\":{\"dimension\":1,\"plot\":{\"id\":\"2875a362-8a2f-4a26-88bb-f000e10af8bc\",\"subtype\":\"Chart\",\"type\":\"Plot\"},\"ticker\":{\"id\":\"153e72bc-71d9-43e3-9175-c8cfdeec2bc1\",\"type\":\"BasicTicker\"}},\"id\":\"1e042fcd-bd27-4fef-82f2-d17de10fc0d1\",\"type\":\"Grid\"},{\"attributes\":{},\"id\":\"35199f23-83c8-48fe-b993-5f06b0f43369\",\"type\":\"BasicTickFormatter\"},{\"attributes\":{\"axis_label\":\"petal_width\",\"formatter\":{\"id\":\"0da2f08f-2ced-45ed-950f-8380c9e4a65f\",\"type\":\"BasicTickFormatter\"},\"plot\":{\"id\":\"2875a362-8a2f-4a26-88bb-f000e10af8bc\",\"subtype\":\"Chart\",\"type\":\"Plot\"},\"ticker\":{\"id\":\"153e72bc-71d9-43e3-9175-c8cfdeec2bc1\",\"type\":\"BasicTicker\"}},\"id\":\"f5131a0d-0714-4944-a282-a9b07a0a50dd\",\"type\":\"LinearAxis\"},{\"attributes\":{\"callback\":null,\"column_names\":[\"x_values\",\"y_values\"],\"data\":{\"chart_index\":[{\"species\":\"versicolor\"},{\"species\":\"versicolor\"},{\"species\":\"versicolor\"},{\"species\":\"versicolor\"},{\"species\":\"versicolor\"},{\"species\":\"versicolor\"},{\"species\":\"versicolor\"},{\"species\":\"versicolor\"},{\"species\":\"versicolor\"},{\"species\":\"versicolor\"},{\"species\":\"versicolor\"},{\"species\":\"versicolor\"},{\"species\":\"versicolor\"},{\"species\":\"versicolor\"},{\"species\":\"versicolor\"},{\"species\":\"versicolor\"},{\"species\":\"versicolor\"},{\"species\":\"versicolor\"},{\"species\":\"versicolor\"},{\"species\":\"versicolor\"},{\"species\":\"versicolor\"},{\"species\":\"versicolor\"},{\"species\":\"versicolor\"},{\"species\":\"versicolor\"},{\"species\":\"versicolor\"},{\"species\":\"versicolor\"},{\"species\":\"versicolor\"},{\"species\":\"versicolor\"},{\"species\":\"versicolor\"},{\"species\":\"versicolor\"},{\"species\":\"versicolor\"},{\"species\":\"versicolor\"},{\"species\":\"versicolor\"},{\"species\":\"versicolor\"},{\"species\":\"versicolor\"},{\"species\":\"versicolor\"},{\"species\":\"versicolor\"},{\"species\":\"versicolor\"},{\"species\":\"versicolor\"},{\"species\":\"versicolor\"},{\"species\":\"versicolor\"},{\"species\":\"versicolor\"},{\"species\":\"versicolor\"},{\"species\":\"versicolor\"},{\"species\":\"versicolor\"},{\"species\":\"versicolor\"},{\"species\":\"versicolor\"},{\"species\":\"versicolor\"},{\"species\":\"versicolor\"},{\"species\":\"versicolor\"}],\"species\":[\"versicolor\",\"versicolor\",\"versicolor\",\"versicolor\",\"versicolor\",\"versicolor\",\"versicolor\",\"versicolor\",\"versicolor\",\"versicolor\",\"versicolor\",\"versicolor\",\"versicolor\",\"versicolor\",\"versicolor\",\"versicolor\",\"versicolor\",\"versicolor\",\"versicolor\",\"versicolor\",\"versicolor\",\"versicolor\",\"versicolor\",\"versicolor\",\"versicolor\",\"versicolor\",\"versicolor\",\"versicolor\",\"versicolor\",\"versicolor\",\"versicolor\",\"versicolor\",\"versicolor\",\"versicolor\",\"versicolor\",\"versicolor\",\"versicolor\",\"versicolor\",\"versicolor\",\"versicolor\",\"versicolor\",\"versicolor\",\"versicolor\",\"versicolor\",\"versicolor\",\"versicolor\",\"versicolor\",\"versicolor\",\"versicolor\",\"versicolor\"],\"x_values\":[4.7,4.5,4.9,4.0,4.6,4.5,4.7,3.3,4.6,3.9,3.5,4.2,4.0,4.7,3.6,4.4,4.5,4.1,4.5,3.9,4.8,4.0,4.9,4.7,4.3,4.4,4.8,5.0,4.5,3.5,3.8,3.7,3.9,5.1,4.5,4.5,4.7,4.4,4.1,4.0,4.4,4.6,4.0,3.3,4.2,4.2,4.2,4.3,3.0,4.1],\"y_values\":[1.4,1.5,1.5,1.3,1.5,1.3,1.6,1.0,1.3,1.4,1.0,1.5,1.0,1.4,1.3,1.4,1.5,1.0,1.5,1.1,1.8,1.3,1.5,1.2,1.3,1.4,1.4,1.7,1.5,1.0,1.1,1.0,1.2,1.6,1.5,1.6,1.5,1.3,1.3,1.3,1.2,1.4,1.2,1.0,1.3,1.2,1.3,1.3,1.1,1.3]}},\"id\":\"ff84c387-d31e-4fe1-9933-7a73036f787f\",\"type\":\"ColumnDataSource\"},{\"attributes\":{\"legends\":[[\"Temp.\",[{\"id\":\"22a5ff12-429d-44da-a9e5-8d62f10b8530\",\"type\":\"GlyphRenderer\"}]]],\"plot\":{\"id\":\"4f4de0f2-22aa-4a49-aecf-7b1198e90ea5\",\"subtype\":\"Figure\",\"type\":\"Plot\"}},\"id\":\"d77970eb-032e-4db0-8e6e-8a1a3df0e691\",\"type\":\"Legend\"},{\"attributes\":{\"data_source\":{\"id\":\"8b29ffae-6ecc-4101-9903-96e747a8aef3\",\"type\":\"ColumnDataSource\"},\"glyph\":{\"id\":\"d9a66ba1-7ed9-40b5-b510-e1fa54ce4587\",\"type\":\"Square\"},\"hover_glyph\":null,\"nonselection_glyph\":null,\"selection_glyph\":null},\"id\":\"d65b938b-d732-4fee-8032-0bfb9b83ab7f\",\"type\":\"GlyphRenderer\"},{\"attributes\":{\"bottom_units\":\"screen\",\"fill_alpha\":{\"value\":0.5},\"fill_color\":{\"value\":\"lightgrey\"},\"left_units\":\"screen\",\"level\":\"overlay\",\"line_alpha\":{\"value\":1.0},\"line_color\":{\"value\":\"black\"},\"line_dash\":[4,4],\"line_width\":{\"value\":2},\"plot\":null,\"render_mode\":\"css\",\"right_units\":\"screen\",\"top_units\":\"screen\"},\"id\":\"e6acad52-897f-4662-944d-458e5f1c01fd\",\"type\":\"BoxAnnotation\"},{\"attributes\":{\"legends\":[[\"setosa\",[{\"id\":\"d73d83ee-65fb-4631-8359-4d458692a56f\",\"type\":\"GlyphRenderer\"}]],[\"versicolor\",[{\"id\":\"9adbb3c4-be73-4e48-b7dd-9071eb5e7c29\",\"type\":\"GlyphRenderer\"}]],[\"virginica\",[{\"id\":\"f6e3bd1f-0cca-4160-bc29-1f37caae2935\",\"type\":\"GlyphRenderer\"}]]],\"location\":\"top_left\",\"plot\":{\"id\":\"2875a362-8a2f-4a26-88bb-f000e10af8bc\",\"subtype\":\"Chart\",\"type\":\"Plot\"}},\"id\":\"54da9529-e6f0-46e0-a421-b00e82304ece\",\"type\":\"Legend\"},{\"attributes\":{\"below\":[{\"id\":\"af5f5e4c-f5ba-4ed8-912c-65a1f89a2210\",\"type\":\"LinearAxis\"}],\"left\":[{\"id\":\"ac495245-4109-4035-a3bd-ae1feca21e7e\",\"type\":\"LinearAxis\"}],\"legend\":true,\"renderers\":[{\"id\":\"37d45c81-8d7f-475c-8c3c-7561a41474f8\",\"type\":\"BoxAnnotation\"},{\"id\":\"3ef8ae83-5653-400e-a61a-e1ab3888812a\",\"type\":\"GlyphRenderer\"},{\"id\":\"d65b938b-d732-4fee-8032-0bfb9b83ab7f\",\"type\":\"GlyphRenderer\"},{\"id\":\"dc533126-2a71-4bae-92ab-de652f98422a\",\"type\":\"GlyphRenderer\"},{\"id\":\"a50f78b3-2e5b-4723-8e6e-968a8aa1b264\",\"type\":\"Legend\"},{\"id\":\"af5f5e4c-f5ba-4ed8-912c-65a1f89a2210\",\"type\":\"LinearAxis\"},{\"id\":\"ac495245-4109-4035-a3bd-ae1feca21e7e\",\"type\":\"LinearAxis\"},{\"id\":\"30e7a5a6-038f-4451-92ce-2fe67f745a73\",\"type\":\"Grid\"},{\"id\":\"94eaafaa-f1e4-4746-9419-d4e5ed0c8f34\",\"type\":\"Grid\"}],\"title\":\"Iris Dataset Color and Marker by Species\",\"title_text_font_size\":{\"value\":\"14pt\"},\"tool_events\":{\"id\":\"896e073a-1e70-487d-97ca-fe32b0ecf950\",\"type\":\"ToolEvents\"},\"tools\":[{\"id\":\"61bc9433-19c6-4691-b345-1783c850772f\",\"type\":\"PanTool\"},{\"id\":\"48bb531d-8209-461b-a1c8-1e01bc15d311\",\"type\":\"WheelZoomTool\"},{\"id\":\"acdaad0e-cc57-4145-b12c-c81957c0cf04\",\"type\":\"BoxZoomTool\"},{\"id\":\"c1a33943-d943-4382-a26e-91ce7df36195\",\"type\":\"PreviewSaveTool\"},{\"id\":\"1880a399-99fb-439e-9164-8a039a157220\",\"type\":\"ResizeTool\"},{\"id\":\"4f1c74e8-cd16-4bfc-88b9-5beef7498557\",\"type\":\"ResetTool\"},{\"id\":\"0549bbcf-e5b8-4f40-8e3d-a53b5713a0bb\",\"type\":\"HelpTool\"}],\"x_mapper_type\":\"auto\",\"x_range\":{\"id\":\"257da8bd-33e6-458e-8d6f-e3635044c8b1\",\"type\":\"Range1d\"},\"xscale\":\"auto\",\"y_mapper_type\":\"auto\",\"y_range\":{\"id\":\"977d8ad0-d79b-468c-84de-9e01e88c614a\",\"type\":\"Range1d\"},\"yscale\":\"auto\"},\"id\":\"2a774e5c-3a34-4e72-9c24-52609582b2cf\",\"subtype\":\"Chart\",\"type\":\"Plot\"},{\"attributes\":{},\"id\":\"2f35cb47-603b-4d64-8a5a-3ce32582a24f\",\"type\":\"BasicTicker\"},{\"attributes\":{\"fill_alpha\":{\"value\":0.7},\"fill_color\":{\"value\":\"#f22c40\"},\"line_color\":{\"value\":\"#f22c40\"},\"size\":{\"units\":\"screen\",\"value\":8},\"x\":{\"field\":\"x_values\"},\"y\":{\"field\":\"y_values\"}},\"id\":\"984fdc59-6e60-40e3-a03d-d19f5560e0f5\",\"type\":\"Circle\"},{\"attributes\":{\"axis_label\":\"petal_width\",\"formatter\":{\"id\":\"6cc6539a-1fb1-411e-aee8-1a481823dd7a\",\"type\":\"BasicTickFormatter\"},\"plot\":{\"id\":\"2a774e5c-3a34-4e72-9c24-52609582b2cf\",\"subtype\":\"Chart\",\"type\":\"Plot\"},\"ticker\":{\"id\":\"dd1179be-0abf-489c-b4d5-baebf2363e3b\",\"type\":\"BasicTicker\"}},\"id\":\"ac495245-4109-4035-a3bd-ae1feca21e7e\",\"type\":\"LinearAxis\"},{\"attributes\":{\"plot\":{\"id\":\"49c11811-f21e-4043-964e-12a28838fe16\",\"subtype\":\"Figure\",\"type\":\"Plot\"}},\"id\":\"64eb77f3-d9c3-42a0-9ae9-a0b8f1ca8dee\",\"type\":\"WheelZoomTool\"},{\"attributes\":{},\"id\":\"6077db99-b9e9-49f4-b2de-c289ea0fd919\",\"type\":\"BasicTicker\"},{\"attributes\":{\"callback\":null,\"end\":2.74,\"start\":-0.13999999999999999},\"id\":\"a9436434-5c37-44a1-aff3-3bfb603f53c5\",\"type\":\"Range1d\"},{\"attributes\":{\"data_source\":{\"id\":\"e3ea355c-f5dd-4a0c-9a6f-d59b9ca26a66\",\"type\":\"ColumnDataSource\"},\"glyph\":{\"id\":\"d76d1b5f-ec57-4ff8-85ba-0424e6c70ba4\",\"type\":\"Square\"},\"hover_glyph\":null,\"nonselection_glyph\":null,\"selection_glyph\":null},\"id\":\"92b43157-2849-42e8-ae2c-a0f2419c9ae3\",\"type\":\"GlyphRenderer\"},{\"attributes\":{\"plot\":{\"id\":\"bb5b007f-9c3b-473f-a5ec-f7aba899035e\",\"subtype\":\"Chart\",\"type\":\"Plot\"}},\"id\":\"f8b1e509-6372-4930-a0eb-5fa1419c9682\",\"type\":\"PanTool\"},{\"attributes\":{\"plot\":{\"id\":\"d9ac6def-732b-42a3-af97-c59c898033f0\",\"subtype\":\"Chart\",\"type\":\"Plot\"}},\"id\":\"ec8a6384-6df8-471d-811b-113f9b25be89\",\"type\":\"ResetTool\"},{\"attributes\":{\"below\":[{\"id\":\"e19f1189-dcb5-4765-8d7c-8f80e10ec337\",\"type\":\"LinearAxis\"}],\"left\":[{\"id\":\"6bf6a3f7-c920-4c0c-9eb7-1d4b97d8274e\",\"type\":\"LinearAxis\"}],\"renderers\":[{\"id\":\"e19f1189-dcb5-4765-8d7c-8f80e10ec337\",\"type\":\"LinearAxis\"},{\"id\":\"0c3cd140-ccd4-4ae3-963f-8fd5232c0a6d\",\"type\":\"Grid\"},{\"id\":\"6bf6a3f7-c920-4c0c-9eb7-1d4b97d8274e\",\"type\":\"LinearAxis\"},{\"id\":\"26f0b588-4c3e-457a-9e92-5f49da8d282a\",\"type\":\"Grid\"},{\"id\":\"e6acad52-897f-4662-944d-458e5f1c01fd\",\"type\":\"BoxAnnotation\"},{\"id\":\"626bae24-e01d-4f98-b496-7395ddb92c51\",\"type\":\"Legend\"},{\"id\":\"f4154e08-e7f4-4ecf-8016-b1011f7d6dd1\",\"type\":\"GlyphRenderer\"}],\"title\":\"simple line example\",\"tool_events\":{\"id\":\"d3505ad1-1667-4079-8256-5c51485b687d\",\"type\":\"ToolEvents\"},\"tools\":[{\"id\":\"6d350f5d-5cd4-498e-82a8-88b001ddf245\",\"type\":\"PanTool\"},{\"id\":\"207de146-e2f9-46ec-8edc-912b2e77bc52\",\"type\":\"WheelZoomTool\"},{\"id\":\"0de38a86-e4b8-4cf1-82f1-818773dd7ae8\",\"type\":\"BoxZoomTool\"},{\"id\":\"02b9e2dd-2ab3-4b36-b53b-a6c28a63493f\",\"type\":\"PreviewSaveTool\"},{\"id\":\"736490d1-2624-44ae-a39c-442dd9c27ab1\",\"type\":\"ResizeTool\"},{\"id\":\"eb380677-b7e6-4464-84c2-192736d72ab0\",\"type\":\"ResetTool\"},{\"id\":\"b9629b26-363f-4c3c-aa2f-30329efc968a\",\"type\":\"HelpTool\"}],\"x_range\":{\"id\":\"ced0d11f-04e3-4612-a7cc-a58882b884e0\",\"type\":\"DataRange1d\"},\"y_range\":{\"id\":\"2186c9b5-b8b4-4506-bd1d-8f91ea48fa93\",\"type\":\"DataRange1d\"}},\"id\":\"f6032e62-9709-450e-990b-1af60da13eb0\",\"subtype\":\"Figure\",\"type\":\"Plot\"},{\"attributes\":{},\"id\":\"55b77837-c50b-4a63-897e-dc70d9ea0bf2\",\"type\":\"ToolEvents\"},{\"attributes\":{\"callback\":null},\"id\":\"e6ca9060-c68c-49ad-8fd4-908e0d6bb498\",\"type\":\"DataRange1d\"},{\"attributes\":{\"legends\":[[\"Temp.\",[{\"id\":\"f4154e08-e7f4-4ecf-8016-b1011f7d6dd1\",\"type\":\"GlyphRenderer\"}]]],\"plot\":{\"id\":\"f6032e62-9709-450e-990b-1af60da13eb0\",\"subtype\":\"Figure\",\"type\":\"Plot\"}},\"id\":\"626bae24-e01d-4f98-b496-7395ddb92c51\",\"type\":\"Legend\"},{\"attributes\":{\"overlay\":{\"id\":\"e755fe69-efdb-4acf-bd7b-a5d7c0f47390\",\"type\":\"BoxAnnotation\"},\"plot\":{\"id\":\"d9ac6def-732b-42a3-af97-c59c898033f0\",\"subtype\":\"Chart\",\"type\":\"Plot\"}},\"id\":\"c913fafa-cf2f-4d63-87c9-80f89ae0f8e4\",\"type\":\"BoxZoomTool\"},{\"attributes\":{\"plot\":{\"id\":\"f6032e62-9709-450e-990b-1af60da13eb0\",\"subtype\":\"Figure\",\"type\":\"Plot\"}},\"id\":\"736490d1-2624-44ae-a39c-442dd9c27ab1\",\"type\":\"ResizeTool\"},{\"attributes\":{},\"id\":\"d3505ad1-1667-4079-8256-5c51485b687d\",\"type\":\"ToolEvents\"},{\"attributes\":{\"plot\":{\"id\":\"4f4de0f2-22aa-4a49-aecf-7b1198e90ea5\",\"subtype\":\"Figure\",\"type\":\"Plot\"},\"ticker\":{\"id\":\"d45c1259-71c3-45e7-ae2b-c1eaea851d07\",\"type\":\"BasicTicker\"}},\"id\":\"a2cdd776-8496-4d23-bfef-d9f3ecf28907\",\"type\":\"Grid\"},{\"attributes\":{\"plot\":{\"id\":\"bb5b007f-9c3b-473f-a5ec-f7aba899035e\",\"subtype\":\"Chart\",\"type\":\"Plot\"}},\"id\":\"e0b87edb-5170-4972-a236-abc026ede257\",\"type\":\"ResizeTool\"},{\"attributes\":{},\"id\":\"896e073a-1e70-487d-97ca-fe32b0ecf950\",\"type\":\"ToolEvents\"},{\"attributes\":{\"below\":[{\"id\":\"f297f37a-89a0-4b3b-9538-a788c9f16301\",\"type\":\"LinearAxis\"}],\"left\":[{\"id\":\"f5131a0d-0714-4944-a282-a9b07a0a50dd\",\"type\":\"LinearAxis\"}],\"legend\":true,\"renderers\":[{\"id\":\"2c034ef9-306f-49d3-a81f-d333d9cb21a6\",\"type\":\"BoxAnnotation\"},{\"id\":\"d73d83ee-65fb-4631-8359-4d458692a56f\",\"type\":\"GlyphRenderer\"},{\"id\":\"9adbb3c4-be73-4e48-b7dd-9071eb5e7c29\",\"type\":\"GlyphRenderer\"},{\"id\":\"f6e3bd1f-0cca-4160-bc29-1f37caae2935\",\"type\":\"GlyphRenderer\"},{\"id\":\"54da9529-e6f0-46e0-a421-b00e82304ece\",\"type\":\"Legend\"},{\"id\":\"f297f37a-89a0-4b3b-9538-a788c9f16301\",\"type\":\"LinearAxis\"},{\"id\":\"f5131a0d-0714-4944-a282-a9b07a0a50dd\",\"type\":\"LinearAxis\"},{\"id\":\"76a8d93d-514a-40e2-8dbc-274880196190\",\"type\":\"Grid\"},{\"id\":\"1e042fcd-bd27-4fef-82f2-d17de10fc0d1\",\"type\":\"Grid\"}],\"title\":\"Iris Dataset Color and Marker by Species\",\"title_text_font_size\":{\"value\":\"14pt\"},\"tool_events\":{\"id\":\"8cddbdf9-e22f-4cea-af6b-d12394f67e90\",\"type\":\"ToolEvents\"},\"tools\":[{\"id\":\"34bd890f-541c-4475-b992-7bcd82f0446f\",\"type\":\"PanTool\"},{\"id\":\"a8efd7e0-d70c-4741-9ce2-239adf8e14f2\",\"type\":\"WheelZoomTool\"},{\"id\":\"bf3aff6b-29fe-4848-93f7-e26d25bbcba3\",\"type\":\"BoxZoomTool\"},{\"id\":\"4a9f9ab2-93bc-40c9-a71c-2f2e7bbb372d\",\"type\":\"PreviewSaveTool\"},{\"id\":\"378048dd-343b-4650-94da-332c097e83aa\",\"type\":\"ResizeTool\"},{\"id\":\"443f89d2-9c15-4695-9f82-a59115109a6a\",\"type\":\"ResetTool\"},{\"id\":\"c80a796e-0e79-4d45-91fe-312be55dc54a\",\"type\":\"HelpTool\"}],\"x_mapper_type\":\"auto\",\"x_range\":{\"id\":\"93c4f246-8ff2-469d-8776-3ed38d0f2967\",\"type\":\"Range1d\"},\"xscale\":\"auto\",\"y_mapper_type\":\"auto\",\"y_range\":{\"id\":\"7e3be656-8f54-4216-814f-5137a64a60b0\",\"type\":\"Range1d\"},\"yscale\":\"auto\"},\"id\":\"2875a362-8a2f-4a26-88bb-f000e10af8bc\",\"subtype\":\"Chart\",\"type\":\"Plot\"},{\"attributes\":{\"plot\":{\"id\":\"49c11811-f21e-4043-964e-12a28838fe16\",\"subtype\":\"Figure\",\"type\":\"Plot\"}},\"id\":\"27bbe120-96fe-4020-9d0f-585c9faf59db\",\"type\":\"ResetTool\"},{\"attributes\":{\"line_color\":{\"value\":\"#1f77b4\"},\"line_width\":{\"value\":2},\"x\":{\"field\":\"x\"},\"y\":{\"field\":\"y\"}},\"id\":\"ed7596fc-4fe3-4eb4-b732-5c79a79548fb\",\"type\":\"Line\"},{\"attributes\":{\"callback\":null,\"column_names\":[\"y\",\"x\"],\"data\":{\"x\":[1,2,3,4,5],\"y\":[6,7,2,4,5]}},\"id\":\"c5c2bdc3-80b6-4029-82af-9e59a2d371ae\",\"type\":\"ColumnDataSource\"},{\"attributes\":{\"bottom_units\":\"screen\",\"fill_alpha\":{\"value\":0.5},\"fill_color\":{\"value\":\"lightgrey\"},\"left_units\":\"screen\",\"level\":\"overlay\",\"line_alpha\":{\"value\":1.0},\"line_color\":{\"value\":\"black\"},\"line_dash\":[4,4],\"line_width\":{\"value\":2},\"plot\":null,\"render_mode\":\"css\",\"right_units\":\"screen\",\"top_units\":\"screen\"},\"id\":\"5471b338-9f4c-4e46-a238-9af583d6fe34\",\"type\":\"BoxAnnotation\"},{\"attributes\":{\"plot\":{\"id\":\"bb5b007f-9c3b-473f-a5ec-f7aba899035e\",\"subtype\":\"Chart\",\"type\":\"Plot\"}},\"id\":\"9b0282ed-bdce-47ca-b718-472fcab59b16\",\"type\":\"ResetTool\"},{\"attributes\":{\"callback\":null,\"end\":7.49,\"start\":0.4099999999999999},\"id\":\"66ca446d-08c2-40cb-bc8e-7e9663368411\",\"type\":\"Range1d\"},{\"attributes\":{},\"id\":\"060dc1bf-58bd-499a-9793-6cea9d3cc4c2\",\"type\":\"BasicTicker\"},{\"attributes\":{},\"id\":\"25998c3d-2c1a-49f5-826b-a964e037237c\",\"type\":\"BasicTicker\"},{\"attributes\":{\"data_source\":{\"id\":\"e73fa65c-a20d-4dcd-bd1e-64468474f9ed\",\"type\":\"ColumnDataSource\"},\"glyph\":{\"id\":\"4473dced-3ba0-4e05-85fc-184bc739b20c\",\"type\":\"Triangle\"},\"hover_glyph\":null,\"nonselection_glyph\":null,\"selection_glyph\":null},\"id\":\"dc533126-2a71-4bae-92ab-de652f98422a\",\"type\":\"GlyphRenderer\"},{\"attributes\":{},\"id\":\"0da2f08f-2ced-45ed-950f-8380c9e4a65f\",\"type\":\"BasicTickFormatter\"},{\"attributes\":{},\"id\":\"d45c1259-71c3-45e7-ae2b-c1eaea851d07\",\"type\":\"BasicTicker\"},{\"attributes\":{\"data_source\":{\"id\":\"b76fcc1a-faf6-41a5-b60b-312e6e6e3406\",\"type\":\"ColumnDataSource\"},\"glyph\":{\"id\":\"ee43c4dd-11bd-4797-8186-52e9d0715e89\",\"type\":\"Circle\"},\"hover_glyph\":null,\"nonselection_glyph\":null,\"selection_glyph\":null},\"id\":\"276733ee-5010-4485-b000-8993e5bec73e\",\"type\":\"GlyphRenderer\"},{\"attributes\":{\"overlay\":{\"id\":\"d7961be5-0560-4cd0-85ef-7557cb1f7f2b\",\"type\":\"BoxAnnotation\"},\"plot\":{\"id\":\"bb5b007f-9c3b-473f-a5ec-f7aba899035e\",\"subtype\":\"Chart\",\"type\":\"Plot\"}},\"id\":\"180b3391-5659-4322-8d6e-e9f53890c7ae\",\"type\":\"BoxZoomTool\"},{\"attributes\":{\"plot\":{\"id\":\"4f4de0f2-22aa-4a49-aecf-7b1198e90ea5\",\"subtype\":\"Figure\",\"type\":\"Plot\"}},\"id\":\"a7579f63-b8b6-4d17-878f-4ef0429b3cdc\",\"type\":\"PanTool\"},{\"attributes\":{\"data_source\":{\"id\":\"1597ab4a-2573-496f-9886-629fbe181cdc\",\"type\":\"ColumnDataSource\"},\"glyph\":{\"id\":\"7f4e0540-b08b-46e1-87a4-c72e43389194\",\"type\":\"Line\"},\"hover_glyph\":null,\"nonselection_glyph\":{\"id\":\"5bd37493-6296-426f-a123-70fab9c0d709\",\"type\":\"Line\"},\"selection_glyph\":null},\"id\":\"f4154e08-e7f4-4ecf-8016-b1011f7d6dd1\",\"type\":\"GlyphRenderer\"},{\"attributes\":{\"bottom_units\":\"screen\",\"fill_alpha\":{\"value\":0.5},\"fill_color\":{\"value\":\"lightgrey\"},\"left_units\":\"screen\",\"level\":\"overlay\",\"line_alpha\":{\"value\":1.0},\"line_color\":{\"value\":\"black\"},\"line_dash\":[4,4],\"line_width\":{\"value\":2},\"plot\":null,\"render_mode\":\"css\",\"right_units\":\"screen\",\"top_units\":\"screen\"},\"id\":\"a2c01634-2cdd-47dc-87c0-31e5fa521735\",\"type\":\"BoxAnnotation\"},{\"attributes\":{\"below\":[{\"id\":\"afd16830-5b88-4188-a0c5-e57fb65e5dc0\",\"type\":\"LinearAxis\"}],\"left\":[{\"id\":\"503f5230-9fa5-4f98-b0d9-19b15332f881\",\"type\":\"LinearAxis\"}],\"legend\":true,\"renderers\":[{\"id\":\"d7961be5-0560-4cd0-85ef-7557cb1f7f2b\",\"type\":\"BoxAnnotation\"},{\"id\":\"276733ee-5010-4485-b000-8993e5bec73e\",\"type\":\"GlyphRenderer\"},{\"id\":\"44fc6c92-0a26-483c-a139-4680afc347a8\",\"type\":\"GlyphRenderer\"},{\"id\":\"4d7c6d2a-6a52-496d-ab6c-e000a242132a\",\"type\":\"GlyphRenderer\"},{\"id\":\"a77c7b32-9d61-457d-84fe-00f82d7f30a7\",\"type\":\"Legend\"},{\"id\":\"afd16830-5b88-4188-a0c5-e57fb65e5dc0\",\"type\":\"LinearAxis\"},{\"id\":\"503f5230-9fa5-4f98-b0d9-19b15332f881\",\"type\":\"LinearAxis\"},{\"id\":\"944c58bd-35f8-49c2-ad1c-7239867481ac\",\"type\":\"Grid\"},{\"id\":\"08be7557-1f5a-46dd-b341-a32f695cfb3d\",\"type\":\"Grid\"}],\"title\":\"Iris Dataset Color and Marker by Species\",\"title_text_font_size\":{\"value\":\"14pt\"},\"tool_events\":{\"id\":\"1dace4a9-c3fa-4b4e-953e-9f99f1a464ab\",\"type\":\"ToolEvents\"},\"tools\":[{\"id\":\"f8b1e509-6372-4930-a0eb-5fa1419c9682\",\"type\":\"PanTool\"},{\"id\":\"1728bb41-a2ea-4c39-8ae2-062c07dd8893\",\"type\":\"WheelZoomTool\"},{\"id\":\"180b3391-5659-4322-8d6e-e9f53890c7ae\",\"type\":\"BoxZoomTool\"},{\"id\":\"351acafc-bc41-4250-a7a5-faf7baffc85a\",\"type\":\"PreviewSaveTool\"},{\"id\":\"e0b87edb-5170-4972-a236-abc026ede257\",\"type\":\"ResizeTool\"},{\"id\":\"9b0282ed-bdce-47ca-b718-472fcab59b16\",\"type\":\"ResetTool\"},{\"id\":\"f1338773-ab90-499e-991a-405beba89e18\",\"type\":\"HelpTool\"}],\"x_mapper_type\":\"auto\",\"x_range\":{\"id\":\"66ca446d-08c2-40cb-bc8e-7e9663368411\",\"type\":\"Range1d\"},\"xscale\":\"auto\",\"y_mapper_type\":\"auto\",\"y_range\":{\"id\":\"a9436434-5c37-44a1-aff3-3bfb603f53c5\",\"type\":\"Range1d\"},\"yscale\":\"auto\"},\"id\":\"bb5b007f-9c3b-473f-a5ec-f7aba899035e\",\"subtype\":\"Chart\",\"type\":\"Plot\"},{\"attributes\":{\"line_alpha\":{\"value\":0.1},\"line_color\":{\"value\":\"#1f77b4\"},\"line_width\":{\"value\":2},\"x\":{\"field\":\"x\"},\"y\":{\"field\":\"y\"}},\"id\":\"2333ccfb-0786-4fc9-a28a-20c2bed90690\",\"type\":\"Line\"},{\"attributes\":{\"axis_label\":\"petal_width\",\"formatter\":{\"id\":\"cf3ace49-ee38-4826-a2b5-43120f1f43f9\",\"type\":\"BasicTickFormatter\"},\"plot\":{\"id\":\"bb5b007f-9c3b-473f-a5ec-f7aba899035e\",\"subtype\":\"Chart\",\"type\":\"Plot\"},\"ticker\":{\"id\":\"00cfdad3-b93f-4199-b9bf-da2a6c008008\",\"type\":\"BasicTicker\"}},\"id\":\"503f5230-9fa5-4f98-b0d9-19b15332f881\",\"type\":\"LinearAxis\"},{\"attributes\":{\"bottom_units\":\"screen\",\"fill_alpha\":{\"value\":0.5},\"fill_color\":{\"value\":\"lightgrey\"},\"left_units\":\"screen\",\"level\":\"overlay\",\"line_alpha\":{\"value\":1.0},\"line_color\":{\"value\":\"black\"},\"line_dash\":[4,4],\"line_width\":{\"value\":2},\"plot\":null,\"render_mode\":\"css\",\"right_units\":\"screen\",\"top_units\":\"screen\"},\"id\":\"e755fe69-efdb-4acf-bd7b-a5d7c0f47390\",\"type\":\"BoxAnnotation\"},{\"attributes\":{},\"id\":\"8cddbdf9-e22f-4cea-af6b-d12394f67e90\",\"type\":\"ToolEvents\"},{\"attributes\":{\"callback\":null,\"column_names\":[\"x_values\",\"y_values\"],\"data\":{\"chart_index\":[{\"species\":\"virginica\"},{\"species\":\"virginica\"},{\"species\":\"virginica\"},{\"species\":\"virginica\"},{\"species\":\"virginica\"},{\"species\":\"virginica\"},{\"species\":\"virginica\"},{\"species\":\"virginica\"},{\"species\":\"virginica\"},{\"species\":\"virginica\"},{\"species\":\"virginica\"},{\"species\":\"virginica\"},{\"species\":\"virginica\"},{\"species\":\"virginica\"},{\"species\":\"virginica\"},{\"species\":\"virginica\"},{\"species\":\"virginica\"},{\"species\":\"virginica\"},{\"species\":\"virginica\"},{\"species\":\"virginica\"},{\"species\":\"virginica\"},{\"species\":\"virginica\"},{\"species\":\"virginica\"},{\"species\":\"virginica\"},{\"species\":\"virginica\"},{\"species\":\"virginica\"},{\"species\":\"virginica\"},{\"species\":\"virginica\"},{\"species\":\"virginica\"},{\"species\":\"virginica\"},{\"species\":\"virginica\"},{\"species\":\"virginica\"},{\"species\":\"virginica\"},{\"species\":\"virginica\"},{\"species\":\"virginica\"},{\"species\":\"virginica\"},{\"species\":\"virginica\"},{\"species\":\"virginica\"},{\"species\":\"virginica\"},{\"species\":\"virginica\"},{\"species\":\"virginica\"},{\"species\":\"virginica\"},{\"species\":\"virginica\"},{\"species\":\"virginica\"},{\"species\":\"virginica\"},{\"species\":\"virginica\"},{\"species\":\"virginica\"},{\"species\":\"virginica\"},{\"species\":\"virginica\"},{\"species\":\"virginica\"}],\"species\":[\"virginica\",\"virginica\",\"virginica\",\"virginica\",\"virginica\",\"virginica\",\"virginica\",\"virginica\",\"virginica\",\"virginica\",\"virginica\",\"virginica\",\"virginica\",\"virginica\",\"virginica\",\"virginica\",\"virginica\",\"virginica\",\"virginica\",\"virginica\",\"virginica\",\"virginica\",\"virginica\",\"virginica\",\"virginica\",\"virginica\",\"virginica\",\"virginica\",\"virginica\",\"virginica\",\"virginica\",\"virginica\",\"virginica\",\"virginica\",\"virginica\",\"virginica\",\"virginica\",\"virginica\",\"virginica\",\"virginica\",\"virginica\",\"virginica\",\"virginica\",\"virginica\",\"virginica\",\"virginica\",\"virginica\",\"virginica\",\"virginica\",\"virginica\"],\"x_values\":[6.0,5.1,5.9,5.6,5.8,6.6,4.5,6.3,5.8,6.1,5.1,5.3,5.5,5.0,5.1,5.3,5.5,6.7,6.9,5.0,5.7,4.9,6.7,4.9,5.7,6.0,4.8,4.9,5.6,5.8,6.1,6.4,5.6,5.1,5.6,6.1,5.6,5.5,4.8,5.4,5.6,5.1,5.1,5.9,5.7,5.2,5.0,5.2,5.4,5.1],\"y_values\":[2.5,1.9,2.1,1.8,2.2,2.1,1.7,1.8,1.8,2.5,2.0,1.9,2.1,2.0,2.4,2.3,1.8,2.2,2.3,1.5,2.3,2.0,2.0,1.8,2.1,1.8,1.8,1.8,2.1,1.6,1.9,2.0,2.2,1.5,1.4,2.3,2.4,1.8,1.8,2.1,2.4,2.3,1.9,2.3,2.5,2.3,1.9,2.0,2.3,1.8]}},\"id\":\"04bf5c34-00ae-45f6-8033-1f38a2f478ea\",\"type\":\"ColumnDataSource\"},{\"attributes\":{\"plot\":{\"id\":\"f6032e62-9709-450e-990b-1af60da13eb0\",\"subtype\":\"Figure\",\"type\":\"Plot\"}},\"id\":\"6d350f5d-5cd4-498e-82a8-88b001ddf245\",\"type\":\"PanTool\"},{\"attributes\":{\"plot\":{\"id\":\"49c11811-f21e-4043-964e-12a28838fe16\",\"subtype\":\"Figure\",\"type\":\"Plot\"}},\"id\":\"76daa67e-db32-4fca-ac8a-b2e7ce00a399\",\"type\":\"PreviewSaveTool\"},{\"attributes\":{\"plot\":{\"id\":\"f6032e62-9709-450e-990b-1af60da13eb0\",\"subtype\":\"Figure\",\"type\":\"Plot\"}},\"id\":\"eb380677-b7e6-4464-84c2-192736d72ab0\",\"type\":\"ResetTool\"},{\"attributes\":{},\"id\":\"414963d6-918e-4927-90fc-9cf0c0b36c71\",\"type\":\"BasicTicker\"},{\"attributes\":{\"overlay\":{\"id\":\"5471b338-9f4c-4e46-a238-9af583d6fe34\",\"type\":\"BoxAnnotation\"},\"plot\":{\"id\":\"49c11811-f21e-4043-964e-12a28838fe16\",\"subtype\":\"Figure\",\"type\":\"Plot\"}},\"id\":\"7cf34ce7-a5e4-4088-a1b5-6b9d0eac262e\",\"type\":\"BoxZoomTool\"},{\"attributes\":{\"legends\":[[\"Temp.\",[{\"id\":\"97d85838-15ac-46de-b742-84de63ccdfb9\",\"type\":\"GlyphRenderer\"}]]],\"plot\":{\"id\":\"49c11811-f21e-4043-964e-12a28838fe16\",\"subtype\":\"Figure\",\"type\":\"Plot\"}},\"id\":\"5e728cc2-0df5-4a78-b33e-5ef290be5fc1\",\"type\":\"Legend\"},{\"attributes\":{},\"id\":\"6cc6539a-1fb1-411e-aee8-1a481823dd7a\",\"type\":\"BasicTickFormatter\"},{\"attributes\":{\"plot\":{\"id\":\"2875a362-8a2f-4a26-88bb-f000e10af8bc\",\"subtype\":\"Chart\",\"type\":\"Plot\"}},\"id\":\"a8efd7e0-d70c-4741-9ce2-239adf8e14f2\",\"type\":\"WheelZoomTool\"},{\"attributes\":{\"plot\":{\"id\":\"4f4de0f2-22aa-4a49-aecf-7b1198e90ea5\",\"subtype\":\"Figure\",\"type\":\"Plot\"}},\"id\":\"168f43df-e844-40d3-a9dc-15a5f3d84300\",\"type\":\"ResizeTool\"},{\"attributes\":{\"dimension\":1,\"plot\":{\"id\":\"d9ac6def-732b-42a3-af97-c59c898033f0\",\"subtype\":\"Chart\",\"type\":\"Plot\"},\"ticker\":{\"id\":\"e6dcbda7-8eb0-4372-9f3a-8dc478761361\",\"type\":\"BasicTicker\"}},\"id\":\"83400d85-965d-4b19-94a9-58a745e02502\",\"type\":\"Grid\"},{\"attributes\":{\"fill_alpha\":{\"value\":0.7},\"fill_color\":{\"value\":\"#5ab738\"},\"line_color\":{\"value\":\"#5ab738\"},\"size\":{\"units\":\"screen\",\"value\":8},\"x\":{\"field\":\"x_values\"},\"y\":{\"field\":\"y_values\"}},\"id\":\"24495164-2b3d-4d92-b877-d0f621ed955d\",\"type\":\"Square\"},{\"attributes\":{\"callback\":null,\"column_names\":[\"x_values\",\"y_values\"],\"data\":{\"chart_index\":[{\"species\":\"virginica\"},{\"species\":\"virginica\"},{\"species\":\"virginica\"},{\"species\":\"virginica\"},{\"species\":\"virginica\"},{\"species\":\"virginica\"},{\"species\":\"virginica\"},{\"species\":\"virginica\"},{\"species\":\"virginica\"},{\"species\":\"virginica\"},{\"species\":\"virginica\"},{\"species\":\"virginica\"},{\"species\":\"virginica\"},{\"species\":\"virginica\"},{\"species\":\"virginica\"},{\"species\":\"virginica\"},{\"species\":\"virginica\"},{\"species\":\"virginica\"},{\"species\":\"virginica\"},{\"species\":\"virginica\"},{\"species\":\"virginica\"},{\"species\":\"virginica\"},{\"species\":\"virginica\"},{\"species\":\"virginica\"},{\"species\":\"virginica\"},{\"species\":\"virginica\"},{\"species\":\"virginica\"},{\"species\":\"virginica\"},{\"species\":\"virginica\"},{\"species\":\"virginica\"},{\"species\":\"virginica\"},{\"species\":\"virginica\"},{\"species\":\"virginica\"},{\"species\":\"virginica\"},{\"species\":\"virginica\"},{\"species\":\"virginica\"},{\"species\":\"virginica\"},{\"species\":\"virginica\"},{\"species\":\"virginica\"},{\"species\":\"virginica\"},{\"species\":\"virginica\"},{\"species\":\"virginica\"},{\"species\":\"virginica\"},{\"species\":\"virginica\"},{\"species\":\"virginica\"},{\"species\":\"virginica\"},{\"species\":\"virginica\"},{\"species\":\"virginica\"},{\"species\":\"virginica\"},{\"species\":\"virginica\"}],\"species\":[\"virginica\",\"virginica\",\"virginica\",\"virginica\",\"virginica\",\"virginica\",\"virginica\",\"virginica\",\"virginica\",\"virginica\",\"virginica\",\"virginica\",\"virginica\",\"virginica\",\"virginica\",\"virginica\",\"virginica\",\"virginica\",\"virginica\",\"virginica\",\"virginica\",\"virginica\",\"virginica\",\"virginica\",\"virginica\",\"virginica\",\"virginica\",\"virginica\",\"virginica\",\"virginica\",\"virginica\",\"virginica\",\"virginica\",\"virginica\",\"virginica\",\"virginica\",\"virginica\",\"virginica\",\"virginica\",\"virginica\",\"virginica\",\"virginica\",\"virginica\",\"virginica\",\"virginica\",\"virginica\",\"virginica\",\"virginica\",\"virginica\",\"virginica\"],\"x_values\":[6.0,5.1,5.9,5.6,5.8,6.6,4.5,6.3,5.8,6.1,5.1,5.3,5.5,5.0,5.1,5.3,5.5,6.7,6.9,5.0,5.7,4.9,6.7,4.9,5.7,6.0,4.8,4.9,5.6,5.8,6.1,6.4,5.6,5.1,5.6,6.1,5.6,5.5,4.8,5.4,5.6,5.1,5.1,5.9,5.7,5.2,5.0,5.2,5.4,5.1],\"y_values\":[2.5,1.9,2.1,1.8,2.2,2.1,1.7,1.8,1.8,2.5,2.0,1.9,2.1,2.0,2.4,2.3,1.8,2.2,2.3,1.5,2.3,2.0,2.0,1.8,2.1,1.8,1.8,1.8,2.1,1.6,1.9,2.0,2.2,1.5,1.4,2.3,2.4,1.8,1.8,2.1,2.4,2.3,1.9,2.3,2.5,2.3,1.9,2.0,2.3,1.8]}},\"id\":\"ce237e1d-8e5a-479f-8843-05ef73d9e1ce\",\"type\":\"ColumnDataSource\"},{\"attributes\":{\"plot\":{\"id\":\"d9ac6def-732b-42a3-af97-c59c898033f0\",\"subtype\":\"Chart\",\"type\":\"Plot\"}},\"id\":\"389dbf1f-55f1-4789-b725-42a6afe419eb\",\"type\":\"PreviewSaveTool\"},{\"attributes\":{\"plot\":{\"id\":\"2875a362-8a2f-4a26-88bb-f000e10af8bc\",\"subtype\":\"Chart\",\"type\":\"Plot\"},\"ticker\":{\"id\":\"414963d6-918e-4927-90fc-9cf0c0b36c71\",\"type\":\"BasicTicker\"}},\"id\":\"76a8d93d-514a-40e2-8dbc-274880196190\",\"type\":\"Grid\"},{\"attributes\":{\"plot\":{\"id\":\"49c11811-f21e-4043-964e-12a28838fe16\",\"subtype\":\"Figure\",\"type\":\"Plot\"}},\"id\":\"e38851de-6354-4156-ba80-24a9d92b3f8b\",\"type\":\"ResizeTool\"},{\"attributes\":{\"plot\":{\"id\":\"2a774e5c-3a34-4e72-9c24-52609582b2cf\",\"subtype\":\"Chart\",\"type\":\"Plot\"},\"ticker\":{\"id\":\"9c0ca514-87ad-4852-9ae1-03025563fc03\",\"type\":\"BasicTicker\"}},\"id\":\"30e7a5a6-038f-4451-92ce-2fe67f745a73\",\"type\":\"Grid\"},{\"attributes\":{\"line_alpha\":{\"value\":0.1},\"line_color\":{\"value\":\"#1f77b4\"},\"line_width\":{\"value\":2},\"x\":{\"field\":\"x\"},\"y\":{\"field\":\"y\"}},\"id\":\"5bd37493-6296-426f-a123-70fab9c0d709\",\"type\":\"Line\"},{\"attributes\":{\"plot\":{\"id\":\"2875a362-8a2f-4a26-88bb-f000e10af8bc\",\"subtype\":\"Chart\",\"type\":\"Plot\"}},\"id\":\"443f89d2-9c15-4695-9f82-a59115109a6a\",\"type\":\"ResetTool\"},{\"attributes\":{\"plot\":{\"id\":\"4f4de0f2-22aa-4a49-aecf-7b1198e90ea5\",\"subtype\":\"Figure\",\"type\":\"Plot\"}},\"id\":\"d63bddc3-20ed-4da5-9db5-ca1e15538b48\",\"type\":\"WheelZoomTool\"},{\"attributes\":{},\"id\":\"ffab8d56-be62-478e-9586-c246214ac7f1\",\"type\":\"ToolEvents\"},{\"attributes\":{\"axis_label\":\"petal_length\",\"formatter\":{\"id\":\"ffc92aa8-0acb-4e41-8244-d321c0111a94\",\"type\":\"BasicTickFormatter\"},\"plot\":{\"id\":\"2875a362-8a2f-4a26-88bb-f000e10af8bc\",\"subtype\":\"Chart\",\"type\":\"Plot\"},\"ticker\":{\"id\":\"414963d6-918e-4927-90fc-9cf0c0b36c71\",\"type\":\"BasicTicker\"}},\"id\":\"f297f37a-89a0-4b3b-9538-a788c9f16301\",\"type\":\"LinearAxis\"},{\"attributes\":{\"plot\":{\"id\":\"bb5b007f-9c3b-473f-a5ec-f7aba899035e\",\"subtype\":\"Chart\",\"type\":\"Plot\"}},\"id\":\"1728bb41-a2ea-4c39-8ae2-062c07dd8893\",\"type\":\"WheelZoomTool\"},{\"attributes\":{\"callback\":null,\"end\":2.74,\"start\":-0.13999999999999999},\"id\":\"977d8ad0-d79b-468c-84de-9e01e88c614a\",\"type\":\"Range1d\"},{\"attributes\":{\"data_source\":{\"id\":\"150c5a0b-40db-4c00-88ab-065ff79f91ec\",\"type\":\"ColumnDataSource\"},\"glyph\":{\"id\":\"984fdc59-6e60-40e3-a03d-d19f5560e0f5\",\"type\":\"Circle\"},\"hover_glyph\":null,\"nonselection_glyph\":null,\"selection_glyph\":null},\"id\":\"b199b3c5-6281-4a0d-80d0-d48a5826284c\",\"type\":\"GlyphRenderer\"},{\"attributes\":{\"callback\":null},\"id\":\"a55d0754-c18c-4d62-ac4c-2c8f598ef5c4\",\"type\":\"DataRange1d\"},{\"attributes\":{\"axis_label\":\"y\",\"formatter\":{\"id\":\"c47dcd14-7f5d-4107-8de3-0f34829d0f49\",\"type\":\"BasicTickFormatter\"},\"plot\":{\"id\":\"f6032e62-9709-450e-990b-1af60da13eb0\",\"subtype\":\"Figure\",\"type\":\"Plot\"},\"ticker\":{\"id\":\"060dc1bf-58bd-499a-9793-6cea9d3cc4c2\",\"type\":\"BasicTicker\"}},\"id\":\"6bf6a3f7-c920-4c0c-9eb7-1d4b97d8274e\",\"type\":\"LinearAxis\"},{\"attributes\":{\"plot\":{\"id\":\"f6032e62-9709-450e-990b-1af60da13eb0\",\"subtype\":\"Figure\",\"type\":\"Plot\"}},\"id\":\"b9629b26-363f-4c3c-aa2f-30329efc968a\",\"type\":\"HelpTool\"},{\"attributes\":{\"callback\":null,\"column_names\":[\"x_values\",\"y_values\"],\"data\":{\"chart_index\":[{\"species\":\"versicolor\"},{\"species\":\"versicolor\"},{\"species\":\"versicolor\"},{\"species\":\"versicolor\"},{\"species\":\"versicolor\"},{\"species\":\"versicolor\"},{\"species\":\"versicolor\"},{\"species\":\"versicolor\"},{\"species\":\"versicolor\"},{\"species\":\"versicolor\"},{\"species\":\"versicolor\"},{\"species\":\"versicolor\"},{\"species\":\"versicolor\"},{\"species\":\"versicolor\"},{\"species\":\"versicolor\"},{\"species\":\"versicolor\"},{\"species\":\"versicolor\"},{\"species\":\"versicolor\"},{\"species\":\"versicolor\"},{\"species\":\"versicolor\"},{\"species\":\"versicolor\"},{\"species\":\"versicolor\"},{\"species\":\"versicolor\"},{\"species\":\"versicolor\"},{\"species\":\"versicolor\"},{\"species\":\"versicolor\"},{\"species\":\"versicolor\"},{\"species\":\"versicolor\"},{\"species\":\"versicolor\"},{\"species\":\"versicolor\"},{\"species\":\"versicolor\"},{\"species\":\"versicolor\"},{\"species\":\"versicolor\"},{\"species\":\"versicolor\"},{\"species\":\"versicolor\"},{\"species\":\"versicolor\"},{\"species\":\"versicolor\"},{\"species\":\"versicolor\"},{\"species\":\"versicolor\"},{\"species\":\"versicolor\"},{\"species\":\"versicolor\"},{\"species\":\"versicolor\"},{\"species\":\"versicolor\"},{\"species\":\"versicolor\"},{\"species\":\"versicolor\"},{\"species\":\"versicolor\"},{\"species\":\"versicolor\"},{\"species\":\"versicolor\"},{\"species\":\"versicolor\"},{\"species\":\"versicolor\"}],\"species\":[\"versicolor\",\"versicolor\",\"versicolor\",\"versicolor\",\"versicolor\",\"versicolor\",\"versicolor\",\"versicolor\",\"versicolor\",\"versicolor\",\"versicolor\",\"versicolor\",\"versicolor\",\"versicolor\",\"versicolor\",\"versicolor\",\"versicolor\",\"versicolor\",\"versicolor\",\"versicolor\",\"versicolor\",\"versicolor\",\"versicolor\",\"versicolor\",\"versicolor\",\"versicolor\",\"versicolor\",\"versicolor\",\"versicolor\",\"versicolor\",\"versicolor\",\"versicolor\",\"versicolor\",\"versicolor\",\"versicolor\",\"versicolor\",\"versicolor\",\"versicolor\",\"versicolor\",\"versicolor\",\"versicolor\",\"versicolor\",\"versicolor\",\"versicolor\",\"versicolor\",\"versicolor\",\"versicolor\",\"versicolor\",\"versicolor\",\"versicolor\"],\"x_values\":[4.7,4.5,4.9,4.0,4.6,4.5,4.7,3.3,4.6,3.9,3.5,4.2,4.0,4.7,3.6,4.4,4.5,4.1,4.5,3.9,4.8,4.0,4.9,4.7,4.3,4.4,4.8,5.0,4.5,3.5,3.8,3.7,3.9,5.1,4.5,4.5,4.7,4.4,4.1,4.0,4.4,4.6,4.0,3.3,4.2,4.2,4.2,4.3,3.0,4.1],\"y_values\":[1.4,1.5,1.5,1.3,1.5,1.3,1.6,1.0,1.3,1.4,1.0,1.5,1.0,1.4,1.3,1.4,1.5,1.0,1.5,1.1,1.8,1.3,1.5,1.2,1.3,1.4,1.4,1.7,1.5,1.0,1.1,1.0,1.2,1.6,1.5,1.6,1.5,1.3,1.3,1.3,1.2,1.4,1.2,1.0,1.3,1.2,1.3,1.3,1.1,1.3]}},\"id\":\"8b29ffae-6ecc-4101-9903-96e747a8aef3\",\"type\":\"ColumnDataSource\"},{\"attributes\":{\"plot\":{\"id\":\"2875a362-8a2f-4a26-88bb-f000e10af8bc\",\"subtype\":\"Chart\",\"type\":\"Plot\"}},\"id\":\"34bd890f-541c-4475-b992-7bcd82f0446f\",\"type\":\"PanTool\"},{\"attributes\":{},\"id\":\"a0e55efc-ae9f-4862-9b80-d7d8b34ef22b\",\"type\":\"BasicTickFormatter\"},{\"attributes\":{\"data_source\":{\"id\":\"744d2db1-0771-48c0-88fe-92ab0daf495c\",\"type\":\"ColumnDataSource\"},\"glyph\":{\"id\":\"12f0e0ee-d252-4a38-bcf4-0eabfe44db89\",\"type\":\"Triangle\"},\"hover_glyph\":null,\"nonselection_glyph\":null,\"selection_glyph\":null},\"id\":\"7c6a667a-1799-4554-9203-f44c6416bdf6\",\"type\":\"GlyphRenderer\"},{\"attributes\":{\"overlay\":{\"id\":\"a2c01634-2cdd-47dc-87c0-31e5fa521735\",\"type\":\"BoxAnnotation\"},\"plot\":{\"id\":\"4f4de0f2-22aa-4a49-aecf-7b1198e90ea5\",\"subtype\":\"Figure\",\"type\":\"Plot\"}},\"id\":\"123652b8-0dac-4a94-b4ba-a27e0b124e83\",\"type\":\"BoxZoomTool\"},{\"attributes\":{\"line_color\":{\"value\":\"#1f77b4\"},\"line_width\":{\"value\":2},\"x\":{\"field\":\"x\"},\"y\":{\"field\":\"y\"}},\"id\":\"7f4e0540-b08b-46e1-87a4-c72e43389194\",\"type\":\"Line\"},{\"attributes\":{\"plot\":{\"id\":\"4f4de0f2-22aa-4a49-aecf-7b1198e90ea5\",\"subtype\":\"Figure\",\"type\":\"Plot\"}},\"id\":\"79cd7c98-c2bb-4726-8660-d1bec9ec59e7\",\"type\":\"PreviewSaveTool\"},{\"attributes\":{\"callback\":null,\"column_names\":[\"y\",\"x\"],\"data\":{\"x\":[1,2,3,4,5],\"y\":[6,7,2,4,5]}},\"id\":\"e4a6c18d-8829-4a26-bef3-5e89042d38f1\",\"type\":\"ColumnDataSource\"},{\"attributes\":{\"plot\":{\"id\":\"2a774e5c-3a34-4e72-9c24-52609582b2cf\",\"subtype\":\"Chart\",\"type\":\"Plot\"}},\"id\":\"4f1c74e8-cd16-4bfc-88b9-5beef7498557\",\"type\":\"ResetTool\"},{\"attributes\":{\"callback\":null,\"column_names\":[\"x_values\",\"y_values\"],\"data\":{\"chart_index\":[{\"species\":\"virginica\"},{\"species\":\"virginica\"},{\"species\":\"virginica\"},{\"species\":\"virginica\"},{\"species\":\"virginica\"},{\"species\":\"virginica\"},{\"species\":\"virginica\"},{\"species\":\"virginica\"},{\"species\":\"virginica\"},{\"species\":\"virginica\"},{\"species\":\"virginica\"},{\"species\":\"virginica\"},{\"species\":\"virginica\"},{\"species\":\"virginica\"},{\"species\":\"virginica\"},{\"species\":\"virginica\"},{\"species\":\"virginica\"},{\"species\":\"virginica\"},{\"species\":\"virginica\"},{\"species\":\"virginica\"},{\"species\":\"virginica\"},{\"species\":\"virginica\"},{\"species\":\"virginica\"},{\"species\":\"virginica\"},{\"species\":\"virginica\"},{\"species\":\"virginica\"},{\"species\":\"virginica\"},{\"species\":\"virginica\"},{\"species\":\"virginica\"},{\"species\":\"virginica\"},{\"species\":\"virginica\"},{\"species\":\"virginica\"},{\"species\":\"virginica\"},{\"species\":\"virginica\"},{\"species\":\"virginica\"},{\"species\":\"virginica\"},{\"species\":\"virginica\"},{\"species\":\"virginica\"},{\"species\":\"virginica\"},{\"species\":\"virginica\"},{\"species\":\"virginica\"},{\"species\":\"virginica\"},{\"species\":\"virginica\"},{\"species\":\"virginica\"},{\"species\":\"virginica\"},{\"species\":\"virginica\"},{\"species\":\"virginica\"},{\"species\":\"virginica\"},{\"species\":\"virginica\"},{\"species\":\"virginica\"}],\"species\":[\"virginica\",\"virginica\",\"virginica\",\"virginica\",\"virginica\",\"virginica\",\"virginica\",\"virginica\",\"virginica\",\"virginica\",\"virginica\",\"virginica\",\"virginica\",\"virginica\",\"virginica\",\"virginica\",\"virginica\",\"virginica\",\"virginica\",\"virginica\",\"virginica\",\"virginica\",\"virginica\",\"virginica\",\"virginica\",\"virginica\",\"virginica\",\"virginica\",\"virginica\",\"virginica\",\"virginica\",\"virginica\",\"virginica\",\"virginica\",\"virginica\",\"virginica\",\"virginica\",\"virginica\",\"virginica\",\"virginica\",\"virginica\",\"virginica\",\"virginica\",\"virginica\",\"virginica\",\"virginica\",\"virginica\",\"virginica\",\"virginica\",\"virginica\"],\"x_values\":[6.0,5.1,5.9,5.6,5.8,6.6,4.5,6.3,5.8,6.1,5.1,5.3,5.5,5.0,5.1,5.3,5.5,6.7,6.9,5.0,5.7,4.9,6.7,4.9,5.7,6.0,4.8,4.9,5.6,5.8,6.1,6.4,5.6,5.1,5.6,6.1,5.6,5.5,4.8,5.4,5.6,5.1,5.1,5.9,5.7,5.2,5.0,5.2,5.4,5.1],\"y_values\":[2.5,1.9,2.1,1.8,2.2,2.1,1.7,1.8,1.8,2.5,2.0,1.9,2.1,2.0,2.4,2.3,1.8,2.2,2.3,1.5,2.3,2.0,2.0,1.8,2.1,1.8,1.8,1.8,2.1,1.6,1.9,2.0,2.2,1.5,1.4,2.3,2.4,1.8,1.8,2.1,2.4,2.3,1.9,2.3,2.5,2.3,1.9,2.0,2.3,1.8]}},\"id\":\"e73fa65c-a20d-4dcd-bd1e-64468474f9ed\",\"type\":\"ColumnDataSource\"},{\"attributes\":{\"overlay\":{\"id\":\"37d45c81-8d7f-475c-8c3c-7561a41474f8\",\"type\":\"BoxAnnotation\"},\"plot\":{\"id\":\"2a774e5c-3a34-4e72-9c24-52609582b2cf\",\"subtype\":\"Chart\",\"type\":\"Plot\"}},\"id\":\"acdaad0e-cc57-4145-b12c-c81957c0cf04\",\"type\":\"BoxZoomTool\"},{\"attributes\":{\"legends\":[[\"setosa\",[{\"id\":\"276733ee-5010-4485-b000-8993e5bec73e\",\"type\":\"GlyphRenderer\"}]],[\"versicolor\",[{\"id\":\"44fc6c92-0a26-483c-a139-4680afc347a8\",\"type\":\"GlyphRenderer\"}]],[\"virginica\",[{\"id\":\"4d7c6d2a-6a52-496d-ab6c-e000a242132a\",\"type\":\"GlyphRenderer\"}]]],\"location\":\"top_left\",\"plot\":{\"id\":\"bb5b007f-9c3b-473f-a5ec-f7aba899035e\",\"subtype\":\"Chart\",\"type\":\"Plot\"}},\"id\":\"a77c7b32-9d61-457d-84fe-00f82d7f30a7\",\"type\":\"Legend\"},{\"attributes\":{\"plot\":{\"id\":\"4f4de0f2-22aa-4a49-aecf-7b1198e90ea5\",\"subtype\":\"Figure\",\"type\":\"Plot\"}},\"id\":\"3f87afb9-d68b-40be-a7e4-10d8657c5be3\",\"type\":\"ResetTool\"},{\"attributes\":{\"legends\":[[\"setosa\",[{\"id\":\"b199b3c5-6281-4a0d-80d0-d48a5826284c\",\"type\":\"GlyphRenderer\"}]],[\"versicolor\",[{\"id\":\"92b43157-2849-42e8-ae2c-a0f2419c9ae3\",\"type\":\"GlyphRenderer\"}]],[\"virginica\",[{\"id\":\"7c6a667a-1799-4554-9203-f44c6416bdf6\",\"type\":\"GlyphRenderer\"}]]],\"location\":\"top_left\",\"plot\":{\"id\":\"d9ac6def-732b-42a3-af97-c59c898033f0\",\"subtype\":\"Chart\",\"type\":\"Plot\"}},\"id\":\"aab99043-21a4-4340-a7ea-4d236e4b9d55\",\"type\":\"Legend\"},{\"attributes\":{},\"id\":\"1dace4a9-c3fa-4b4e-953e-9f99f1a464ab\",\"type\":\"ToolEvents\"},{\"attributes\":{\"callback\":null,\"column_names\":[\"x_values\",\"y_values\"],\"data\":{\"chart_index\":[{\"species\":\"virginica\"},{\"species\":\"virginica\"},{\"species\":\"virginica\"},{\"species\":\"virginica\"},{\"species\":\"virginica\"},{\"species\":\"virginica\"},{\"species\":\"virginica\"},{\"species\":\"virginica\"},{\"species\":\"virginica\"},{\"species\":\"virginica\"},{\"species\":\"virginica\"},{\"species\":\"virginica\"},{\"species\":\"virginica\"},{\"species\":\"virginica\"},{\"species\":\"virginica\"},{\"species\":\"virginica\"},{\"species\":\"virginica\"},{\"species\":\"virginica\"},{\"species\":\"virginica\"},{\"species\":\"virginica\"},{\"species\":\"virginica\"},{\"species\":\"virginica\"},{\"species\":\"virginica\"},{\"species\":\"virginica\"},{\"species\":\"virginica\"},{\"species\":\"virginica\"},{\"species\":\"virginica\"},{\"species\":\"virginica\"},{\"species\":\"virginica\"},{\"species\":\"virginica\"},{\"species\":\"virginica\"},{\"species\":\"virginica\"},{\"species\":\"virginica\"},{\"species\":\"virginica\"},{\"species\":\"virginica\"},{\"species\":\"virginica\"},{\"species\":\"virginica\"},{\"species\":\"virginica\"},{\"species\":\"virginica\"},{\"species\":\"virginica\"},{\"species\":\"virginica\"},{\"species\":\"virginica\"},{\"species\":\"virginica\"},{\"species\":\"virginica\"},{\"species\":\"virginica\"},{\"species\":\"virginica\"},{\"species\":\"virginica\"},{\"species\":\"virginica\"},{\"species\":\"virginica\"},{\"species\":\"virginica\"}],\"species\":[\"virginica\",\"virginica\",\"virginica\",\"virginica\",\"virginica\",\"virginica\",\"virginica\",\"virginica\",\"virginica\",\"virginica\",\"virginica\",\"virginica\",\"virginica\",\"virginica\",\"virginica\",\"virginica\",\"virginica\",\"virginica\",\"virginica\",\"virginica\",\"virginica\",\"virginica\",\"virginica\",\"virginica\",\"virginica\",\"virginica\",\"virginica\",\"virginica\",\"virginica\",\"virginica\",\"virginica\",\"virginica\",\"virginica\",\"virginica\",\"virginica\",\"virginica\",\"virginica\",\"virginica\",\"virginica\",\"virginica\",\"virginica\",\"virginica\",\"virginica\",\"virginica\",\"virginica\",\"virginica\",\"virginica\",\"virginica\",\"virginica\",\"virginica\"],\"x_values\":[6.0,5.1,5.9,5.6,5.8,6.6,4.5,6.3,5.8,6.1,5.1,5.3,5.5,5.0,5.1,5.3,5.5,6.7,6.9,5.0,5.7,4.9,6.7,4.9,5.7,6.0,4.8,4.9,5.6,5.8,6.1,6.4,5.6,5.1,5.6,6.1,5.6,5.5,4.8,5.4,5.6,5.1,5.1,5.9,5.7,5.2,5.0,5.2,5.4,5.1],\"y_values\":[2.5,1.9,2.1,1.8,2.2,2.1,1.7,1.8,1.8,2.5,2.0,1.9,2.1,2.0,2.4,2.3,1.8,2.2,2.3,1.5,2.3,2.0,2.0,1.8,2.1,1.8,1.8,1.8,2.1,1.6,1.9,2.0,2.2,1.5,1.4,2.3,2.4,1.8,1.8,2.1,2.4,2.3,1.9,2.3,2.5,2.3,1.9,2.0,2.3,1.8]}},\"id\":\"744d2db1-0771-48c0-88fe-92ab0daf495c\",\"type\":\"ColumnDataSource\"},{\"attributes\":{\"plot\":{\"id\":\"2875a362-8a2f-4a26-88bb-f000e10af8bc\",\"subtype\":\"Chart\",\"type\":\"Plot\"}},\"id\":\"c80a796e-0e79-4d45-91fe-312be55dc54a\",\"type\":\"HelpTool\"},{\"attributes\":{},\"id\":\"e6dcbda7-8eb0-4372-9f3a-8dc478761361\",\"type\":\"BasicTicker\"},{\"attributes\":{\"callback\":null,\"column_names\":[\"x_values\",\"y_values\"],\"data\":{\"chart_index\":[{\"species\":\"versicolor\"},{\"species\":\"versicolor\"},{\"species\":\"versicolor\"},{\"species\":\"versicolor\"},{\"species\":\"versicolor\"},{\"species\":\"versicolor\"},{\"species\":\"versicolor\"},{\"species\":\"versicolor\"},{\"species\":\"versicolor\"},{\"species\":\"versicolor\"},{\"species\":\"versicolor\"},{\"species\":\"versicolor\"},{\"species\":\"versicolor\"},{\"species\":\"versicolor\"},{\"species\":\"versicolor\"},{\"species\":\"versicolor\"},{\"species\":\"versicolor\"},{\"species\":\"versicolor\"},{\"species\":\"versicolor\"},{\"species\":\"versicolor\"},{\"species\":\"versicolor\"},{\"species\":\"versicolor\"},{\"species\":\"versicolor\"},{\"species\":\"versicolor\"},{\"species\":\"versicolor\"},{\"species\":\"versicolor\"},{\"species\":\"versicolor\"},{\"species\":\"versicolor\"},{\"species\":\"versicolor\"},{\"species\":\"versicolor\"},{\"species\":\"versicolor\"},{\"species\":\"versicolor\"},{\"species\":\"versicolor\"},{\"species\":\"versicolor\"},{\"species\":\"versicolor\"},{\"species\":\"versicolor\"},{\"species\":\"versicolor\"},{\"species\":\"versicolor\"},{\"species\":\"versicolor\"},{\"species\":\"versicolor\"},{\"species\":\"versicolor\"},{\"species\":\"versicolor\"},{\"species\":\"versicolor\"},{\"species\":\"versicolor\"},{\"species\":\"versicolor\"},{\"species\":\"versicolor\"},{\"species\":\"versicolor\"},{\"species\":\"versicolor\"},{\"species\":\"versicolor\"},{\"species\":\"versicolor\"}],\"species\":[\"versicolor\",\"versicolor\",\"versicolor\",\"versicolor\",\"versicolor\",\"versicolor\",\"versicolor\",\"versicolor\",\"versicolor\",\"versicolor\",\"versicolor\",\"versicolor\",\"versicolor\",\"versicolor\",\"versicolor\",\"versicolor\",\"versicolor\",\"versicolor\",\"versicolor\",\"versicolor\",\"versicolor\",\"versicolor\",\"versicolor\",\"versicolor\",\"versicolor\",\"versicolor\",\"versicolor\",\"versicolor\",\"versicolor\",\"versicolor\",\"versicolor\",\"versicolor\",\"versicolor\",\"versicolor\",\"versicolor\",\"versicolor\",\"versicolor\",\"versicolor\",\"versicolor\",\"versicolor\",\"versicolor\",\"versicolor\",\"versicolor\",\"versicolor\",\"versicolor\",\"versicolor\",\"versicolor\",\"versicolor\",\"versicolor\",\"versicolor\"],\"x_values\":[4.7,4.5,4.9,4.0,4.6,4.5,4.7,3.3,4.6,3.9,3.5,4.2,4.0,4.7,3.6,4.4,4.5,4.1,4.5,3.9,4.8,4.0,4.9,4.7,4.3,4.4,4.8,5.0,4.5,3.5,3.8,3.7,3.9,5.1,4.5,4.5,4.7,4.4,4.1,4.0,4.4,4.6,4.0,3.3,4.2,4.2,4.2,4.3,3.0,4.1],\"y_values\":[1.4,1.5,1.5,1.3,1.5,1.3,1.6,1.0,1.3,1.4,1.0,1.5,1.0,1.4,1.3,1.4,1.5,1.0,1.5,1.1,1.8,1.3,1.5,1.2,1.3,1.4,1.4,1.7,1.5,1.0,1.1,1.0,1.2,1.6,1.5,1.6,1.5,1.3,1.3,1.3,1.2,1.4,1.2,1.0,1.3,1.2,1.3,1.3,1.1,1.3]}},\"id\":\"e3ea355c-f5dd-4a0c-9a6f-d59b9ca26a66\",\"type\":\"ColumnDataSource\"},{\"attributes\":{\"below\":[{\"id\":\"66d992d6-7171-42e5-a716-2fdad4f2bc3f\",\"type\":\"LinearAxis\"}],\"left\":[{\"id\":\"5cce3b51-2234-4b0a-a507-c69f55618b58\",\"type\":\"LinearAxis\"}],\"renderers\":[{\"id\":\"66d992d6-7171-42e5-a716-2fdad4f2bc3f\",\"type\":\"LinearAxis\"},{\"id\":\"a2cdd776-8496-4d23-bfef-d9f3ecf28907\",\"type\":\"Grid\"},{\"id\":\"5cce3b51-2234-4b0a-a507-c69f55618b58\",\"type\":\"LinearAxis\"},{\"id\":\"64399423-b084-4565-b18e-e8aa55a54460\",\"type\":\"Grid\"},{\"id\":\"a2c01634-2cdd-47dc-87c0-31e5fa521735\",\"type\":\"BoxAnnotation\"},{\"id\":\"d77970eb-032e-4db0-8e6e-8a1a3df0e691\",\"type\":\"Legend\"},{\"id\":\"22a5ff12-429d-44da-a9e5-8d62f10b8530\",\"type\":\"GlyphRenderer\"}],\"title\":\"simple line example\",\"tool_events\":{\"id\":\"982dfd71-49cc-484a-a370-bbb95ef5c21e\",\"type\":\"ToolEvents\"},\"tools\":[{\"id\":\"a7579f63-b8b6-4d17-878f-4ef0429b3cdc\",\"type\":\"PanTool\"},{\"id\":\"d63bddc3-20ed-4da5-9db5-ca1e15538b48\",\"type\":\"WheelZoomTool\"},{\"id\":\"123652b8-0dac-4a94-b4ba-a27e0b124e83\",\"type\":\"BoxZoomTool\"},{\"id\":\"79cd7c98-c2bb-4726-8660-d1bec9ec59e7\",\"type\":\"PreviewSaveTool\"},{\"id\":\"168f43df-e844-40d3-a9dc-15a5f3d84300\",\"type\":\"ResizeTool\"},{\"id\":\"3f87afb9-d68b-40be-a7e4-10d8657c5be3\",\"type\":\"ResetTool\"},{\"id\":\"91b3930e-20dd-46f2-808a-1e979e9c984d\",\"type\":\"HelpTool\"}],\"x_range\":{\"id\":\"e6ca9060-c68c-49ad-8fd4-908e0d6bb498\",\"type\":\"DataRange1d\"},\"y_range\":{\"id\":\"f2137566-100d-43af-a898-371b91f94ada\",\"type\":\"DataRange1d\"}},\"id\":\"4f4de0f2-22aa-4a49-aecf-7b1198e90ea5\",\"subtype\":\"Figure\",\"type\":\"Plot\"},{\"attributes\":{\"fill_alpha\":{\"value\":0.7},\"fill_color\":{\"value\":\"#407ee7\"},\"line_color\":{\"value\":\"#407ee7\"},\"size\":{\"units\":\"screen\",\"value\":8},\"x\":{\"field\":\"x_values\"},\"y\":{\"field\":\"y_values\"}},\"id\":\"d532240b-c9c4-4248-86cf-c88a6de4c41c\",\"type\":\"Triangle\"},{\"attributes\":{\"callback\":null,\"end\":7.49,\"start\":0.4099999999999999},\"id\":\"1bc12368-f1ae-4287-8190-443fc1ae3573\",\"type\":\"Range1d\"},{\"attributes\":{\"bottom_units\":\"screen\",\"fill_alpha\":{\"value\":0.5},\"fill_color\":{\"value\":\"lightgrey\"},\"left_units\":\"screen\",\"level\":\"overlay\",\"line_alpha\":{\"value\":1.0},\"line_color\":{\"value\":\"black\"},\"line_dash\":[4,4],\"line_width\":{\"value\":2},\"plot\":null,\"render_mode\":\"css\",\"right_units\":\"screen\",\"top_units\":\"screen\"},\"id\":\"2c034ef9-306f-49d3-a81f-d333d9cb21a6\",\"type\":\"BoxAnnotation\"},{\"attributes\":{\"axis_label\":\"petal_length\",\"formatter\":{\"id\":\"e6deed36-d999-40d6-b8a8-c7ad1c13a4a8\",\"type\":\"BasicTickFormatter\"},\"plot\":{\"id\":\"2a774e5c-3a34-4e72-9c24-52609582b2cf\",\"subtype\":\"Chart\",\"type\":\"Plot\"},\"ticker\":{\"id\":\"9c0ca514-87ad-4852-9ae1-03025563fc03\",\"type\":\"BasicTicker\"}},\"id\":\"af5f5e4c-f5ba-4ed8-912c-65a1f89a2210\",\"type\":\"LinearAxis\"},{\"attributes\":{\"fill_alpha\":{\"value\":0.7},\"fill_color\":{\"value\":\"#5ab738\"},\"line_color\":{\"value\":\"#5ab738\"},\"size\":{\"units\":\"screen\",\"value\":8},\"x\":{\"field\":\"x_values\"},\"y\":{\"field\":\"y_values\"}},\"id\":\"d76d1b5f-ec57-4ff8-85ba-0424e6c70ba4\",\"type\":\"Square\"},{\"attributes\":{\"plot\":{\"id\":\"2a774e5c-3a34-4e72-9c24-52609582b2cf\",\"subtype\":\"Chart\",\"type\":\"Plot\"}},\"id\":\"c1a33943-d943-4382-a26e-91ce7df36195\",\"type\":\"PreviewSaveTool\"},{\"attributes\":{\"callback\":null,\"column_names\":[\"x_values\",\"y_values\"],\"data\":{\"chart_index\":[{\"species\":\"setosa\"},{\"species\":\"setosa\"},{\"species\":\"setosa\"},{\"species\":\"setosa\"},{\"species\":\"setosa\"},{\"species\":\"setosa\"},{\"species\":\"setosa\"},{\"species\":\"setosa\"},{\"species\":\"setosa\"},{\"species\":\"setosa\"},{\"species\":\"setosa\"},{\"species\":\"setosa\"},{\"species\":\"setosa\"},{\"species\":\"setosa\"},{\"species\":\"setosa\"},{\"species\":\"setosa\"},{\"species\":\"setosa\"},{\"species\":\"setosa\"},{\"species\":\"setosa\"},{\"species\":\"setosa\"},{\"species\":\"setosa\"},{\"species\":\"setosa\"},{\"species\":\"setosa\"},{\"species\":\"setosa\"},{\"species\":\"setosa\"},{\"species\":\"setosa\"},{\"species\":\"setosa\"},{\"species\":\"setosa\"},{\"species\":\"setosa\"},{\"species\":\"setosa\"},{\"species\":\"setosa\"},{\"species\":\"setosa\"},{\"species\":\"setosa\"},{\"species\":\"setosa\"},{\"species\":\"setosa\"},{\"species\":\"setosa\"},{\"species\":\"setosa\"},{\"species\":\"setosa\"},{\"species\":\"setosa\"},{\"species\":\"setosa\"},{\"species\":\"setosa\"},{\"species\":\"setosa\"},{\"species\":\"setosa\"},{\"species\":\"setosa\"},{\"species\":\"setosa\"},{\"species\":\"setosa\"},{\"species\":\"setosa\"},{\"species\":\"setosa\"},{\"species\":\"setosa\"},{\"species\":\"setosa\"}],\"species\":[\"setosa\",\"setosa\",\"setosa\",\"setosa\",\"setosa\",\"setosa\",\"setosa\",\"setosa\",\"setosa\",\"setosa\",\"setosa\",\"setosa\",\"setosa\",\"setosa\",\"setosa\",\"setosa\",\"setosa\",\"setosa\",\"setosa\",\"setosa\",\"setosa\",\"setosa\",\"setosa\",\"setosa\",\"setosa\",\"setosa\",\"setosa\",\"setosa\",\"setosa\",\"setosa\",\"setosa\",\"setosa\",\"setosa\",\"setosa\",\"setosa\",\"setosa\",\"setosa\",\"setosa\",\"setosa\",\"setosa\",\"setosa\",\"setosa\",\"setosa\",\"setosa\",\"setosa\",\"setosa\",\"setosa\",\"setosa\",\"setosa\",\"setosa\"],\"x_values\":[1.4,1.4,1.3,1.5,1.4,1.7,1.4,1.5,1.4,1.5,1.5,1.6,1.4,1.1,1.2,1.5,1.3,1.4,1.7,1.5,1.7,1.5,1.0,1.7,1.9,1.6,1.6,1.5,1.4,1.6,1.6,1.5,1.5,1.4,1.5,1.2,1.3,1.4,1.3,1.5,1.3,1.3,1.3,1.6,1.9,1.4,1.6,1.4,1.5,1.4],\"y_values\":[0.2,0.2,0.2,0.2,0.2,0.4,0.3,0.2,0.2,0.1,0.2,0.2,0.1,0.1,0.2,0.4,0.4,0.3,0.3,0.3,0.2,0.4,0.2,0.5,0.2,0.2,0.4,0.2,0.2,0.2,0.2,0.4,0.1,0.2,0.2,0.2,0.2,0.1,0.2,0.2,0.3,0.3,0.2,0.6,0.4,0.3,0.2,0.2,0.2,0.2]}},\"id\":\"d527ca4d-0845-4359-b1f7-c9e1fdcd197c\",\"type\":\"ColumnDataSource\"},{\"attributes\":{\"bottom_units\":\"screen\",\"fill_alpha\":{\"value\":0.5},\"fill_color\":{\"value\":\"lightgrey\"},\"left_units\":\"screen\",\"level\":\"overlay\",\"line_alpha\":{\"value\":1.0},\"line_color\":{\"value\":\"black\"},\"line_dash\":[4,4],\"line_width\":{\"value\":2},\"plot\":null,\"render_mode\":\"css\",\"right_units\":\"screen\",\"top_units\":\"screen\"},\"id\":\"37d45c81-8d7f-475c-8c3c-7561a41474f8\",\"type\":\"BoxAnnotation\"},{\"attributes\":{\"callback\":null,\"end\":7.49,\"start\":0.4099999999999999},\"id\":\"257da8bd-33e6-458e-8d6f-e3635044c8b1\",\"type\":\"Range1d\"},{\"attributes\":{\"plot\":{\"id\":\"d9ac6def-732b-42a3-af97-c59c898033f0\",\"subtype\":\"Chart\",\"type\":\"Plot\"},\"ticker\":{\"id\":\"627f2181-a384-42a2-b524-39ed4fe6f71e\",\"type\":\"BasicTicker\"}},\"id\":\"d3bf8aa8-1c6a-4394-9aa0-4dedd2c9a969\",\"type\":\"Grid\"},{\"attributes\":{},\"id\":\"e6deed36-d999-40d6-b8a8-c7ad1c13a4a8\",\"type\":\"BasicTickFormatter\"},{\"attributes\":{\"plot\":{\"id\":\"f6032e62-9709-450e-990b-1af60da13eb0\",\"subtype\":\"Figure\",\"type\":\"Plot\"}},\"id\":\"02b9e2dd-2ab3-4b36-b53b-a6c28a63493f\",\"type\":\"PreviewSaveTool\"},{\"attributes\":{\"fill_alpha\":{\"value\":0.7},\"fill_color\":{\"value\":\"#407ee7\"},\"line_color\":{\"value\":\"#407ee7\"},\"size\":{\"units\":\"screen\",\"value\":8},\"x\":{\"field\":\"x_values\"},\"y\":{\"field\":\"y_values\"}},\"id\":\"12f0e0ee-d252-4a38-bcf4-0eabfe44db89\",\"type\":\"Triangle\"},{\"attributes\":{\"plot\":{\"id\":\"bb5b007f-9c3b-473f-a5ec-f7aba899035e\",\"subtype\":\"Chart\",\"type\":\"Plot\"}},\"id\":\"f1338773-ab90-499e-991a-405beba89e18\",\"type\":\"HelpTool\"},{\"attributes\":{\"plot\":{\"id\":\"2a774e5c-3a34-4e72-9c24-52609582b2cf\",\"subtype\":\"Chart\",\"type\":\"Plot\"}},\"id\":\"48bb531d-8209-461b-a1c8-1e01bc15d311\",\"type\":\"WheelZoomTool\"},{\"attributes\":{\"plot\":{\"id\":\"d9ac6def-732b-42a3-af97-c59c898033f0\",\"subtype\":\"Chart\",\"type\":\"Plot\"}},\"id\":\"19e73d03-7c56-4a23-aa80-4f6aa87dd09d\",\"type\":\"PanTool\"},{\"attributes\":{\"callback\":null},\"id\":\"ced0d11f-04e3-4612-a7cc-a58882b884e0\",\"type\":\"DataRange1d\"},{\"attributes\":{},\"id\":\"6fefe09c-487e-404a-9d18-1a923f323c6e\",\"type\":\"BasicTicker\"},{\"attributes\":{\"callback\":null,\"column_names\":[\"x_values\",\"y_values\"],\"data\":{\"chart_index\":[{\"species\":\"setosa\"},{\"species\":\"setosa\"},{\"species\":\"setosa\"},{\"species\":\"setosa\"},{\"species\":\"setosa\"},{\"species\":\"setosa\"},{\"species\":\"setosa\"},{\"species\":\"setosa\"},{\"species\":\"setosa\"},{\"species\":\"setosa\"},{\"species\":\"setosa\"},{\"species\":\"setosa\"},{\"species\":\"setosa\"},{\"species\":\"setosa\"},{\"species\":\"setosa\"},{\"species\":\"setosa\"},{\"species\":\"setosa\"},{\"species\":\"setosa\"},{\"species\":\"setosa\"},{\"species\":\"setosa\"},{\"species\":\"setosa\"},{\"species\":\"setosa\"},{\"species\":\"setosa\"},{\"species\":\"setosa\"},{\"species\":\"setosa\"},{\"species\":\"setosa\"},{\"species\":\"setosa\"},{\"species\":\"setosa\"},{\"species\":\"setosa\"},{\"species\":\"setosa\"},{\"species\":\"setosa\"},{\"species\":\"setosa\"},{\"species\":\"setosa\"},{\"species\":\"setosa\"},{\"species\":\"setosa\"},{\"species\":\"setosa\"},{\"species\":\"setosa\"},{\"species\":\"setosa\"},{\"species\":\"setosa\"},{\"species\":\"setosa\"},{\"species\":\"setosa\"},{\"species\":\"setosa\"},{\"species\":\"setosa\"},{\"species\":\"setosa\"},{\"species\":\"setosa\"},{\"species\":\"setosa\"},{\"species\":\"setosa\"},{\"species\":\"setosa\"},{\"species\":\"setosa\"},{\"species\":\"setosa\"}],\"species\":[\"setosa\",\"setosa\",\"setosa\",\"setosa\",\"setosa\",\"setosa\",\"setosa\",\"setosa\",\"setosa\",\"setosa\",\"setosa\",\"setosa\",\"setosa\",\"setosa\",\"setosa\",\"setosa\",\"setosa\",\"setosa\",\"setosa\",\"setosa\",\"setosa\",\"setosa\",\"setosa\",\"setosa\",\"setosa\",\"setosa\",\"setosa\",\"setosa\",\"setosa\",\"setosa\",\"setosa\",\"setosa\",\"setosa\",\"setosa\",\"setosa\",\"setosa\",\"setosa\",\"setosa\",\"setosa\",\"setosa\",\"setosa\",\"setosa\",\"setosa\",\"setosa\",\"setosa\",\"setosa\",\"setosa\",\"setosa\",\"setosa\",\"setosa\"],\"x_values\":[1.4,1.4,1.3,1.5,1.4,1.7,1.4,1.5,1.4,1.5,1.5,1.6,1.4,1.1,1.2,1.5,1.3,1.4,1.7,1.5,1.7,1.5,1.0,1.7,1.9,1.6,1.6,1.5,1.4,1.6,1.6,1.5,1.5,1.4,1.5,1.2,1.3,1.4,1.3,1.5,1.3,1.3,1.3,1.6,1.9,1.4,1.6,1.4,1.5,1.4],\"y_values\":[0.2,0.2,0.2,0.2,0.2,0.4,0.3,0.2,0.2,0.1,0.2,0.2,0.1,0.1,0.2,0.4,0.4,0.3,0.3,0.3,0.2,0.4,0.2,0.5,0.2,0.2,0.4,0.2,0.2,0.2,0.2,0.4,0.1,0.2,0.2,0.2,0.2,0.1,0.2,0.2,0.3,0.3,0.2,0.6,0.4,0.3,0.2,0.2,0.2,0.2]}},\"id\":\"150c5a0b-40db-4c00-88ab-065ff79f91ec\",\"type\":\"ColumnDataSource\"},{\"attributes\":{\"plot\":{\"id\":\"d9ac6def-732b-42a3-af97-c59c898033f0\",\"subtype\":\"Chart\",\"type\":\"Plot\"}},\"id\":\"bec105a9-6813-43b9-a4b4-797fe7108d8e\",\"type\":\"HelpTool\"},{\"attributes\":{\"callback\":null,\"column_names\":[\"x_values\",\"y_values\"],\"data\":{\"chart_index\":[{\"species\":\"setosa\"},{\"species\":\"setosa\"},{\"species\":\"setosa\"},{\"species\":\"setosa\"},{\"species\":\"setosa\"},{\"species\":\"setosa\"},{\"species\":\"setosa\"},{\"species\":\"setosa\"},{\"species\":\"setosa\"},{\"species\":\"setosa\"},{\"species\":\"setosa\"},{\"species\":\"setosa\"},{\"species\":\"setosa\"},{\"species\":\"setosa\"},{\"species\":\"setosa\"},{\"species\":\"setosa\"},{\"species\":\"setosa\"},{\"species\":\"setosa\"},{\"species\":\"setosa\"},{\"species\":\"setosa\"},{\"species\":\"setosa\"},{\"species\":\"setosa\"},{\"species\":\"setosa\"},{\"species\":\"setosa\"},{\"species\":\"setosa\"},{\"species\":\"setosa\"},{\"species\":\"setosa\"},{\"species\":\"setosa\"},{\"species\":\"setosa\"},{\"species\":\"setosa\"},{\"species\":\"setosa\"},{\"species\":\"setosa\"},{\"species\":\"setosa\"},{\"species\":\"setosa\"},{\"species\":\"setosa\"},{\"species\":\"setosa\"},{\"species\":\"setosa\"},{\"species\":\"setosa\"},{\"species\":\"setosa\"},{\"species\":\"setosa\"},{\"species\":\"setosa\"},{\"species\":\"setosa\"},{\"species\":\"setosa\"},{\"species\":\"setosa\"},{\"species\":\"setosa\"},{\"species\":\"setosa\"},{\"species\":\"setosa\"},{\"species\":\"setosa\"},{\"species\":\"setosa\"},{\"species\":\"setosa\"}],\"species\":[\"setosa\",\"setosa\",\"setosa\",\"setosa\",\"setosa\",\"setosa\",\"setosa\",\"setosa\",\"setosa\",\"setosa\",\"setosa\",\"setosa\",\"setosa\",\"setosa\",\"setosa\",\"setosa\",\"setosa\",\"setosa\",\"setosa\",\"setosa\",\"setosa\",\"setosa\",\"setosa\",\"setosa\",\"setosa\",\"setosa\",\"setosa\",\"setosa\",\"setosa\",\"setosa\",\"setosa\",\"setosa\",\"setosa\",\"setosa\",\"setosa\",\"setosa\",\"setosa\",\"setosa\",\"setosa\",\"setosa\",\"setosa\",\"setosa\",\"setosa\",\"setosa\",\"setosa\",\"setosa\",\"setosa\",\"setosa\",\"setosa\",\"setosa\"],\"x_values\":[1.4,1.4,1.3,1.5,1.4,1.7,1.4,1.5,1.4,1.5,1.5,1.6,1.4,1.1,1.2,1.5,1.3,1.4,1.7,1.5,1.7,1.5,1.0,1.7,1.9,1.6,1.6,1.5,1.4,1.6,1.6,1.5,1.5,1.4,1.5,1.2,1.3,1.4,1.3,1.5,1.3,1.3,1.3,1.6,1.9,1.4,1.6,1.4,1.5,1.4],\"y_values\":[0.2,0.2,0.2,0.2,0.2,0.4,0.3,0.2,0.2,0.1,0.2,0.2,0.1,0.1,0.2,0.4,0.4,0.3,0.3,0.3,0.2,0.4,0.2,0.5,0.2,0.2,0.4,0.2,0.2,0.2,0.2,0.4,0.1,0.2,0.2,0.2,0.2,0.1,0.2,0.2,0.3,0.3,0.2,0.6,0.4,0.3,0.2,0.2,0.2,0.2]}},\"id\":\"b76fcc1a-faf6-41a5-b60b-312e6e6e3406\",\"type\":\"ColumnDataSource\"},{\"attributes\":{},\"id\":\"00cfdad3-b93f-4199-b9bf-da2a6c008008\",\"type\":\"BasicTicker\"},{\"attributes\":{},\"id\":\"af2b2202-da37-430e-a481-093a0c8bce03\",\"type\":\"BasicTicker\"}],\"root_ids\":[\"f6032e62-9709-450e-990b-1af60da13eb0\",\"4f4de0f2-22aa-4a49-aecf-7b1198e90ea5\",\"49c11811-f21e-4043-964e-12a28838fe16\",\"2a774e5c-3a34-4e72-9c24-52609582b2cf\",\"d9ac6def-732b-42a3-af97-c59c898033f0\",\"2875a362-8a2f-4a26-88bb-f000e10af8bc\",\"bb5b007f-9c3b-473f-a5ec-f7aba899035e\"]},\"title\":\"Bokeh Application\",\"version\":\"0.11.1\"}};\n",
       "            var render_items = [{\"docid\":\"a428e0da-de57-48be-884f-3b1106bcf8d8\",\"elementid\":\"2d9662f8-6661-47e9-81fb-2aaa77a66579\",\"modelid\":\"bb5b007f-9c3b-473f-a5ec-f7aba899035e\",\"notebook_comms_target\":\"2dc49620-64aa-459d-b571-b2f23fdbcd5c\"}];\n",
       "            \n",
       "            Bokeh.embed.embed_items(docs_json, render_items);\n",
       "        });\n",
       "      },\n",
       "      function(Bokeh) {\n",
       "      }\n",
       "    ];\n",
       "  \n",
       "    function run_inline_js() {\n",
       "      for (var i = 0; i < inline_js.length; i++) {\n",
       "        inline_js[i](window.Bokeh);\n",
       "      }\n",
       "    }\n",
       "  \n",
       "    if (window._bokeh_is_loading === 0) {\n",
       "      console.log(\"Bokeh: BokehJS loaded, going straight to plotting\");\n",
       "      run_inline_js();\n",
       "    } else {\n",
       "      load_libs(js_urls, function() {\n",
       "        console.log(\"Bokeh: BokehJS plotting callback run at\", now());\n",
       "        run_inline_js();\n",
       "      });\n",
       "    }\n",
       "  }(this));\n",
       "</script>"
      ]
     },
     "metadata": {},
     "output_type": "display_data"
    }
   ],
   "source": [
    "from bokeh.charts import Scatter, output_file, show\n",
    "from bokeh.sampledata.iris import flowers as data\n",
    "\n",
    "scatter = Scatter(data, x='petal_length', y='petal_width',\n",
    "                  color='species', marker='species',\n",
    "                  title='Iris Dataset Color and Marker by Species',\n",
    "                  legend=True)\n",
    "\n",
    "output_file(\"iris_simple.html\", title=\"iris_simple.py example\")\n",
    "\n",
    "show_wrapper(scatter)"
   ]
  },
  {
   "cell_type": "markdown",
   "metadata": {
    "slideshow": {
     "slide_type": "slide"
    }
   },
   "source": [
    "# \"Model\" layer\n",
    "* aka the `import make_me_smart` layer\n",
    "* e.g. Statsmodel, Scipy, PyMC, NetworkX and SKLearn\n",
    "* Make a bunch of tricky operation easy! (e.g. SVM)"
   ]
  },
  {
   "cell_type": "code",
   "execution_count": 169,
   "metadata": {
    "collapsed": false
   },
   "outputs": [
    {
     "data": {
      "text/plain": [
       "<matplotlib.text.Text at 0x7faa230bfa50>"
      ]
     },
     "execution_count": 169,
     "metadata": {},
     "output_type": "execute_result"
    },
    {
     "data": {
      "image/png": "[encoded data removed]",
      "text/plain": [
       "<matplotlib.figure.Figure at 0x7faa23245d90>"
      ]
     },
     "metadata": {},
     "output_type": "display_data"
    }
   ],
   "source": [
    "# http://scikit-learn.org/stable/auto_examples/svm/plot_iris.html\n",
    "from sklearn import svm\n",
    "svc = svm.SVC(kernel='linear', C=1.0)\n",
    "\n",
    "from bokeh.sampledata.iris import flowers as data\n",
    "\n",
    "\n",
    "X = iris.data[:, :2]  # we only take the first two features. We could\n",
    "                      # avoid this ugly slicing by using a two-dim dataset\n",
    "y = iris.target\n",
    "\n",
    "svc.fit(X, y) \n",
    "\n",
    "\n",
    "# create a mesh to plot in\n",
    "x_min, x_max = X[:, 0].min() - 1, X[:, 0].max() + 1\n",
    "y_min, y_max = X[:, 1].min() - 1, X[:, 1].max() + 1\n",
    "xx, yy = np.meshgrid(np.arange(x_min, x_max, 0.2),\n",
    "                     np.arange(y_min, y_max, 0.2))\n",
    "\n",
    "Z = svc.predict(np.c_[xx.ravel(), yy.ravel()])\n",
    "\n",
    "# Put the result into a color plot\n",
    "Z = Z.reshape(xx.shape)\n",
    "plt.contourf(xx, yy, Z, cmap=plt.cm.Paired, alpha=0.3)\n",
    "\n",
    "# Plot also the training points\n",
    "plt.scatter(X[:, 0], X[:, 1], c=y, cmap=plt.cm.Paired)\n",
    "plt.xlabel('Sepal length')\n",
    "plt.ylabel('Sepal width')\n",
    "plt.xlim(xx.min(), xx.max())\n",
    "plt.ylim(yy.min(), yy.max())\n",
    "plt.xticks(())\n",
    "plt.yticks(())\n",
    "plt.title(\"SVM classification\")\n"
   ]
  },
  {
   "cell_type": "markdown",
   "metadata": {
    "slideshow": {
     "slide_type": "slide"
    }
   },
   "source": [
    "## Data Access layer\n",
    "\n",
    "* Pandas / Numpy\n",
    "* Very efficient multi-dimension\n",
    "* Store data within continous space, instead of chain list\n",
    "* Many optimization librarys underneath - e.g. uses BLAS (http://www.netlib.org/blas/) or Intel Math Kernel Library (https://software.intel.com/en-us/intel-mkl)\n",
    "\n",
    "![language](https://snag.gy/9Bip8G.jpg)\n",
    "\n",
    "\n"
   ]
  },
  {
   "cell_type": "code",
   "execution_count": 13,
   "metadata": {
    "collapsed": false,
    "slideshow": {
     "slide_type": "skip"
    }
   },
   "outputs": [],
   "source": [
    "# https://code.activestate.com/recipes/577504/\n",
    "\n",
    "from sys import getsizeof, stderr\n",
    "from itertools import chain\n",
    "from collections import deque\n",
    "try:\n",
    "    from reprlib import repr\n",
    "except ImportError:\n",
    "    pass\n",
    "\n",
    "def total_size(o, handlers={}, verbose=False):\n",
    "    \"\"\" Returns the approximate memory footprint an object and all of its contents.\n",
    "\n",
    "    Automatically finds the contents of the following builtin containers and\n",
    "    their subclasses:  tuple, list, deque, dict, set and frozenset.\n",
    "    To search other containers, add handlers to iterate over their contents:\n",
    "\n",
    "        handlers = {SomeContainerClass: iter,\n",
    "                    OtherContainerClass: OtherContainerClass.get_elements}\n",
    "\n",
    "    \"\"\"\n",
    "    dict_handler = lambda d: chain.from_iterable(d.items())\n",
    "    all_handlers = {tuple: iter,\n",
    "                    list: iter,\n",
    "                    deque: iter,\n",
    "                    dict: dict_handler,\n",
    "                    set: iter,\n",
    "                    frozenset: iter,\n",
    "                   }\n",
    "    all_handlers.update(handlers)     # user handlers take precedence\n",
    "    seen = set()                      # track which object id's have already been seen\n",
    "    default_size = getsizeof(0)       # estimate sizeof object without __sizeof__\n",
    "\n",
    "    def sizeof(o):\n",
    "        if id(o) in seen:       # do not double count the same object\n",
    "            return 0\n",
    "        seen.add(id(o))\n",
    "        s = getsizeof(o, default_size)\n",
    "\n",
    "        if verbose:\n",
    "            print (s, type(o), repr(o))\n",
    "\n",
    "        for typ, handler in all_handlers.items():\n",
    "            if isinstance(o, typ):\n",
    "                s += sum(map(sizeof, handler(o)))\n",
    "                break\n",
    "        return s\n",
    "\n",
    "    return sizeof(o)\n",
    "\n"
   ]
  },
  {
   "cell_type": "code",
   "execution_count": 14,
   "metadata": {
    "collapsed": false,
    "slideshow": {
     "slide_type": "skip"
    }
   },
   "outputs": [
    {
     "name": "stdout",
     "output_type": "stream",
     "text": [
      "Size in array: 174440\n",
      "Size of numpy: 80144\n"
     ]
    }
   ],
   "source": [
    "# Generate a multi-dimension array\n",
    "input_3d_array = [[[range(10) for _ in range(10)] for _ in range(10)] for _ in range(10)]\n",
    "\n",
    "print(\"Size in array: {}\".format(total_size(input_3d_array)))\n",
    "print(\"Size of numpy: {}\".format(total_size(np.array(input_3d_array))))"
   ]
  },
  {
   "cell_type": "code",
   "execution_count": 184,
   "metadata": {
    "collapsed": false,
    "slideshow": {
     "slide_type": "-"
    }
   },
   "outputs": [
    {
     "data": {
      "text/plain": [
       "<matplotlib.text.Text at 0x7faa22cf7310>"
      ]
     },
     "execution_count": 184,
     "metadata": {},
     "output_type": "execute_result"
    },
    {
     "data": {
      "text/plain": [
       "<matplotlib.figure.Figure at 0x7faa22fa0090>"
      ]
     },
     "metadata": {},
     "output_type": "display_data"
    },
    {
     "data": {
      "image/png": "[encoded data removed]",
      "text/plain": [
       "<matplotlib.figure.Figure at 0x7faa2324f5d0>"
      ]
     },
     "metadata": {},
     "output_type": "display_data"
    }
   ],
   "source": [
    "sizes = []\n",
    "for i in range(8):\n",
    "    arr = np.ones([5] * i)\n",
    "    sizes.append({\n",
    "        'raw_size' : total_size(arr.tolist()),\n",
    "        'np_size' : total_size(arr)\n",
    "        })\n",
    "\n",
    "plt.figure()\n",
    "ax = pd.DataFrame(sizes).plot(title=\"Delta in data size\")\n",
    "plt.xlabel('Dimension')\n",
    "plt.ylabel('Size in bytes')\n"
   ]
  },
  {
   "cell_type": "markdown",
   "metadata": {
    "slideshow": {
     "slide_type": "slide"
    }
   },
   "source": [
    "## Voodo - Low level optimization\n",
    "\n",
    "* Numba is very good at that!\n",
    "* Compile python into llvm - which then compile into native code\n",
    "* Example: Fast fourier transform - https://jakevdp.github.io/blog/2015/02/24/optimizing-python-with-numpy-and-numba/"
   ]
  },
  {
   "cell_type": "raw",
   "metadata": {
    "collapsed": false,
    "slideshow": {
     "slide_type": "skip"
    }
   },
   "source": [
    "# if you dont have it installed\n",
    "!pip install git+http://github.com/dfm/python-nufft.git"
   ]
  },
  {
   "cell_type": "code",
   "execution_count": 18,
   "metadata": {
    "collapsed": false,
    "slideshow": {
     "slide_type": "skip"
    }
   },
   "outputs": [],
   "source": [
    "# Install nufft from http://github.com/dfm/python-nufft/\n",
    "from nufft import nufft1 as nufft_fortran\n",
    "\n",
    "from time import time\n",
    "\n",
    "import numpy as np\n",
    "\n",
    "def nufftfreqs(M, df=1):\n",
    "    \"\"\"Compute the frequency range used in nufft for M frequency bins\"\"\"\n",
    "    return df * np.arange(-(M // 2), M - (M // 2))\n",
    "\n",
    "\n",
    "def nudft(x, y, M, df=1.0, iflag=1):\n",
    "    \"\"\"Non-Uniform Direct Fourier Transform\"\"\"\n",
    "    sign = -1 if iflag < 0 else 1\n",
    "    return (1 / len(x)) * np.dot(y, np.exp(sign * 1j * nufftfreqs(M, df) * x[:, np.newaxis]))\n",
    "\n",
    "def _compute_grid_params(M, eps):\n",
    "    # Choose Msp & tau from eps following Dutt & Rokhlin (1993)\n",
    "    if eps <= 1E-33 or eps >= 1E-1:\n",
    "        raise ValueError(\"eps = {0:.0e}; must satisfy \"\n",
    "                         \"1e-33 < eps < 1e-1.\".format(eps))\n",
    "    ratio = 2 if eps > 1E-11 else 3\n",
    "    Msp = int(-np.log(eps) / (np.pi * (ratio - 1) / (ratio - 0.5)) + 0.5)\n",
    "    Mr = max(ratio * M, 2 * Msp)\n",
    "    lambda_ = Msp / (ratio * (ratio - 0.5))\n",
    "    tau = np.pi * lambda_ / M ** 2\n",
    "    return Msp, Mr, tau\n",
    "\n",
    "def test_nufft(nufft_func, M=1000, Mtime=100000):\n",
    "    # Test vs the direct method\n",
    "    print(30 * '-')\n",
    "    name = {'nufft1':'nufft_fortran'}.get(nufft_func.__name__,\n",
    "                                          nufft_func.__name__)\n",
    "    print(\"testing {0}\".format(name))\n",
    "    rng = np.random.RandomState(0)\n",
    "    x = 100 * rng.rand(M + 1)\n",
    "    y = np.sin(x)\n",
    "    for df in [1, 2.0]:\n",
    "        for iflag in [1, -1]:\n",
    "            F1 = nudft(x, y, M, df=df, iflag=iflag)\n",
    "            F2 = nufft_func(x, y, M, df=df, iflag=iflag)\n",
    "            assert np.allclose(F1, F2)\n",
    "    print(\"- Results match the DFT\")\n",
    "    \n",
    "    # Time the nufft function\n",
    "    x = 100 * rng.rand(Mtime)\n",
    "    y = np.sin(x)\n",
    "    times = []\n",
    "    for i in range(5):\n",
    "        t0 = time()\n",
    "        F = nufft_func(x, y, Mtime)\n",
    "        t1 = time()\n",
    "        times.append(t1 - t0)\n",
    "    print(\"- Execution time (M={0}): {1:.2g} sec\".format(Mtime, np.median(times)))\n",
    " "
   ]
  },
  {
   "cell_type": "code",
   "execution_count": 19,
   "metadata": {
    "collapsed": true,
    "slideshow": {
     "slide_type": "skip"
    }
   },
   "outputs": [],
   "source": [
    "\n",
    "def nufft_python(x, c, M, df=1.0, eps=1E-15, iflag=1):\n",
    "    \"\"\"Fast Non-Uniform Fourier Transform with Python\"\"\"\n",
    "    Msp, Mr, tau = _compute_grid_params(M, eps)\n",
    "    N = len(x)\n",
    "\n",
    "    # Construct the convolved grid\n",
    "    ftau = np.zeros(Mr, dtype=c.dtype)\n",
    "    Mr = ftau.shape[0]\n",
    "    hx = 2 * np.pi / Mr\n",
    "    mm = np.arange(-Msp, Msp)\n",
    "    for i in range(N):\n",
    "        xi = (x[i] * df) % (2 * np.pi)\n",
    "        m = 1 + int(xi // hx)\n",
    "        spread = np.exp(-0.25 * (xi - hx * (m + mm)) ** 2 / tau)\n",
    "        ftau[(m + mm) % Mr] += c[i] * spread\n",
    "\n",
    "    # Compute the FFT on the convolved grid\n",
    "    if iflag < 0:\n",
    "        Ftau = (1 / Mr) * np.fft.fft(ftau)\n",
    "    else:\n",
    "        Ftau = np.fft.ifft(ftau)\n",
    "    Ftau = np.concatenate([Ftau[-(M//2):], Ftau[:M//2 + M % 2]])\n",
    "\n",
    "    # Deconvolve the grid using convolution theorem\n",
    "    k = nufftfreqs(M)\n",
    "    return (1 / N) * np.sqrt(np.pi / tau) * np.exp(tau * k ** 2) * Ftau\n",
    " "
   ]
  },
  {
   "cell_type": "code",
   "execution_count": 20,
   "metadata": {
    "collapsed": false,
    "slideshow": {
     "slide_type": "skip"
    }
   },
   "outputs": [
    {
     "name": "stdout",
     "output_type": "stream",
     "text": [
      "------------------------------\n",
      "testing nufft_python\n",
      "- Results match the DFT\n",
      "- Execution time (M=100000): 1.3 sec\n",
      "------------------------------\n",
      "testing nufft_fortran\n",
      "- Results match the DFT\n",
      "- Execution time (M=100000): 0.043 sec\n"
     ]
    }
   ],
   "source": [
    "test_nufft(nufft_python)\n",
    "test_nufft(nufft_fortran)"
   ]
  },
  {
   "cell_type": "code",
   "execution_count": 209,
   "metadata": {
    "collapsed": false,
    "slideshow": {
     "slide_type": "skip"
    }
   },
   "outputs": [],
   "source": [
    "from numba import jit\n",
    "\n",
    "@numba.jit(nopython=True)\n",
    "def build_grid_fast(x, c, tau, Msp, ftau, E3):\n",
    "    Mr = ftau.shape[0]\n",
    "    hx = 2 * np.pi / Mr\n",
    "    \n",
    "    # precompute some exponents\n",
    "    for j in range(Msp + 1):\n",
    "        E3[j] = np.exp(-(np.pi * j / Mr) ** 2 / tau)\n",
    "        \n",
    "    # spread values onto ftau\n",
    "    for i in range(x.shape[0]):\n",
    "        xi = x[i] % (2 * np.pi)\n",
    "        m = 1 + int(xi // hx)\n",
    "        xi = (xi - hx * m)\n",
    "        E1 = np.exp(-0.25 * xi ** 2 / tau)\n",
    "        E2 = np.exp((xi * np.pi) / (Mr * tau))\n",
    "        E2mm = 1\n",
    "        for mm in range(Msp):\n",
    "            ftau[(m + mm) % Mr] += c[i] * E1 * E2mm * E3[mm]\n",
    "            E2mm *= E2\n",
    "            ftau[(m - mm - 1) % Mr] += c[i] * E1 / E2mm * E3[mm + 1]\n",
    "    return ftau\n",
    "\n",
    "\n",
    "def nufft_numba_fast(x, c, M, df=1.0, eps=1E-15, iflag=1):\n",
    "    \"\"\"Fast Non-Uniform Fourier Transform with Numba\"\"\"\n",
    "    Msp, Mr, tau = _compute_grid_params(M, eps)\n",
    "    N = len(x)\n",
    "\n",
    "    # Construct the convolved grid\n",
    "    ftau = build_grid_fast(x * df, c, tau, Msp,\n",
    "                           np.zeros(Mr, dtype=c.dtype),\n",
    "                           np.zeros(Msp + 1, dtype=x.dtype))\n",
    "\n",
    "    # Compute the FFT on the convolved grid\n",
    "    if iflag < 0:\n",
    "        Ftau = (1 / Mr) * np.fft.fft(ftau)\n",
    "    else:\n",
    "        Ftau = np.fft.ifft(ftau)\n",
    "    Ftau = np.concatenate([Ftau[-(M//2):], Ftau[:M//2 + M % 2]])\n",
    "\n",
    "    # Deconvolve the grid using convolution theorem\n",
    "    k = nufftfreqs(M)\n",
    "    return (1 / N) * np.sqrt(np.pi / tau) * np.exp(tau * k ** 2) * Ftau"
   ]
  },
  {
   "cell_type": "code",
   "execution_count": 72,
   "metadata": {
    "collapsed": false,
    "slideshow": {
     "slide_type": "skip"
    }
   },
   "outputs": [],
   "source": [
    "from numba.pycc import CC\n",
    "\n",
    "cc = CC('fft')\n",
    "# Uncomment the following line to print out the compilation steps\n",
    "#cc.verbose = True\n",
    "\n",
    "@cc.export('add_int', 'i8[:](i8[:])')\n",
    "def add_int(x):\n",
    "    return x + 0xcafebabe\n",
    "\n",
    "\n",
    "@cc.export('build_grid_fast', 'f8[:](f8[:], f8[:], f8, i8, f8[:], f8[:])')\n",
    "def build_grid_fast(x, c, tau, Msp, ftau, E3):\n",
    "    Mr = ftau.shape[0]\n",
    "    hx = 2 * np.pi / Mr\n",
    "    \n",
    "    # precompute some exponents\n",
    "    for j in range(Msp + 1):\n",
    "        E3[j] = np.exp(-(np.pi * j / Mr) ** 2 / tau)\n",
    "        \n",
    "    # spread values onto ftau\n",
    "    for i in range(x.shape[0]):\n",
    "        xi = x[i] % (2 * np.pi)\n",
    "        m = 1 + int(xi // hx)\n",
    "        xi = (xi - hx * m)\n",
    "        E1 = np.exp(-0.25 * xi ** 2 / tau)\n",
    "        E2 = np.exp((xi * np.pi) / (Mr * tau))\n",
    "        E2mm = 1\n",
    "        for mm in range(Msp):\n",
    "            ftau[(m + mm) % Mr] += c[i] * E1 * E2mm * E3[mm]\n",
    "            E2mm *= E2\n",
    "            ftau[(m - mm - 1) % Mr] += c[i] * E1 / E2mm * E3[mm + 1]\n",
    "    return ftau\n",
    "\n",
    "cc.compile() "
   ]
  },
  {
   "cell_type": "markdown",
   "metadata": {
    "slideshow": {
     "slide_type": "slide"
    }
   },
   "source": [
    "## It is fast!\n",
    "\n",
    "Comparable to Fotran speed"
   ]
  },
  {
   "cell_type": "code",
   "execution_count": 124,
   "metadata": {
    "collapsed": false,
    "scrolled": true,
    "slideshow": {
     "slide_type": "-"
    }
   },
   "outputs": [
    {
     "name": "stdout",
     "output_type": "stream",
     "text": [
      "------------------------------\n",
      "testing nufft_python\n",
      "- Results match the DFT\n",
      "- Execution time (M=100000): 1.3 sec\n",
      "------------------------------\n",
      "testing nufft_numba_fast\n",
      "- Results match the DFT\n",
      "- Execution time (M=100000): 0.063 sec\n",
      "------------------------------\n",
      "testing nufft_fortran\n",
      "- Results match the DFT\n",
      "- Execution time (M=100000): 0.041 sec\n"
     ]
    }
   ],
   "source": [
    "test_nufft(nufft_python)\n",
    "test_nufft(nufft_numba_fast)\n",
    "test_nufft(nufft_fortran)"
   ]
  },
  {
   "cell_type": "markdown",
   "metadata": {
    "slideshow": {
     "slide_type": "slide"
    }
   },
   "source": [
    "The `_pycc_method_build_grid_fast` function - 2752 bytes"
   ]
  },
  {
   "cell_type": "code",
   "execution_count": 55,
   "metadata": {
    "collapsed": true,
    "slideshow": {
     "slide_type": "-"
    }
   },
   "outputs": [],
   "source": [
    "!objdump -D fft.so > fft.dasm"
   ]
  },
  {
   "cell_type": "code",
   "execution_count": 107,
   "metadata": {
    "collapsed": false,
    "slideshow": {
     "slide_type": "-"
    }
   },
   "outputs": [
    {
     "name": "stdout",
     "output_type": "stream",
     "text": [
      "0000000000004180 <._pycc_method_build_grid_fast>:\r\n",
      "    4180:\t55                   \tpush   %rbp\r\n",
      "    4181:\t41 57                \tpush   %r15\r\n",
      "    4183:\t41 56                \tpush   %r14\r\n",
      "    4185:\t41 55                \tpush   %r13\r\n",
      "    4187:\t41 54                \tpush   %r12\r\n",
      "    4189:\t53                   \tpush   %rbx\r\n",
      "    418a:\t48 81 ec 58 02 00 00 \tsub    $0x258,%rsp\r\n",
      "    4191:\t48 89 fb             \tmov    %rdi,%rbx\r\n",
      "    4194:\t48 8d 84 24 28 02 00 \tlea    0x228(%rsp),%rax\r\n",
      "    419b:\t00 \r\n",
      "    419c:\t48 89 44 24 18       \tmov    %rax,0x18(%rsp)\r\n",
      "    41a1:\t48 8d 84 24 30 02 00 \tlea    0x230(%rsp),%rax\r\n",
      "    41a8:\t00 \r\n",
      "    41a9:\t48 89 44 24 10       \tmov    %rax,0x10(%rsp)\r\n",
      "    41ae:\t48 8d 84 24 38 02 00 \tlea    0x238(%rsp),%rax\r\n",
      "    41b5:\t00 \r\n",
      "    41b6:\t48 89 44 24 08       \tmov    %rax,0x8(%rsp)\r\n",
      "    41bb:\t48 8d 84 24 40 02 00 \tlea    0x240(%rsp),%rax\r\n",
      "    41c2:\t00 \r\n",
      "    41c3:\t48 89 04 24          \tmov    %rax,(%rsp)\r\n",
      "    41c7:\t48 8d 2d 4f 8e 00 00 \tlea    0x8e4f(%rip),%rbp        # d01d <.const.build_grid_fast>\r\n",
      "    41ce:\t4c 8d 84 24 50 02 00 \tlea    0x250(%rsp),%r8\r\n",
      "    41d5:\t00 \r\n",
      "    41d6:\t4c 8d 8c 24 48 02 00 \tlea    0x248(%rsp),%r9\r\n",
      "    41dd:\t00 \r\n",
      "    41de:\tba 06 00 00 00       \tmov    $0x6,%edx\r\n",
      "    41e3:\tb9 06 00 00 00       \tmov    $0x6,%ecx\r\n",
      "    41e8:\t31 c0                \txor    %eax,%eax\r\n",
      "    41ea:\t48 89 f7             \tmov    %rsi,%rdi\r\n",
      "    41ed:\t48 89 ee             \tmov    %rbp,%rsi\r\n",
      "    41f0:\te8 fb f7 ff ff       \tcallq  39f0 <PyArg_UnpackTuple@plt>\r\n",
      "    41f5:\t66 0f 57 c0          \txorpd  %xmm0,%xmm0\r\n",
      "    41f9:\t66 0f 29 84 24 10 02 \tmovapd %xmm0,0x210(%rsp)\r\n",
      "    4200:\t00 00 \r\n",
      "    4202:\t66 0f 29 84 24 00 02 \tmovapd %xmm0,0x200(%rsp)\r\n",
      "    4209:\t00 00 \r\n",
      "    420b:\t66 0f 29 84 24 f0 01 \tmovapd %xmm0,0x1f0(%rsp)\r\n",
      "    4212:\t00 00 \r\n",
      "    4214:\t48 c7 84 24 20 02 00 \tmovq   $0x0,0x220(%rsp)\r\n",
      "    421b:\t00 00 00 00 00 \r\n",
      "    4220:\t66 0f 29 84 24 d0 01 \tmovapd %xmm0,0x1d0(%rsp)\r\n",
      "    4227:\t00 00 \r\n",
      "    4229:\t66 0f 29 84 24 c0 01 \tmovapd %xmm0,0x1c0(%rsp)\r\n",
      "    4230:\t00 00 \r\n",
      "    4232:\t66 0f 29 84 24 b0 01 \tmovapd %xmm0,0x1b0(%rsp)\r\n",
      "    4239:\t00 00 \r\n",
      "    423b:\t48 c7 84 24 e0 01 00 \tmovq   $0x0,0x1e0(%rsp)\r\n",
      "    4242:\t00 00 00 00 00 \r\n",
      "    4247:\t66 0f 29 84 24 90 01 \tmovapd %xmm0,0x190(%rsp)\r\n",
      "    424e:\t00 00 \r\n",
      "    4250:\t66 0f 29 84 24 80 01 \tmovapd %xmm0,0x180(%rsp)\r\n",
      "    4257:\t00 00 \r\n",
      "    4259:\t66 0f 29 84 24 70 01 \tmovapd %xmm0,0x170(%rsp)\r\n",
      "    4260:\t00 00 \r\n",
      "    4262:\t48 c7 84 24 a0 01 00 \tmovq   $0x0,0x1a0(%rsp)\r\n",
      "    4269:\t00 00 00 00 00 \r\n",
      "    426e:\t66 0f 29 84 24 50 01 \tmovapd %xmm0,0x150(%rsp)\r\n",
      "    4275:\t00 00 \r\n",
      "    4277:\t66 0f 29 84 24 40 01 \tmovapd %xmm0,0x140(%rsp)\r\n",
      "    427e:\t00 00 \r\n",
      "    4280:\t66 0f 29 84 24 30 01 \tmovapd %xmm0,0x130(%rsp)\r\n",
      "    4287:\t00 00 \r\n",
      "    4289:\t48 c7 84 24 60 01 00 \tmovq   $0x0,0x160(%rsp)\r\n",
      "    4290:\t00 00 00 00 00 \r\n",
      "    4295:\t85 c0                \ttest   %eax,%eax\r\n",
      "    4297:\t0f 84 b8 07 00 00    \tje     4a55 <._pycc_method_build_grid_fast+0x8d5>\r\n",
      "    429d:\t48 85 db             \ttest   %rbx,%rbx\r\n",
      "    42a0:\t0f 84 8b 09 00 00    \tje     4c31 <._pycc_method_build_grid_fast+0xab1>\r\n",
      "    42a6:\t4c 8b 73 18          \tmov    0x18(%rbx),%r14\r\n",
      "    42aa:\t4d 85 f6             \ttest   %r14,%r14\r\n",
      "    42ad:\t0f 84 29 08 00 00    \tje     4adc <._pycc_method_build_grid_fast+0x95c>\r\n",
      "    42b3:\t48 8b bc 24 50 02 00 \tmov    0x250(%rsp),%rdi\r\n",
      "    42ba:\t00 \r\n",
      "    42bb:\t48 8d b4 24 f0 01 00 \tlea    0x1f0(%rsp),%rsi\r\n",
      "    42c2:\t00 \r\n",
      "    42c3:\te8 88 64 00 00       \tcallq  a750 <NRT_adapt_ndarray_from_python>\r\n",
      "    42c8:\t85 c0                \ttest   %eax,%eax\r\n",
      "    42ca:\t0f 85 85 07 00 00    \tjne    4a55 <._pycc_method_build_grid_fast+0x8d5>\r\n",
      "    42d0:\t4c 8b ac 24 f0 01 00 \tmov    0x1f0(%rsp),%r13\r\n",
      "    42d7:\t00 \r\n",
      "    42d8:\t48 8b 84 24 10 02 00 \tmov    0x210(%rsp),%rax\r\n",
      "    42df:\t00 \r\n",
      "    42e0:\t48 89 84 24 a8 00 00 \tmov    %rax,0xa8(%rsp)\r\n",
      "    42e7:\t00 \r\n",
      "    42e8:\t48 8b 84 24 18 02 00 \tmov    0x218(%rsp),%rax\r\n",
      "    42ef:\t00 \r\n",
      "    42f0:\t48 89 84 24 d0 00 00 \tmov    %rax,0xd0(%rsp)\r\n",
      "    42f7:\t00 \r\n",
      "    42f8:\t48 8b 84 24 20 02 00 \tmov    0x220(%rsp),%rax\r\n",
      "    42ff:\t00 \r\n",
      "    4300:\t48 89 84 24 a0 00 00 \tmov    %rax,0xa0(%rsp)\r\n",
      "    4307:\t00 \r\n",
      "    4308:\t48 8b bc 24 48 02 00 \tmov    0x248(%rsp),%rdi\r\n",
      "    430f:\t00 \r\n",
      "    4310:\t48 8d b4 24 b0 01 00 \tlea    0x1b0(%rsp),%rsi\r\n",
      "    4317:\t00 \r\n",
      "    4318:\te8 33 64 00 00       \tcallq  a750 <NRT_adapt_ndarray_from_python>\r\n",
      "    431d:\t85 c0                \ttest   %eax,%eax\r\n",
      "    431f:\t0f 85 0e 08 00 00    \tjne    4b33 <._pycc_method_build_grid_fast+0x9b3>\r\n",
      "    4325:\t48 8b 84 24 b0 01 00 \tmov    0x1b0(%rsp),%rax\r\n",
      "    432c:\t00 \r\n",
      "    432d:\t48 89 84 24 80 00 00 \tmov    %rax,0x80(%rsp)\r\n",
      "    4334:\t00 \r\n",
      "    4335:\t48 8b 84 24 d0 01 00 \tmov    0x1d0(%rsp),%rax\r\n",
      "    433c:\t00 \r\n",
      "    433d:\t48 89 84 24 98 00 00 \tmov    %rax,0x98(%rsp)\r\n",
      "    4344:\t00 \r\n",
      "    4345:\t48 8b 84 24 e0 01 00 \tmov    0x1e0(%rsp),%rax\r\n",
      "    434c:\t00 \r\n",
      "    434d:\t48 89 44 24 78       \tmov    %rax,0x78(%rsp)\r\n",
      "    4352:\t48 8b bc 24 40 02 00 \tmov    0x240(%rsp),%rdi\r\n",
      "    4359:\t00 \r\n",
      "    435a:\te8 21 f3 ff ff       \tcallq  3680 <PyNumber_Float@plt>\r\n",
      "    435f:\t48 89 c3             \tmov    %rax,%rbx\r\n",
      "    4362:\t48 89 df             \tmov    %rbx,%rdi\r\n",
      "    4365:\te8 c6 f7 ff ff       \tcallq  3b30 <PyFloat_AsDouble@plt>\r\n",
      "    436a:\tf2 0f 11 84 24 f0 00 \tmovsd  %xmm0,0xf0(%rsp)\r\n",
      "    4371:\t00 00 \r\n",
      "    4373:\t48 89 df             \tmov    %rbx,%rdi\r\n",
      "    4376:\te8 05 f8 ff ff       \tcallq  3b80 <Py_DecRef@plt>\r\n",
      "    437b:\te8 90 f6 ff ff       \tcallq  3a10 <PyErr_Occurred@plt>\r\n",
      "    4380:\t48 85 c0             \ttest   %rax,%rax\r\n",
      "    4383:\t0f 85 87 07 00 00    \tjne    4b10 <._pycc_method_build_grid_fast+0x990>\r\n",
      "    4389:\t48 8b bc 24 38 02 00 \tmov    0x238(%rsp),%rdi\r\n",
      "    4390:\t00 \r\n",
      "    4391:\te8 8a f3 ff ff       \tcallq  3720 <PyNumber_Long@plt>\r\n",
      "    4396:\t48 89 c5             \tmov    %rax,%rbp\r\n",
      "    4399:\t48 85 ed             \ttest   %rbp,%rbp\r\n",
      "    439c:\t48 89 84 24 c8 00 00 \tmov    %rax,0xc8(%rsp)\r\n",
      "    43a3:\t00 \r\n",
      "    43a4:\t74 18                \tje     43be <._pycc_method_build_grid_fast+0x23e>\r\n",
      "    43a6:\t48 89 ef             \tmov    %rbp,%rdi\r\n",
      "    43a9:\te8 d2 f8 ff ff       \tcallq  3c80 <PyLong_AsLongLong@plt>\r\n",
      "    43ae:\t48 89 84 24 c8 00 00 \tmov    %rax,0xc8(%rsp)\r\n",
      "    43b5:\t00 \r\n",
      "    43b6:\t48 89 ef             \tmov    %rbp,%rdi\r\n",
      "    43b9:\te8 c2 f7 ff ff       \tcallq  3b80 <Py_DecRef@plt>\r\n",
      "    43be:\te8 4d f6 ff ff       \tcallq  3a10 <PyErr_Occurred@plt>\r\n",
      "    43c3:\t48 85 c0             \ttest   %rax,%rax\r\n",
      "    43c6:\t0f 85 44 07 00 00    \tjne    4b10 <._pycc_method_build_grid_fast+0x990>\r\n",
      "    43cc:\t48 8b bc 24 30 02 00 \tmov    0x230(%rsp),%rdi\r\n",
      "    43d3:\t00 \r\n",
      "    43d4:\t48 8d b4 24 70 01 00 \tlea    0x170(%rsp),%rsi\r\n",
      "    43db:\t00 \r\n",
      "    43dc:\te8 6f 63 00 00       \tcallq  a750 <NRT_adapt_ndarray_from_python>\r\n",
      "    43e1:\t85 c0                \ttest   %eax,%eax\r\n",
      "    43e3:\t0f 85 27 07 00 00    \tjne    4b10 <._pycc_method_build_grid_fast+0x990>\r\n",
      "    43e9:\t4c 89 74 24 30       \tmov    %r14,0x30(%rsp)\r\n",
      "    43ee:\t48 8b ac 24 70 01 00 \tmov    0x170(%rsp),%rbp\r\n",
      "    43f5:\t00 \r\n",
      "    43f6:\t48 8b 84 24 78 01 00 \tmov    0x178(%rsp),%rax\r\n",
      "    43fd:\t00 \r\n",
      "    43fe:\t48 89 44 24 48       \tmov    %rax,0x48(%rsp)\r\n",
      "    4403:\t48 8b 84 24 80 01 00 \tmov    0x180(%rsp),%rax\r\n",
      "    440a:\t00 \r\n",
      "    440b:\t48 89 44 24 50       \tmov    %rax,0x50(%rsp)\r\n",
      "    4410:\t48 8b 84 24 88 01 00 \tmov    0x188(%rsp),%rax\r\n",
      "    4417:\t00 \r\n",
      "    4418:\t48 89 44 24 40       \tmov    %rax,0x40(%rsp)\r\n",
      "    441d:\t4c 8b bc 24 90 01 00 \tmov    0x190(%rsp),%r15\r\n",
      "    4424:\t00 \r\n",
      "    4425:\t4c 8b a4 24 98 01 00 \tmov    0x198(%rsp),%r12\r\n",
      "    442c:\t00 \r\n",
      "    442d:\t48 8b 9c 24 a0 01 00 \tmov    0x1a0(%rsp),%rbx\r\n",
      "    4434:\t00 \r\n",
      "    4435:\t48 8b bc 24 28 02 00 \tmov    0x228(%rsp),%rdi\r\n",
      "    443c:\t00 \r\n",
      "    443d:\t48 8d b4 24 30 01 00 \tlea    0x130(%rsp),%rsi\r\n",
      "    4444:\t00 \r\n",
      "    4445:\te8 06 63 00 00       \tcallq  a750 <NRT_adapt_ndarray_from_python>\r\n",
      "    444a:\t85 c0                \ttest   %eax,%eax\r\n",
      "    444c:\t0f 85 a2 06 00 00    \tjne    4af4 <._pycc_method_build_grid_fast+0x974>\r\n",
      "    4452:\t48 8b 8c 24 30 01 00 \tmov    0x130(%rsp),%rcx\r\n",
      "    4459:\t00 \r\n",
      "    445a:\t48 8b 84 24 50 01 00 \tmov    0x150(%rsp),%rax\r\n",
      "    4461:\t00 \r\n",
      "    4462:\t48 89 84 24 88 00 00 \tmov    %rax,0x88(%rsp)\r\n",
      "    4469:\t00 \r\n",
      "    446a:\t48 8b b4 24 60 01 00 \tmov    0x160(%rsp),%rsi\r\n",
      "    4471:\t00 \r\n",
      "    4472:\t4d 85 ed             \ttest   %r13,%r13\r\n",
      "    4475:\t74 05                \tje     447c <._pycc_method_build_grid_fast+0x2fc>\r\n",
      "    4477:\tf0 49 ff 45 00       \tlock incq 0x0(%r13)\r\n",
      "    447c:\t48 8b bc 24 80 00 00 \tmov    0x80(%rsp),%rdi\r\n",
      "    4483:\t00 \r\n",
      "    4484:\t48 85 ff             \ttest   %rdi,%rdi\r\n",
      "    4487:\tf2 0f 10 8c 24 f0 00 \tmovsd  0xf0(%rsp),%xmm1\r\n",
      "    448e:\t00 00 \r\n",
      "    4490:\t74 04                \tje     4496 <._pycc_method_build_grid_fast+0x316>\r\n",
      "    4492:\tf0 48 ff 07          \tlock incq (%rdi)\r\n",
      "    4496:\t4c 89 6c 24 60       \tmov    %r13,0x60(%rsp)\r\n",
      "    449b:\t48 85 ed             \ttest   %rbp,%rbp\r\n",
      "    449e:\t74 05                \tje     44a5 <._pycc_method_build_grid_fast+0x325>\r\n",
      "    44a0:\tf0 48 ff 45 00       \tlock incq 0x0(%rbp)\r\n",
      "    44a5:\t48 89 9c 24 b0 00 00 \tmov    %rbx,0xb0(%rsp)\r\n",
      "    44ac:\t00 \r\n",
      "    44ad:\t48 85 c9             \ttest   %rcx,%rcx\r\n",
      "    44b0:\t74 04                \tje     44b6 <._pycc_method_build_grid_fast+0x336>\r\n",
      "    44b2:\tf0 48 ff 01          \tlock incq (%rcx)\r\n",
      "    44b6:\t48 89 6c 24 68       \tmov    %rbp,0x68(%rsp)\r\n"
     ]
    }
   ],
   "source": [
    "!grep -A200 00004180.*_pycc_method_build_grid_fast  fft.dasm"
   ]
  },
  {
   "cell_type": "code",
   "execution_count": 101,
   "metadata": {
    "collapsed": false,
    "slideshow": {
     "slide_type": "skip"
    }
   },
   "outputs": [
    {
     "name": "stdout",
     "output_type": "stream",
     "text": [
      "    3f10:\tb8 01 00 00 00       \tmov    $0x1,%eax\r\n",
      "    3f15:\tf0 48 0f c1 07       \tlock xadd %rax,(%rdi)\r\n",
      "    3f1a:\t48 ff c0             \tinc    %rax\r\n",
      "    3f1d:\tc3                   \tretq   \r\n",
      "    3f1e:\t66 90                \txchg   %ax,%ax\r\n",
      "\r\n",
      "0000000000003f20 <nrt_atomic_sub>:\r\n",
      "    3f20:\t48 c7 c0 ff ff ff ff \tmov    $0xffffffffffffffff,%rax\r\n",
      "    3f27:\tf0 48 0f c1 07       \tlock xadd %rax,(%rdi)\r\n",
      "    3f2c:\t48 ff c8             \tdec    %rax\r\n",
      "    3f2f:\tc3                   \tretq   \r\n",
      "\r\n",
      "0000000000003f30 <nrt_atomic_cas>:\r\n",
      "    3f30:\t48 89 f0             \tmov    %rsi,%rax\r\n",
      "    3f33:\tf0 48 0f b1 17       \tlock cmpxchg %rdx,(%rdi)\r\n",
      "    3f38:\t0f 94 c2             \tsete   %dl\r\n",
      "    3f3b:\t48 89 01             \tmov    %rax,(%rcx)\r\n",
      "    3f3e:\t0f b6 c2             \tmovzbl %dl,%eax\r\n",
      "    3f41:\tc3                   \tretq   \r\n",
      "    3f42:\t66 66 66 66 66 2e 0f \tdata16 data16 data16 data16 nopw %cs:0x0(%rax,%rax,1)\r\n",
      "    3f49:\t1f 84 00 00 00 00 00 \r\n",
      "\r\n",
      "0000000000003f50 <NRT_MemInfo_data_fast>:\r\n",
      "    3f50:\t48 8b 47 18          \tmov    0x18(%rdi),%rax\r\n",
      "    3f54:\tc3                   \tretq   \r\n",
      "    3f55:\t66 66 2e 0f 1f 84 00 \tdata16 nopw %cs:0x0(%rax,%rax,1)\r\n",
      "    3f5c:\t00 00 00 00 \r\n",
      "\r\n",
      "0000000000003f60 <NRT_incref>:\r\n",
      "    3f60:\t48 85 ff             \ttest   %rdi,%rdi\r\n",
      "    3f63:\t74 05                \tje     3f6a <NRT_incref+0xa>\r\n",
      "    3f65:\tf0 48 ff 07          \tlock incq (%rdi)\r\n",
      "    3f69:\tc3                   \tretq   \r\n",
      "    3f6a:\tc3                   \tretq   \r\n",
      "    3f6b:\t0f 1f 44 00 00       \tnopl   0x0(%rax,%rax,1)\r\n",
      "\r\n",
      "0000000000003f70 <NRT_decref>:\r\n",
      "    3f70:\t48 85 ff             \ttest   %rdi,%rdi\r\n",
      "    3f73:\t74 12                \tje     3f87 <NRT_decref+0x17>\r\n",
      "    3f75:\t48 c7 c0 ff ff ff ff \tmov    $0xffffffffffffffff,%rax\r\n",
      "    3f7c:\tf0 48 0f c1 07       \tlock xadd %rax,(%rdi)\r\n",
      "    3f81:\t48 83 f8 01          \tcmp    $0x1,%rax\r\n",
      "    3f85:\t74 01                \tje     3f88 <NRT_decref+0x18>\r\n",
      "    3f87:\tc3                   \tretq   \r\n",
      "    3f88:\te9 83 8c 00 00       \tjmpq   cc10 <NRT_MemInfo_call_dtor>\r\n",
      "    3f8d:\t0f 1f 00             \tnopl   (%rax)\r\n",
      "\r\n",
      "0000000000003f90 <._pycc_method_add_int>:\r\n",
      "    3f90:\t55                   \tpush   %rbp\r\n",
      "    3f91:\t41 57                \tpush   %r15\r\n",
      "    3f93:\t41 56                \tpush   %r14\r\n",
      "    3f95:\t41 55                \tpush   %r13\r\n",
      "    3f97:\t41 54                \tpush   %r12\r\n",
      "    3f99:\t53                   \tpush   %rbx\r\n",
      "    3f9a:\t48 81 ec 88 00 00 00 \tsub    $0x88,%rsp\r\n",
      "    3fa1:\t48 89 fb             \tmov    %rdi,%rbx\r\n",
      "    3fa4:\t4c 8d 0d d5 8f 00 00 \tlea    0x8fd5(%rip),%r9        # cf80 <.const.add_int>\r\n",
      "    3fab:\t4c 8d 84 24 80 00 00 \tlea    0x80(%rsp),%r8\r\n",
      "    3fb2:\t00 \r\n",
      "    3fb3:\tba 01 00 00 00       \tmov    $0x1,%edx\r\n",
      "    3fb8:\tb9 01 00 00 00       \tmov    $0x1,%ecx\r\n",
      "    3fbd:\t31 c0                \txor    %eax,%eax\r\n",
      "    3fbf:\t48 89 f7             \tmov    %rsi,%rdi\r\n",
      "    3fc2:\t4c 89 ce             \tmov    %r9,%rsi\r\n",
      "    3fc5:\te8 26 fa ff ff       \tcallq  39f0 <PyArg_UnpackTuple@plt>\r\n",
      "    3fca:\t0f 57 c0             \txorps  %xmm0,%xmm0\r\n",
      "    3fcd:\t0f 29 44 24 60       \tmovaps %xmm0,0x60(%rsp)\r\n",
      "    3fd2:\t0f 29 44 24 50       \tmovaps %xmm0,0x50(%rsp)\r\n",
      "    3fd7:\t0f 29 44 24 40       \tmovaps %xmm0,0x40(%rsp)\r\n",
      "    3fdc:\t48 c7 44 24 70 00 00 \tmovq   $0x0,0x70(%rsp)\r\n",
      "    3fe3:\t00 00 \r\n",
      "    3fe5:\t85 c0                \ttest   %eax,%eax\r\n",
      "    3fe7:\t0f 84 61 01 00 00    \tje     414e <._pycc_method_add_int+0x1be>\r\n",
      "    3fed:\t48 85 db             \ttest   %rbx,%rbx\r\n",
      "    3ff0:\t0f 84 76 01 00 00    \tje     416c <._pycc_method_add_int+0x1dc>\r\n",
      "    3ff6:\t48 8b 5b 18          \tmov    0x18(%rbx),%rbx\r\n",
      "    3ffa:\t48 85 db             \ttest   %rbx,%rbx\r\n",
      "    3ffd:\t0f 84 38 01 00 00    \tje     413b <._pycc_method_add_int+0x1ab>\r\n",
      "    4003:\t48 8b bc 24 80 00 00 \tmov    0x80(%rsp),%rdi\r\n",
      "    400a:\t00 \r\n",
      "    400b:\t48 8d 74 24 40       \tlea    0x40(%rsp),%rsi\r\n",
      "    4010:\te8 3b 67 00 00       \tcallq  a750 <NRT_adapt_ndarray_from_python>\r\n",
      "    4015:\t85 c0                \ttest   %eax,%eax\r\n",
      "    4017:\t0f 85 31 01 00 00    \tjne    414e <._pycc_method_add_int+0x1be>\r\n",
      "    401d:\t48 89 1c 24          \tmov    %rbx,(%rsp)\r\n",
      "    4021:\t48 8b 5c 24 40       \tmov    0x40(%rsp),%rbx\r\n",
      "    4026:\t48 8b 6c 24 60       \tmov    0x60(%rsp),%rbp\r\n",
      "    402b:\t4c 8b 64 24 68       \tmov    0x68(%rsp),%r12\r\n",
      "    4030:\t4c 8b 7c 24 70       \tmov    0x70(%rsp),%r15\r\n",
      "    4035:\t48 85 db             \ttest   %rbx,%rbx\r\n",
      "    4038:\t74 04                \tje     403e <._pycc_method_add_int+0xae>\r\n",
      "    403a:\tf0 48 ff 03          \tlock incq (%rbx)\r\n",
      "    403e:\t4a 8d 3c e5 00 00 00 \tlea    0x0(,%r12,8),%rdi\r\n",
      "    4045:\t00 \r\n",
      "    4046:\tbe 20 00 00 00       \tmov    $0x20,%esi\r\n",
      "    404b:\te8 90 8a 00 00       \tcallq  cae0 <NRT_MemInfo_alloc_safe_aligned>\r\n",
      "    4050:\t49 89 c6             \tmov    %rax,%r14\r\n",
      "    4053:\t4d 8b 6e 18          \tmov    0x18(%r14),%r13\r\n",
      "    4057:\t4d 85 e4             \ttest   %r12,%r12\r\n",
      "    405a:\t7e 47                \tjle    40a3 <._pycc_method_add_int+0x113>\r\n",
      "    405c:\tb8 be ba fe ca       \tmov    $0xcafebabe,%eax\r\n",
      "    4061:\t4c 89 e9             \tmov    %r13,%rcx\r\n",
      "    4064:\t4c 89 e2             \tmov    %r12,%rdx\r\n",
      "    4067:\t49 83 fc 02          \tcmp    $0x2,%r12\r\n",
      "    406b:\t72 23                \tjb     4090 <._pycc_method_add_int+0x100>\r\n",
      "    406d:\t0f 1f 00             \tnopl   (%rax)\r\n",
      "    4070:\t48 8b 75 00          \tmov    0x0(%rbp),%rsi\r\n",
      "    4074:\t48 01 c6             \tadd    %rax,%rsi\r\n",
      "    4077:\t48 89 31             \tmov    %rsi,(%rcx)\r\n",
      "    407a:\t4c 01 fd             \tadd    %r15,%rbp\r\n",
      "    407d:\t48 83 c1 08          \tadd    $0x8,%rcx\r\n",
      "    4081:\t48 ff ca             \tdec    %rdx\r\n",
      "    4084:\t75 ea                \tjne    4070 <._pycc_method_add_int+0xe0>\r\n",
      "    4086:\teb 1b                \tjmp    40a3 <._pycc_method_add_int+0x113>\r\n",
      "    4088:\t0f 1f 84 00 00 00 00 \tnopl   0x0(%rax,%rax,1)\r\n",
      "    408f:\t00 \r\n",
      "    4090:\t48 8b 75 00          \tmov    0x0(%rbp),%rsi\r\n",
      "    4094:\t48 01 c6             \tadd    %rax,%rsi\r\n",
      "    4097:\t48 89 31             \tmov    %rsi,(%rcx)\r\n",
      "    409a:\t48 83 c1 08          \tadd    $0x8,%rcx\r\n",
      "    409e:\t48 ff ca             \tdec    %rdx\r\n",
      "    40a1:\t75 ed                \tjne    4090 <._pycc_method_add_int+0x100>\r\n",
      "    40a3:\t48 85 db             \ttest   %rbx,%rbx\r\n",
      "    40a6:\t74 2c                \tje     40d4 <._pycc_method_add_int+0x144>\r\n",
      "    40a8:\t48 c7 c5 ff ff ff ff \tmov    $0xffffffffffffffff,%rbp\r\n",
      "    40af:\t48 c7 c0 ff ff ff ff \tmov    $0xffffffffffffffff,%rax\r\n",
      "    40b6:\tf0 48 0f c1 03       \tlock xadd %rax,(%rbx)\r\n",
      "    40bb:\t48 83 f8 01          \tcmp    $0x1,%rax\r\n",
      "    40bf:\t0f 84 8d 00 00 00    \tje     4152 <._pycc_method_add_int+0x1c2>\r\n",
      "    40c5:\tf0 48 0f c1 2b       \tlock xadd %rbp,(%rbx)\r\n",
      "    40ca:\t48 83 fd 01          \tcmp    $0x1,%rbp\r\n",
      "    40ce:\t0f 84 8b 00 00 00    \tje     415f <._pycc_method_add_int+0x1cf>\r\n",
      "    40d4:\t48 8b 04 24          \tmov    (%rsp),%rax\r\n",
      "    40d8:\t48 8b 78 18          \tmov    0x18(%rax),%rdi\r\n",
      "    40dc:\t31 f6                \txor    %esi,%esi\r\n",
      "    40de:\te8 8d fc ff ff       \tcallq  3d70 <PyList_GetItem@plt>\r\n",
      "    40e3:\t4c 89 74 24 08       \tmov    %r14,0x8(%rsp)\r\n",
      "    40e8:\t48 c7 44 24 10 00 00 \tmovq   $0x0,0x10(%rsp)\r\n",
      "    40ef:\t00 00 \r\n",
      "    40f1:\t4c 89 64 24 18       \tmov    %r12,0x18(%rsp)\r\n",
      "    40f6:\t48 c7 44 24 20 08 00 \tmovq   $0x8,0x20(%rsp)\r\n",
      "    40fd:\t00 00 \r\n",
      "    40ff:\t4c 89 6c 24 28       \tmov    %r13,0x28(%rsp)\r\n",
      "    4104:\t4c 89 64 24 30       \tmov    %r12,0x30(%rsp)\r\n",
      "    4109:\t48 c7 44 24 38 08 00 \tmovq   $0x8,0x38(%rsp)\r\n",
      "    4110:\t00 00 \r\n",
      "    4112:\t48 8d 7c 24 08       \tlea    0x8(%rsp),%rdi\r\n",
      "    4117:\tbe 01 00 00 00       \tmov    $0x1,%esi\r\n",
      "    411c:\tba 01 00 00 00       \tmov    $0x1,%edx\r\n",
      "    4121:\t48 89 c1             \tmov    %rax,%rcx\r\n",
      "    4124:\te8 17 67 00 00       \tcallq  a840 <NRT_adapt_ndarray_to_python>\r\n",
      "    4129:\t48 81 c4 88 00 00 00 \tadd    $0x88,%rsp\r\n",
      "    4130:\t5b                   \tpop    %rbx\r\n",
      "    4131:\t41 5c                \tpop    %r12\r\n",
      "    4133:\t41 5d                \tpop    %r13\r\n",
      "    4135:\t41 5e                \tpop    %r14\r\n",
      "    4137:\t41 5f                \tpop    %r15\r\n",
      "    4139:\t5d                   \tpop    %rbp\r\n",
      "    413a:\tc3                   \tretq   \r\n",
      "    413b:\t48 8b 3d f6 dd 20 00 \tmov    0x20ddf6(%rip),%rdi        # 211f38 <_DYNAMIC+0x1f8>\r\n",
      "    4142:\t48 8d 35 77 8e 00 00 \tlea    0x8e77(%rip),%rsi        # cfc0 <.const.missing Environment>\r\n",
      "    4149:\te8 f2 f5 ff ff       \tcallq  3740 <PyErr_SetString@plt>\r\n",
      "    414e:\t31 c0                \txor    %eax,%eax\r\n",
      "    4150:\teb d7                \tjmp    4129 <._pycc_method_add_int+0x199>\r\n",
      "    4152:\t48 89 df             \tmov    %rbx,%rdi\r\n",
      "    4155:\te8 b6 8a 00 00       \tcallq  cc10 <NRT_MemInfo_call_dtor>\r\n",
      "    415a:\te9 66 ff ff ff       \tjmpq   40c5 <._pycc_method_add_int+0x135>\r\n",
      "    415f:\t48 89 df             \tmov    %rbx,%rdi\r\n",
      "    4162:\te8 a9 8a 00 00       \tcallq  cc10 <NRT_MemInfo_call_dtor>\r\n",
      "    4167:\te9 68 ff ff ff       \tjmpq   40d4 <._pycc_method_add_int+0x144>\r\n",
      "    416c:\t48 8d 3d 1d 8e 00 00 \tlea    0x8e1d(%rip),%rdi        # cf90 <.const.Fatal error: missing _dynfunc.Closure>\r\n",
      "    4173:\te8 28 f4 ff ff       \tcallq  35a0 <puts@plt>\r\n",
      "    4178:\t0f 1f 84 00 00 00 00 \tnopl   0x0(%rax,%rax,1)\r\n",
      "    417f:\t00 \r\n",
      "\r\n",
      "0000000000004180 <._pycc_method_build_grid_fast>:\r\n",
      "    4180:\t55                   \tpush   %rbp\r\n",
      "    4181:\t41 57                \tpush   %r15\r\n",
      "    4183:\t41 56                \tpush   %r14\r\n",
      "    4185:\t41 55                \tpush   %r13\r\n",
      "    4187:\t41 54                \tpush   %r12\r\n",
      "    4189:\t53                   \tpush   %rbx\r\n",
      "    418a:\t48 81 ec 58 02 00 00 \tsub    $0x258,%rsp\r\n",
      "    4191:\t48 89 fb             \tmov    %rdi,%rbx\r\n",
      "    4194:\t48 8d 84 24 28 02 00 \tlea    0x228(%rsp),%rax\r\n",
      "    419b:\t00 \r\n",
      "    419c:\t48 89 44 24 18       \tmov    %rax,0x18(%rsp)\r\n",
      "    41a1:\t48 8d 84 24 30 02 00 \tlea    0x230(%rsp),%rax\r\n",
      "    41a8:\t00 \r\n",
      "    41a9:\t48 89 44 24 10       \tmov    %rax,0x10(%rsp)\r\n",
      "    41ae:\t48 8d 84 24 38 02 00 \tlea    0x238(%rsp),%rax\r\n",
      "    41b5:\t00 \r\n",
      "    41b6:\t48 89 44 24 08       \tmov    %rax,0x8(%rsp)\r\n",
      "    41bb:\t48 8d 84 24 40 02 00 \tlea    0x240(%rsp),%rax\r\n",
      "    41c2:\t00 \r\n",
      "    41c3:\t48 89 04 24          \tmov    %rax,(%rsp)\r\n",
      "    41c7:\t48 8d 2d 4f 8e 00 00 \tlea    0x8e4f(%rip),%rbp        # d01d <.const.build_grid_fast>\r\n",
      "    41ce:\t4c 8d 84 24 50 02 00 \tlea    0x250(%rsp),%r8\r\n",
      "    41d5:\t00 \r\n",
      "    41d6:\t4c 8d 8c 24 48 02 00 \tlea    0x248(%rsp),%r9\r\n",
      "    41dd:\t00 \r\n"
     ]
    }
   ],
   "source": [
    "!grep -B100 -A100 cafebabe fft.dasm"
   ]
  },
  {
   "cell_type": "markdown",
   "metadata": {
    "slideshow": {
     "slide_type": "slide"
    }
   },
   "source": [
    "## Take a simple function\n"
   ]
  },
  {
   "cell_type": "code",
   "execution_count": null,
   "metadata": {
    "collapsed": true
   },
   "outputs": [],
   "source": [
    "@cc.export('add_int', 'i8[:](i8[:])')\n",
    "def add_int(x):\n",
    "    return x + 0xcafebabe"
   ]
  },
  {
   "cell_type": "markdown",
   "metadata": {
    "slideshow": {
     "slide_type": "slide"
    }
   },
   "source": [
    "* `add_int` become just a 22 bytes loop (whole function size = 496 bytes)\n",
    "\n",
    "```\n",
    "    4070:\tmov    0x0(%rbp),%rsi\n",
    "    4074:\tadd    %rax,%rsi  ; %rax = 0xcafebabe\n",
    "    4077:\tmov    %rsi,(%rcx)\n",
    "    407a:\tadd    $0x8,%rbp\n",
    "    407d:\tadd    $0x8,%rcx\n",
    "    4081:\tdec    %rdx    ; %rdx is array counter\n",
    "    4084:\tjne    4070 <._pycc_method_add_int+0xe0>\n",
    "    4086:\tjmp    40a3 <._pycc_method_add_int+0x113>\n",
    " ```"
   ]
  },
  {
   "cell_type": "markdown",
   "metadata": {
    "slideshow": {
     "slide_type": "slide"
    }
   },
   "source": [
    "## What is PyData is good at?\n",
    "\n",
    "Let's compare to the Apache Data stack"
   ]
  },
  {
   "cell_type": "markdown",
   "metadata": {
    "slideshow": {
     "slide_type": "slide"
    }
   },
   "source": [
    "![bigdata](https://raw.githubusercontent.com/sketchytechky/PyData-Intro/master/apache_stack.jpg)"
   ]
  },
  {
   "cell_type": "markdown",
   "metadata": {
    "slideshow": {
     "slide_type": "slide"
    }
   },
   "source": [
    "\n",
    "\n",
    "![image](https://raw.githubusercontent.com/sketchytechky/PyData-Intro/master/scaleup_out.jpg)"
   ]
  },
  {
   "cell_type": "markdown",
   "metadata": {
    "slideshow": {
     "slide_type": "slide"
    }
   },
   "source": [
    "## What PyData goods at: Scaling Up\n",
    "\n",
    "\n",
    "A PyData shaped problem:\n",
    "* Problem that data can hold in memory space.\n",
    "* Especially arrays - large table, high dimension tables\n",
    "\n",
    "\n",
    "But.... if it doesnt fit:\n",
    "* There're a glue layer utilizing best of both world\n",
    "  - hadoop streaming\n",
    "  - pysparks, pyflink\n"
   ]
  },
  {
   "cell_type": "markdown",
   "metadata": {
    "slideshow": {
     "slide_type": "-"
    }
   },
   "source": [
    "## Good pattern: *Scale up before scale out*\n",
    "\n",
    "Scale up is easier than scaling out:\n",
    "* Cost associated with \"parallelizing\" an algorithm (e.g. SVM)\n",
    "* Devops cost involve in distributing\n"
   ]
  },
  {
   "cell_type": "markdown",
   "metadata": {
    "slideshow": {
     "slide_type": "slide"
    }
   },
   "source": [
    "\n",
    "## Future: Scale out in Python\n",
    "\n",
    "![UpVOut](http://image.slidesharecdn.com/scaleupscaleout-160314201333/95/scale-up-and-scale-out-anaconda-and-pydata-4-638.jpg?cb=1457986501)\n"
   ]
  },
  {
   "cell_type": "markdown",
   "metadata": {
    "slideshow": {
     "slide_type": "slide"
    }
   },
   "source": [
    "## Please try it out!\n",
    "\n",
    "* Easy to get started\n",
    "   - Anaconda https://www.continuum.io/downloads\n",
    "* All layer of your data need is support out of one install"
   ]
  },
  {
   "cell_type": "markdown",
   "metadata": {
    "slideshow": {
     "slide_type": "-"
    }
   },
   "source": [
    "\n",
    "# Thanks\n",
    "\n",
    "Questions?\n",
    "\n",
    "https://github.com/sketchytechky/PyData-Intro/"
   ]
  }
 ],
 "metadata": {
  "celltoolbar": "Slideshow",
  "kernelspec": {
   "display_name": "Python 2",
   "language": "python",
   "name": "python2"
  },
  "language_info": {
   "codemirror_mode": {
    "name": "ipython",
    "version": 2
   },
   "file_extension": ".py",
   "mimetype": "text/x-python",
   "name": "python",
   "nbconvert_exporter": "python",
   "pygments_lexer": "ipython2",
   "version": "2.7.10"
  }
 },
 "nbformat": 4,
 "nbformat_minor": 0
}
