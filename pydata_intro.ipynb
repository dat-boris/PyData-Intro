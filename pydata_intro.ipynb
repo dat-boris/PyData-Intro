{
 "cells": [
  {
   "cell_type": "markdown",
   "metadata": {
    "collapsed": true,
    "slideshow": {
     "slide_type": "slide"
    }
   },
   "source": [
    "# High and low of PyData\n",
    "\n",
    "The wonderful playground of pydata and why you should check it out.\n",
    "\n",
    "![Mobify](https://www.mobify.com/wp-content/themes/sparkjoy-mobify-may-16-v2/library/images/logo-mobify-spark-sm-black.png)"
   ]
  },
  {
   "cell_type": "markdown",
   "metadata": {
    "slideshow": {
     "slide_type": "slide"
    }
   },
   "source": [
    "## Journey of an apprentice\n",
    "\n",
    "* Started as a reverse engineer\n",
    "* Founded a startup Pathful - building a Python Data Pipeline\n",
    "* Now I work in Mobify - also Python Data Pipeline!"
   ]
  },
  {
   "cell_type": "code",
   "execution_count": 11,
   "metadata": {
    "collapsed": true
   },
   "outputs": [],
   "source": [
    "import dis\n",
    "import numpy, pandas"
   ]
  },
  {
   "cell_type": "code",
   "execution_count": 12,
   "metadata": {
    "collapsed": true,
    "slideshow": {
     "slide_type": "skip"
    }
   },
   "outputs": [],
   "source": [
    "from __future__ import print_function, division"
   ]
  },
  {
   "cell_type": "markdown",
   "metadata": {
    "slideshow": {
     "slide_type": "slide"
    }
   },
   "source": [
    "# PyData stack\n",
    "\n",
    "What is PyData?"
   ]
  },
  {
   "cell_type": "markdown",
   "metadata": {
    "slideshow": {
     "slide_type": "slide"
    }
   },
   "source": [
    "### ![Stack diagram](http://image.slidesharecdn.com/pydatanyc2015-151110132252-lva1-app6891/95/pydata-nyc-2015-3-638.jpg?cb=1447161910)\n"
   ]
  },
  {
   "cell_type": "markdown",
   "metadata": {
    "slideshow": {
     "slide_type": "slide"
    }
   },
   "source": [
    "![img](http://i.imgur.com/W8eL40X.jpg)"
   ]
  },
  {
   "cell_type": "markdown",
   "metadata": {
    "slideshow": {
     "slide_type": "slide"
    }
   },
   "source": [
    "### Example python stack\n",
    "\n",
    "* IPython - platform\n",
    "* Conda - packaging\n",
    "* Bokeh, matplotlib for visualization\n",
    "* statsmodel, Scipy, PyMC, NetworkX sklearn - `import smartness`\n",
    "* Pandas, Blaze - Data access API\n",
    "* Airflow, Lugi - Data pipeline management\n",
    "* Maths operation - numpy, numba"
   ]
  },
  {
   "cell_type": "markdown",
   "metadata": {
    "slideshow": {
     "slide_type": "slide"
    }
   },
   "source": [
    "## Compare to apache\n",
    "\n",
    "![apache](https://datakulfi.files.wordpress.com/2013/03/bigdataopensourcetechnologystack.png)"
   ]
  },
  {
   "cell_type": "markdown",
   "metadata": {
    "slideshow": {
     "slide_type": "slide"
    }
   },
   "source": [
    "![bigdata](http://i.imgur.com/jT7EpE6.jpg)"
   ]
  },
  {
   "cell_type": "markdown",
   "metadata": {
    "slideshow": {
     "slide_type": "slide"
    }
   },
   "source": [
    "\n",
    "![UpVOut](http://image.slidesharecdn.com/scaleupscaleout-160314201333/95/scale-up-and-scale-out-anaconda-and-pydata-4-638.jpg?cb=1457986501)\n"
   ]
  },
  {
   "cell_type": "markdown",
   "metadata": {
    "slideshow": {
     "slide_type": "slide"
    }
   },
   "source": [
    "![image](http://i.imgur.com/fRIDTNf.jpg)"
   ]
  },
  {
   "cell_type": "markdown",
   "metadata": {
    "slideshow": {
     "slide_type": "slide"
    }
   },
   "source": [
    "# Why Scale up?\n",
    "\n",
    "Enable much easier access\n",
    "* Cost associated with \"parallelizing\" an algorithm (e.g. SVM)\n",
    "* Devops cost involve in distributing\n"
   ]
  },
  {
   "cell_type": "markdown",
   "metadata": {
    "slideshow": {
     "slide_type": "slide"
    }
   },
   "source": [
    "# How is python so good at scaling up?\n",
    "\n",
    "* High level - complete toolbox and library\n",
    "* Low level - Efficient data structure\n",
    "* Lower level - Code optimization"
   ]
  },
  {
   "cell_type": "markdown",
   "metadata": {
    "slideshow": {
     "slide_type": "slide"
    }
   },
   "source": [
    "## High level thoughts\n",
    "\n",
    "This presentation is done in Jupyer notebook!\n",
    "\n",
    "![jupyer](http://jupyter.org/assets/nav_logo.svg)\n",
    "\n",
    "with live reveal.js plugin https://github.com/damianavila/RISE\n"
   ]
  },
  {
   "cell_type": "markdown",
   "metadata": {
    "slideshow": {
     "slide_type": "slide"
    }
   },
   "source": [
    "## Data structure\n",
    "\n",
    "Pandas, Numpy provide very efficient multi-dimension"
   ]
  },
  {
   "cell_type": "code",
   "execution_count": 13,
   "metadata": {
    "collapsed": false,
    "slideshow": {
     "slide_type": "skip"
    }
   },
   "outputs": [],
   "source": [
    "# https://code.activestate.com/recipes/577504/\n",
    "\n",
    "from sys import getsizeof, stderr\n",
    "from itertools import chain\n",
    "from collections import deque\n",
    "try:\n",
    "    from reprlib import repr\n",
    "except ImportError:\n",
    "    pass\n",
    "\n",
    "def total_size(o, handlers={}, verbose=False):\n",
    "    \"\"\" Returns the approximate memory footprint an object and all of its contents.\n",
    "\n",
    "    Automatically finds the contents of the following builtin containers and\n",
    "    their subclasses:  tuple, list, deque, dict, set and frozenset.\n",
    "    To search other containers, add handlers to iterate over their contents:\n",
    "\n",
    "        handlers = {SomeContainerClass: iter,\n",
    "                    OtherContainerClass: OtherContainerClass.get_elements}\n",
    "\n",
    "    \"\"\"\n",
    "    dict_handler = lambda d: chain.from_iterable(d.items())\n",
    "    all_handlers = {tuple: iter,\n",
    "                    list: iter,\n",
    "                    deque: iter,\n",
    "                    dict: dict_handler,\n",
    "                    set: iter,\n",
    "                    frozenset: iter,\n",
    "                   }\n",
    "    all_handlers.update(handlers)     # user handlers take precedence\n",
    "    seen = set()                      # track which object id's have already been seen\n",
    "    default_size = getsizeof(0)       # estimate sizeof object without __sizeof__\n",
    "\n",
    "    def sizeof(o):\n",
    "        if id(o) in seen:       # do not double count the same object\n",
    "            return 0\n",
    "        seen.add(id(o))\n",
    "        s = getsizeof(o, default_size)\n",
    "\n",
    "        if verbose:\n",
    "            print (s, type(o), repr(o))\n",
    "\n",
    "        for typ, handler in all_handlers.items():\n",
    "            if isinstance(o, typ):\n",
    "                s += sum(map(sizeof, handler(o)))\n",
    "                break\n",
    "        return s\n",
    "\n",
    "    return sizeof(o)\n",
    "\n"
   ]
  },
  {
   "cell_type": "code",
   "execution_count": 14,
   "metadata": {
    "collapsed": false,
    "slideshow": {
     "slide_type": "slide"
    }
   },
   "outputs": [
    {
     "name": "stdout",
     "output_type": "stream",
     "text": [
      "Size in array: 174440\n",
      "Size of numpy: 80144\n"
     ]
    }
   ],
   "source": [
    "# Generate a multi-dimension array\n",
    "input_3d_array = [[[range(10) for _ in range(10)] for _ in range(10)] for _ in range(10)]\n",
    "\n",
    "print(\"Size in array: {}\".format(total_size(input_3d_array)))\n",
    "print(\"Size of numpy: {}\".format(total_size(np.array(input_3d_array))))"
   ]
  },
  {
   "cell_type": "code",
   "execution_count": 15,
   "metadata": {
    "collapsed": false,
    "slideshow": {
     "slide_type": "slide"
    }
   },
   "outputs": [
    {
     "data": {
      "text/plain": [
       "<matplotlib.axes._subplots.AxesSubplot at 0x7faa3536be50>"
      ]
     },
     "execution_count": 15,
     "metadata": {},
     "output_type": "execute_result"
    },
    {
     "data": {
      "image/png": "[encoded data removed]",
      "text/plain": [
       "<matplotlib.figure.Figure at 0x7faa3536b990>"
      ]
     },
     "metadata": {},
     "output_type": "display_data"
    }
   ],
   "source": [
    "sizes = []\n",
    "for i in range(0, 100, 10):\n",
    "    arr = np.ones((i,i))\n",
    "    sizes.append({\n",
    "        'raw_size' : total_size(arr.tolist()),\n",
    "        'np_size' : total_size(arr)\n",
    "        })\n",
    "\n",
    "pd.DataFrame(sizes).plot(title=\"Delta in data size\")"
   ]
  },
  {
   "cell_type": "markdown",
   "metadata": {
    "slideshow": {
     "slide_type": "slide"
    }
   },
   "source": [
    "## Code optimization"
   ]
  },
  {
   "cell_type": "markdown",
   "metadata": {
    "slideshow": {
     "slide_type": "slide"
    }
   },
   "source": [
    "A few cool tricks that you can do with numpy / numba.\n",
    "\n",
    "* Numpy - ufunc, gdfunc\n",
    "* Numba - jit\n"
   ]
  },
  {
   "cell_type": "markdown",
   "metadata": {
    "collapsed": true,
    "slideshow": {
     "slide_type": "slide"
    }
   },
   "source": [
    "# numpy optimizations\n",
    "\n",
    "![language](https://snag.gy/9Bip8G.jpg)\n",
    "\n",
    "* Many optimization librarys underneath - e.g. uses BLAS (http://www.netlib.org/blas/) or Intel Math Kernel Library (https://software.intel.com/en-us/intel-mkl)\n",
    "* Special `ufunc`, `gufunc` that apply fast array operations\n",
    "* Have interface with `pyCUDA` - Nvidia‘s CUDA parallel computation API "
   ]
  },
  {
   "cell_type": "markdown",
   "metadata": {
    "slideshow": {
     "slide_type": "slide"
    }
   },
   "source": [
    "## Example\n",
    "    \n",
    "    Fast fourier transform\n",
    "\n",
    "https://jakevdp.github.io/blog/2015/02/24/optimizing-python-with-numpy-and-numba/"
   ]
  },
  {
   "cell_type": "raw",
   "metadata": {
    "collapsed": false,
    "slideshow": {
     "slide_type": "skip"
    }
   },
   "source": [
    "# if you dont have it installed\n",
    "!pip install git+http://github.com/dfm/python-nufft.git"
   ]
  },
  {
   "cell_type": "code",
   "execution_count": 18,
   "metadata": {
    "collapsed": false,
    "slideshow": {
     "slide_type": "skip"
    }
   },
   "outputs": [],
   "source": [
    "# Install nufft from http://github.com/dfm/python-nufft/\n",
    "from nufft import nufft1 as nufft_fortran\n",
    "\n",
    "from time import time\n",
    "\n",
    "import numpy as np\n",
    "\n",
    "def nufftfreqs(M, df=1):\n",
    "    \"\"\"Compute the frequency range used in nufft for M frequency bins\"\"\"\n",
    "    return df * np.arange(-(M // 2), M - (M // 2))\n",
    "\n",
    "\n",
    "def nudft(x, y, M, df=1.0, iflag=1):\n",
    "    \"\"\"Non-Uniform Direct Fourier Transform\"\"\"\n",
    "    sign = -1 if iflag < 0 else 1\n",
    "    return (1 / len(x)) * np.dot(y, np.exp(sign * 1j * nufftfreqs(M, df) * x[:, np.newaxis]))\n",
    "\n",
    "def _compute_grid_params(M, eps):\n",
    "    # Choose Msp & tau from eps following Dutt & Rokhlin (1993)\n",
    "    if eps <= 1E-33 or eps >= 1E-1:\n",
    "        raise ValueError(\"eps = {0:.0e}; must satisfy \"\n",
    "                         \"1e-33 < eps < 1e-1.\".format(eps))\n",
    "    ratio = 2 if eps > 1E-11 else 3\n",
    "    Msp = int(-np.log(eps) / (np.pi * (ratio - 1) / (ratio - 0.5)) + 0.5)\n",
    "    Mr = max(ratio * M, 2 * Msp)\n",
    "    lambda_ = Msp / (ratio * (ratio - 0.5))\n",
    "    tau = np.pi * lambda_ / M ** 2\n",
    "    return Msp, Mr, tau\n",
    "\n",
    "def test_nufft(nufft_func, M=1000, Mtime=100000):\n",
    "    # Test vs the direct method\n",
    "    print(30 * '-')\n",
    "    name = {'nufft1':'nufft_fortran'}.get(nufft_func.__name__,\n",
    "                                          nufft_func.__name__)\n",
    "    print(\"testing {0}\".format(name))\n",
    "    rng = np.random.RandomState(0)\n",
    "    x = 100 * rng.rand(M + 1)\n",
    "    y = np.sin(x)\n",
    "    for df in [1, 2.0]:\n",
    "        for iflag in [1, -1]:\n",
    "            F1 = nudft(x, y, M, df=df, iflag=iflag)\n",
    "            F2 = nufft_func(x, y, M, df=df, iflag=iflag)\n",
    "            assert np.allclose(F1, F2)\n",
    "    print(\"- Results match the DFT\")\n",
    "    \n",
    "    # Time the nufft function\n",
    "    x = 100 * rng.rand(Mtime)\n",
    "    y = np.sin(x)\n",
    "    times = []\n",
    "    for i in range(5):\n",
    "        t0 = time()\n",
    "        F = nufft_func(x, y, Mtime)\n",
    "        t1 = time()\n",
    "        times.append(t1 - t0)\n",
    "    print(\"- Execution time (M={0}): {1:.2g} sec\".format(Mtime, np.median(times)))\n",
    " "
   ]
  },
  {
   "cell_type": "code",
   "execution_count": 19,
   "metadata": {
    "collapsed": true,
    "slideshow": {
     "slide_type": "slide"
    }
   },
   "outputs": [],
   "source": [
    "\n",
    "def nufft_python(x, c, M, df=1.0, eps=1E-15, iflag=1):\n",
    "    \"\"\"Fast Non-Uniform Fourier Transform with Python\"\"\"\n",
    "    Msp, Mr, tau = _compute_grid_params(M, eps)\n",
    "    N = len(x)\n",
    "\n",
    "    # Construct the convolved grid\n",
    "    ftau = np.zeros(Mr, dtype=c.dtype)\n",
    "    Mr = ftau.shape[0]\n",
    "    hx = 2 * np.pi / Mr\n",
    "    mm = np.arange(-Msp, Msp)\n",
    "    for i in range(N):\n",
    "        xi = (x[i] * df) % (2 * np.pi)\n",
    "        m = 1 + int(xi // hx)\n",
    "        spread = np.exp(-0.25 * (xi - hx * (m + mm)) ** 2 / tau)\n",
    "        ftau[(m + mm) % Mr] += c[i] * spread\n",
    "\n",
    "    # Compute the FFT on the convolved grid\n",
    "    if iflag < 0:\n",
    "        Ftau = (1 / Mr) * np.fft.fft(ftau)\n",
    "    else:\n",
    "        Ftau = np.fft.ifft(ftau)\n",
    "    Ftau = np.concatenate([Ftau[-(M//2):], Ftau[:M//2 + M % 2]])\n",
    "\n",
    "    # Deconvolve the grid using convolution theorem\n",
    "    k = nufftfreqs(M)\n",
    "    return (1 / N) * np.sqrt(np.pi / tau) * np.exp(tau * k ** 2) * Ftau\n",
    " "
   ]
  },
  {
   "cell_type": "code",
   "execution_count": 20,
   "metadata": {
    "collapsed": false,
    "slideshow": {
     "slide_type": "skip"
    }
   },
   "outputs": [
    {
     "name": "stdout",
     "output_type": "stream",
     "text": [
      "------------------------------\n",
      "testing nufft_python\n",
      "- Results match the DFT\n",
      "- Execution time (M=100000): 1.3 sec\n",
      "------------------------------\n",
      "testing nufft_fortran\n",
      "- Results match the DFT\n",
      "- Execution time (M=100000): 0.043 sec\n"
     ]
    }
   ],
   "source": [
    "test_nufft(nufft_python)\n",
    "test_nufft(nufft_fortran)"
   ]
  },
  {
   "cell_type": "markdown",
   "metadata": {
    "slideshow": {
     "slide_type": "slide"
    }
   },
   "source": [
    "## numba.jit\n",
    "\n",
    "Another very powerful library to be used.\n",
    "\n",
    "* Compile python into llvm - which then compile into native code"
   ]
  },
  {
   "cell_type": "code",
   "execution_count": 109,
   "metadata": {
    "collapsed": false,
    "slideshow": {
     "slide_type": "slide"
    }
   },
   "outputs": [],
   "source": [
    "from numba import jit\n",
    "\n",
    "@numba.jit(nopython=True)\n",
    "def build_grid_fast(x, c, tau, Msp, ftau, E3):\n",
    "    Mr = ftau.shape[0]\n",
    "    hx = 2 * np.pi / Mr\n",
    "    \n",
    "    # precompute some exponents\n",
    "    for j in range(Msp + 1):\n",
    "        E3[j] = np.exp(-(np.pi * j / Mr) ** 2 / tau)\n",
    "        \n",
    "    # spread values onto ftau\n",
    "    for i in range(x.shape[0]):\n",
    "        xi = x[i] % (2 * np.pi)\n",
    "        m = 1 + int(xi // hx)\n",
    "        xi = (xi - hx * m)\n",
    "        E1 = np.exp(-0.25 * xi ** 2 / tau)\n",
    "        E2 = np.exp((xi * np.pi) / (Mr * tau))\n",
    "        E2mm = 1\n",
    "        for mm in range(Msp):\n",
    "            ftau[(m + mm) % Mr] += c[i] * E1 * E2mm * E3[mm]\n",
    "            E2mm *= E2\n",
    "            ftau[(m - mm - 1) % Mr] += c[i] * E1 / E2mm * E3[mm + 1]\n",
    "    return ftau\n",
    "\n",
    "\n",
    "def nufft_numba_fast(x, c, M, df=1.0, eps=1E-15, iflag=1):\n",
    "    \"\"\"Fast Non-Uniform Fourier Transform with Numba\"\"\"\n",
    "    Msp, Mr, tau = _compute_grid_params(M, eps)\n",
    "    N = len(x)\n",
    "\n",
    "    # Construct the convolved grid\n",
    "    ftau = build_grid_fast(x * df, c, tau, Msp,\n",
    "                           np.zeros(Mr, dtype=c.dtype),\n",
    "                           np.zeros(Msp + 1, dtype=x.dtype))\n",
    "\n",
    "    # Compute the FFT on the convolved grid\n",
    "    if iflag < 0:\n",
    "        Ftau = (1 / Mr) * np.fft.fft(ftau)\n",
    "    else:\n",
    "        Ftau = np.fft.ifft(ftau)\n",
    "    Ftau = np.concatenate([Ftau[-(M//2):], Ftau[:M//2 + M % 2]])\n",
    "\n",
    "    # Deconvolve the grid using convolution theorem\n",
    "    k = nufftfreqs(M)\n",
    "    return (1 / N) * np.sqrt(np.pi / tau) * np.exp(tau * k ** 2) * Ftau"
   ]
  },
  {
   "cell_type": "code",
   "execution_count": 65,
   "metadata": {
    "collapsed": false,
    "scrolled": true,
    "slideshow": {
     "slide_type": "skip"
    }
   },
   "outputs": [
    {
     "name": "stdout",
     "output_type": "stream",
     "text": [
      "------------------------------\n",
      "testing nufft_numba_fast\n",
      "- Results match the DFT\n",
      "- Execution time (M=100000): 0.063 sec\n",
      "------------------------------\n",
      "testing nufft_fortran\n",
      "- Results match the DFT\n",
      "- Execution time (M=100000): 0.042 sec\n"
     ]
    }
   ],
   "source": [
    "test_nufft(nufft_numba_fast)\n",
    "test_nufft(nufft_fortran)"
   ]
  },
  {
   "cell_type": "markdown",
   "metadata": {
    "slideshow": {
     "slide_type": "slide"
    }
   },
   "source": [
    "## What does the native code looks like"
   ]
  },
  {
   "cell_type": "code",
   "execution_count": 72,
   "metadata": {
    "collapsed": false,
    "slideshow": {
     "slide_type": "slide"
    }
   },
   "outputs": [],
   "source": [
    "from numba.pycc import CC\n",
    "\n",
    "cc = CC('fft')\n",
    "# Uncomment the following line to print out the compilation steps\n",
    "#cc.verbose = True\n",
    "\n",
    "@cc.export('add_int', 'i8[:](i8[:])')\n",
    "def add_int(x):\n",
    "    return x + 0xcafebabe\n",
    "\n",
    "\n",
    "@cc.export('build_grid_fast', 'f8[:](f8[:], f8[:], f8, i8, f8[:], f8[:])')\n",
    "def build_grid_fast(x, c, tau, Msp, ftau, E3):\n",
    "    Mr = ftau.shape[0]\n",
    "    hx = 2 * np.pi / Mr\n",
    "    \n",
    "    # precompute some exponents\n",
    "    for j in range(Msp + 1):\n",
    "        E3[j] = np.exp(-(np.pi * j / Mr) ** 2 / tau)\n",
    "        \n",
    "    # spread values onto ftau\n",
    "    for i in range(x.shape[0]):\n",
    "        xi = x[i] % (2 * np.pi)\n",
    "        m = 1 + int(xi // hx)\n",
    "        xi = (xi - hx * m)\n",
    "        E1 = np.exp(-0.25 * xi ** 2 / tau)\n",
    "        E2 = np.exp((xi * np.pi) / (Mr * tau))\n",
    "        E2mm = 1\n",
    "        for mm in range(Msp):\n",
    "            ftau[(m + mm) % Mr] += c[i] * E1 * E2mm * E3[mm]\n",
    "            E2mm *= E2\n",
    "            ftau[(m - mm - 1) % Mr] += c[i] * E1 / E2mm * E3[mm + 1]\n",
    "    return ftau\n",
    "\n",
    "cc.compile() "
   ]
  },
  {
   "cell_type": "code",
   "execution_count": 55,
   "metadata": {
    "collapsed": true,
    "slideshow": {
     "slide_type": "slide"
    }
   },
   "outputs": [],
   "source": [
    "!objdump -D fft.so > fft.dasm"
   ]
  },
  {
   "cell_type": "code",
   "execution_count": 101,
   "metadata": {
    "collapsed": false,
    "slideshow": {
     "slide_type": "skip"
    }
   },
   "outputs": [
    {
     "name": "stdout",
     "output_type": "stream",
     "text": [
      "    3f10:\tb8 01 00 00 00       \tmov    $0x1,%eax\r\n",
      "    3f15:\tf0 48 0f c1 07       \tlock xadd %rax,(%rdi)\r\n",
      "    3f1a:\t48 ff c0             \tinc    %rax\r\n",
      "    3f1d:\tc3                   \tretq   \r\n",
      "    3f1e:\t66 90                \txchg   %ax,%ax\r\n",
      "\r\n",
      "0000000000003f20 <nrt_atomic_sub>:\r\n",
      "    3f20:\t48 c7 c0 ff ff ff ff \tmov    $0xffffffffffffffff,%rax\r\n",
      "    3f27:\tf0 48 0f c1 07       \tlock xadd %rax,(%rdi)\r\n",
      "    3f2c:\t48 ff c8             \tdec    %rax\r\n",
      "    3f2f:\tc3                   \tretq   \r\n",
      "\r\n",
      "0000000000003f30 <nrt_atomic_cas>:\r\n",
      "    3f30:\t48 89 f0             \tmov    %rsi,%rax\r\n",
      "    3f33:\tf0 48 0f b1 17       \tlock cmpxchg %rdx,(%rdi)\r\n",
      "    3f38:\t0f 94 c2             \tsete   %dl\r\n",
      "    3f3b:\t48 89 01             \tmov    %rax,(%rcx)\r\n",
      "    3f3e:\t0f b6 c2             \tmovzbl %dl,%eax\r\n",
      "    3f41:\tc3                   \tretq   \r\n",
      "    3f42:\t66 66 66 66 66 2e 0f \tdata16 data16 data16 data16 nopw %cs:0x0(%rax,%rax,1)\r\n",
      "    3f49:\t1f 84 00 00 00 00 00 \r\n",
      "\r\n",
      "0000000000003f50 <NRT_MemInfo_data_fast>:\r\n",
      "    3f50:\t48 8b 47 18          \tmov    0x18(%rdi),%rax\r\n",
      "    3f54:\tc3                   \tretq   \r\n",
      "    3f55:\t66 66 2e 0f 1f 84 00 \tdata16 nopw %cs:0x0(%rax,%rax,1)\r\n",
      "    3f5c:\t00 00 00 00 \r\n",
      "\r\n",
      "0000000000003f60 <NRT_incref>:\r\n",
      "    3f60:\t48 85 ff             \ttest   %rdi,%rdi\r\n",
      "    3f63:\t74 05                \tje     3f6a <NRT_incref+0xa>\r\n",
      "    3f65:\tf0 48 ff 07          \tlock incq (%rdi)\r\n",
      "    3f69:\tc3                   \tretq   \r\n",
      "    3f6a:\tc3                   \tretq   \r\n",
      "    3f6b:\t0f 1f 44 00 00       \tnopl   0x0(%rax,%rax,1)\r\n",
      "\r\n",
      "0000000000003f70 <NRT_decref>:\r\n",
      "    3f70:\t48 85 ff             \ttest   %rdi,%rdi\r\n",
      "    3f73:\t74 12                \tje     3f87 <NRT_decref+0x17>\r\n",
      "    3f75:\t48 c7 c0 ff ff ff ff \tmov    $0xffffffffffffffff,%rax\r\n",
      "    3f7c:\tf0 48 0f c1 07       \tlock xadd %rax,(%rdi)\r\n",
      "    3f81:\t48 83 f8 01          \tcmp    $0x1,%rax\r\n",
      "    3f85:\t74 01                \tje     3f88 <NRT_decref+0x18>\r\n",
      "    3f87:\tc3                   \tretq   \r\n",
      "    3f88:\te9 83 8c 00 00       \tjmpq   cc10 <NRT_MemInfo_call_dtor>\r\n",
      "    3f8d:\t0f 1f 00             \tnopl   (%rax)\r\n",
      "\r\n",
      "0000000000003f90 <._pycc_method_add_int>:\r\n",
      "    3f90:\t55                   \tpush   %rbp\r\n",
      "    3f91:\t41 57                \tpush   %r15\r\n",
      "    3f93:\t41 56                \tpush   %r14\r\n",
      "    3f95:\t41 55                \tpush   %r13\r\n",
      "    3f97:\t41 54                \tpush   %r12\r\n",
      "    3f99:\t53                   \tpush   %rbx\r\n",
      "    3f9a:\t48 81 ec 88 00 00 00 \tsub    $0x88,%rsp\r\n",
      "    3fa1:\t48 89 fb             \tmov    %rdi,%rbx\r\n",
      "    3fa4:\t4c 8d 0d d5 8f 00 00 \tlea    0x8fd5(%rip),%r9        # cf80 <.const.add_int>\r\n",
      "    3fab:\t4c 8d 84 24 80 00 00 \tlea    0x80(%rsp),%r8\r\n",
      "    3fb2:\t00 \r\n",
      "    3fb3:\tba 01 00 00 00       \tmov    $0x1,%edx\r\n",
      "    3fb8:\tb9 01 00 00 00       \tmov    $0x1,%ecx\r\n",
      "    3fbd:\t31 c0                \txor    %eax,%eax\r\n",
      "    3fbf:\t48 89 f7             \tmov    %rsi,%rdi\r\n",
      "    3fc2:\t4c 89 ce             \tmov    %r9,%rsi\r\n",
      "    3fc5:\te8 26 fa ff ff       \tcallq  39f0 <PyArg_UnpackTuple@plt>\r\n",
      "    3fca:\t0f 57 c0             \txorps  %xmm0,%xmm0\r\n",
      "    3fcd:\t0f 29 44 24 60       \tmovaps %xmm0,0x60(%rsp)\r\n",
      "    3fd2:\t0f 29 44 24 50       \tmovaps %xmm0,0x50(%rsp)\r\n",
      "    3fd7:\t0f 29 44 24 40       \tmovaps %xmm0,0x40(%rsp)\r\n",
      "    3fdc:\t48 c7 44 24 70 00 00 \tmovq   $0x0,0x70(%rsp)\r\n",
      "    3fe3:\t00 00 \r\n",
      "    3fe5:\t85 c0                \ttest   %eax,%eax\r\n",
      "    3fe7:\t0f 84 61 01 00 00    \tje     414e <._pycc_method_add_int+0x1be>\r\n",
      "    3fed:\t48 85 db             \ttest   %rbx,%rbx\r\n",
      "    3ff0:\t0f 84 76 01 00 00    \tje     416c <._pycc_method_add_int+0x1dc>\r\n",
      "    3ff6:\t48 8b 5b 18          \tmov    0x18(%rbx),%rbx\r\n",
      "    3ffa:\t48 85 db             \ttest   %rbx,%rbx\r\n",
      "    3ffd:\t0f 84 38 01 00 00    \tje     413b <._pycc_method_add_int+0x1ab>\r\n",
      "    4003:\t48 8b bc 24 80 00 00 \tmov    0x80(%rsp),%rdi\r\n",
      "    400a:\t00 \r\n",
      "    400b:\t48 8d 74 24 40       \tlea    0x40(%rsp),%rsi\r\n",
      "    4010:\te8 3b 67 00 00       \tcallq  a750 <NRT_adapt_ndarray_from_python>\r\n",
      "    4015:\t85 c0                \ttest   %eax,%eax\r\n",
      "    4017:\t0f 85 31 01 00 00    \tjne    414e <._pycc_method_add_int+0x1be>\r\n",
      "    401d:\t48 89 1c 24          \tmov    %rbx,(%rsp)\r\n",
      "    4021:\t48 8b 5c 24 40       \tmov    0x40(%rsp),%rbx\r\n",
      "    4026:\t48 8b 6c 24 60       \tmov    0x60(%rsp),%rbp\r\n",
      "    402b:\t4c 8b 64 24 68       \tmov    0x68(%rsp),%r12\r\n",
      "    4030:\t4c 8b 7c 24 70       \tmov    0x70(%rsp),%r15\r\n",
      "    4035:\t48 85 db             \ttest   %rbx,%rbx\r\n",
      "    4038:\t74 04                \tje     403e <._pycc_method_add_int+0xae>\r\n",
      "    403a:\tf0 48 ff 03          \tlock incq (%rbx)\r\n",
      "    403e:\t4a 8d 3c e5 00 00 00 \tlea    0x0(,%r12,8),%rdi\r\n",
      "    4045:\t00 \r\n",
      "    4046:\tbe 20 00 00 00       \tmov    $0x20,%esi\r\n",
      "    404b:\te8 90 8a 00 00       \tcallq  cae0 <NRT_MemInfo_alloc_safe_aligned>\r\n",
      "    4050:\t49 89 c6             \tmov    %rax,%r14\r\n",
      "    4053:\t4d 8b 6e 18          \tmov    0x18(%r14),%r13\r\n",
      "    4057:\t4d 85 e4             \ttest   %r12,%r12\r\n",
      "    405a:\t7e 47                \tjle    40a3 <._pycc_method_add_int+0x113>\r\n",
      "    405c:\tb8 be ba fe ca       \tmov    $0xcafebabe,%eax\r\n",
      "    4061:\t4c 89 e9             \tmov    %r13,%rcx\r\n",
      "    4064:\t4c 89 e2             \tmov    %r12,%rdx\r\n",
      "    4067:\t49 83 fc 02          \tcmp    $0x2,%r12\r\n",
      "    406b:\t72 23                \tjb     4090 <._pycc_method_add_int+0x100>\r\n",
      "    406d:\t0f 1f 00             \tnopl   (%rax)\r\n",
      "    4070:\t48 8b 75 00          \tmov    0x0(%rbp),%rsi\r\n",
      "    4074:\t48 01 c6             \tadd    %rax,%rsi\r\n",
      "    4077:\t48 89 31             \tmov    %rsi,(%rcx)\r\n",
      "    407a:\t4c 01 fd             \tadd    %r15,%rbp\r\n",
      "    407d:\t48 83 c1 08          \tadd    $0x8,%rcx\r\n",
      "    4081:\t48 ff ca             \tdec    %rdx\r\n",
      "    4084:\t75 ea                \tjne    4070 <._pycc_method_add_int+0xe0>\r\n",
      "    4086:\teb 1b                \tjmp    40a3 <._pycc_method_add_int+0x113>\r\n",
      "    4088:\t0f 1f 84 00 00 00 00 \tnopl   0x0(%rax,%rax,1)\r\n",
      "    408f:\t00 \r\n",
      "    4090:\t48 8b 75 00          \tmov    0x0(%rbp),%rsi\r\n",
      "    4094:\t48 01 c6             \tadd    %rax,%rsi\r\n",
      "    4097:\t48 89 31             \tmov    %rsi,(%rcx)\r\n",
      "    409a:\t48 83 c1 08          \tadd    $0x8,%rcx\r\n",
      "    409e:\t48 ff ca             \tdec    %rdx\r\n",
      "    40a1:\t75 ed                \tjne    4090 <._pycc_method_add_int+0x100>\r\n",
      "    40a3:\t48 85 db             \ttest   %rbx,%rbx\r\n",
      "    40a6:\t74 2c                \tje     40d4 <._pycc_method_add_int+0x144>\r\n",
      "    40a8:\t48 c7 c5 ff ff ff ff \tmov    $0xffffffffffffffff,%rbp\r\n",
      "    40af:\t48 c7 c0 ff ff ff ff \tmov    $0xffffffffffffffff,%rax\r\n",
      "    40b6:\tf0 48 0f c1 03       \tlock xadd %rax,(%rbx)\r\n",
      "    40bb:\t48 83 f8 01          \tcmp    $0x1,%rax\r\n",
      "    40bf:\t0f 84 8d 00 00 00    \tje     4152 <._pycc_method_add_int+0x1c2>\r\n",
      "    40c5:\tf0 48 0f c1 2b       \tlock xadd %rbp,(%rbx)\r\n",
      "    40ca:\t48 83 fd 01          \tcmp    $0x1,%rbp\r\n",
      "    40ce:\t0f 84 8b 00 00 00    \tje     415f <._pycc_method_add_int+0x1cf>\r\n",
      "    40d4:\t48 8b 04 24          \tmov    (%rsp),%rax\r\n",
      "    40d8:\t48 8b 78 18          \tmov    0x18(%rax),%rdi\r\n",
      "    40dc:\t31 f6                \txor    %esi,%esi\r\n",
      "    40de:\te8 8d fc ff ff       \tcallq  3d70 <PyList_GetItem@plt>\r\n",
      "    40e3:\t4c 89 74 24 08       \tmov    %r14,0x8(%rsp)\r\n",
      "    40e8:\t48 c7 44 24 10 00 00 \tmovq   $0x0,0x10(%rsp)\r\n",
      "    40ef:\t00 00 \r\n",
      "    40f1:\t4c 89 64 24 18       \tmov    %r12,0x18(%rsp)\r\n",
      "    40f6:\t48 c7 44 24 20 08 00 \tmovq   $0x8,0x20(%rsp)\r\n",
      "    40fd:\t00 00 \r\n",
      "    40ff:\t4c 89 6c 24 28       \tmov    %r13,0x28(%rsp)\r\n",
      "    4104:\t4c 89 64 24 30       \tmov    %r12,0x30(%rsp)\r\n",
      "    4109:\t48 c7 44 24 38 08 00 \tmovq   $0x8,0x38(%rsp)\r\n",
      "    4110:\t00 00 \r\n",
      "    4112:\t48 8d 7c 24 08       \tlea    0x8(%rsp),%rdi\r\n",
      "    4117:\tbe 01 00 00 00       \tmov    $0x1,%esi\r\n",
      "    411c:\tba 01 00 00 00       \tmov    $0x1,%edx\r\n",
      "    4121:\t48 89 c1             \tmov    %rax,%rcx\r\n",
      "    4124:\te8 17 67 00 00       \tcallq  a840 <NRT_adapt_ndarray_to_python>\r\n",
      "    4129:\t48 81 c4 88 00 00 00 \tadd    $0x88,%rsp\r\n",
      "    4130:\t5b                   \tpop    %rbx\r\n",
      "    4131:\t41 5c                \tpop    %r12\r\n",
      "    4133:\t41 5d                \tpop    %r13\r\n",
      "    4135:\t41 5e                \tpop    %r14\r\n",
      "    4137:\t41 5f                \tpop    %r15\r\n",
      "    4139:\t5d                   \tpop    %rbp\r\n",
      "    413a:\tc3                   \tretq   \r\n",
      "    413b:\t48 8b 3d f6 dd 20 00 \tmov    0x20ddf6(%rip),%rdi        # 211f38 <_DYNAMIC+0x1f8>\r\n",
      "    4142:\t48 8d 35 77 8e 00 00 \tlea    0x8e77(%rip),%rsi        # cfc0 <.const.missing Environment>\r\n",
      "    4149:\te8 f2 f5 ff ff       \tcallq  3740 <PyErr_SetString@plt>\r\n",
      "    414e:\t31 c0                \txor    %eax,%eax\r\n",
      "    4150:\teb d7                \tjmp    4129 <._pycc_method_add_int+0x199>\r\n",
      "    4152:\t48 89 df             \tmov    %rbx,%rdi\r\n",
      "    4155:\te8 b6 8a 00 00       \tcallq  cc10 <NRT_MemInfo_call_dtor>\r\n",
      "    415a:\te9 66 ff ff ff       \tjmpq   40c5 <._pycc_method_add_int+0x135>\r\n",
      "    415f:\t48 89 df             \tmov    %rbx,%rdi\r\n",
      "    4162:\te8 a9 8a 00 00       \tcallq  cc10 <NRT_MemInfo_call_dtor>\r\n",
      "    4167:\te9 68 ff ff ff       \tjmpq   40d4 <._pycc_method_add_int+0x144>\r\n",
      "    416c:\t48 8d 3d 1d 8e 00 00 \tlea    0x8e1d(%rip),%rdi        # cf90 <.const.Fatal error: missing _dynfunc.Closure>\r\n",
      "    4173:\te8 28 f4 ff ff       \tcallq  35a0 <puts@plt>\r\n",
      "    4178:\t0f 1f 84 00 00 00 00 \tnopl   0x0(%rax,%rax,1)\r\n",
      "    417f:\t00 \r\n",
      "\r\n",
      "0000000000004180 <._pycc_method_build_grid_fast>:\r\n",
      "    4180:\t55                   \tpush   %rbp\r\n",
      "    4181:\t41 57                \tpush   %r15\r\n",
      "    4183:\t41 56                \tpush   %r14\r\n",
      "    4185:\t41 55                \tpush   %r13\r\n",
      "    4187:\t41 54                \tpush   %r12\r\n",
      "    4189:\t53                   \tpush   %rbx\r\n",
      "    418a:\t48 81 ec 58 02 00 00 \tsub    $0x258,%rsp\r\n",
      "    4191:\t48 89 fb             \tmov    %rdi,%rbx\r\n",
      "    4194:\t48 8d 84 24 28 02 00 \tlea    0x228(%rsp),%rax\r\n",
      "    419b:\t00 \r\n",
      "    419c:\t48 89 44 24 18       \tmov    %rax,0x18(%rsp)\r\n",
      "    41a1:\t48 8d 84 24 30 02 00 \tlea    0x230(%rsp),%rax\r\n",
      "    41a8:\t00 \r\n",
      "    41a9:\t48 89 44 24 10       \tmov    %rax,0x10(%rsp)\r\n",
      "    41ae:\t48 8d 84 24 38 02 00 \tlea    0x238(%rsp),%rax\r\n",
      "    41b5:\t00 \r\n",
      "    41b6:\t48 89 44 24 08       \tmov    %rax,0x8(%rsp)\r\n",
      "    41bb:\t48 8d 84 24 40 02 00 \tlea    0x240(%rsp),%rax\r\n",
      "    41c2:\t00 \r\n",
      "    41c3:\t48 89 04 24          \tmov    %rax,(%rsp)\r\n",
      "    41c7:\t48 8d 2d 4f 8e 00 00 \tlea    0x8e4f(%rip),%rbp        # d01d <.const.build_grid_fast>\r\n",
      "    41ce:\t4c 8d 84 24 50 02 00 \tlea    0x250(%rsp),%r8\r\n",
      "    41d5:\t00 \r\n",
      "    41d6:\t4c 8d 8c 24 48 02 00 \tlea    0x248(%rsp),%r9\r\n",
      "    41dd:\t00 \r\n"
     ]
    }
   ],
   "source": [
    "!grep -B100 -A100 cafebabe fft.dasm"
   ]
  },
  {
   "cell_type": "markdown",
   "metadata": {
    "slideshow": {
     "slide_type": "-"
    }
   },
   "source": [
    "The core `add_int` become just a 22 bytes loop (whole function size = 496 bytes)\n",
    "\n",
    "```\n",
    "    4050:\t49 89 c6             \tmov    %rax,%r14\n",
    "    4053:\t4d 8b 6e 18          \tmov    0x18(%r14),%r13\n",
    "    4057:\t4d 85 e4             \ttest   %r12,%r12\n",
    "    405a:\t7e 47                \tjle    40a3 <._pycc_method_add_int+0x113>\n",
    "    405c:\tb8 be ba fe ca       \tmov    $0xcafebabe,%eax\n",
    "    4061:\t4c 89 e9             \tmov    %r13,%rcx\n",
    "    4064:\t4c 89 e2             \tmov    %r12,%rdx\n",
    "    4067:\t49 83 fc 02          \tcmp    $0x2,%r12\n",
    "    406b:\t72 23                \tjb     4090 <._pycc_method_add_int+0x100>\n",
    "    406d:\t0f 1f 00             \tnopl   (%rax)\n",
    "    4070:\t48 8b 75 00          \tmov    0x0(%rbp),%rsi\n",
    "    4074:\t48 01 c6             \tadd    %rax,%rsi\n",
    "    4077:\t48 89 31             \tmov    %rsi,(%rcx)\n",
    "    407a:\t4c 01 fd             \tadd    %r15,%rbp\n",
    "    407d:\t48 83 c1 08          \tadd    $0x8,%rcx\n",
    "    4081:\t48 ff ca             \tdec    %rdx\n",
    "    4084:\t75 ea                \tjne    4070 <._pycc_method_add_int+0xe0>\n",
    "    4086:\teb 1b                \tjmp    40a3 <._pycc_method_add_int+0x113>\n",
    " ```"
   ]
  },
  {
   "cell_type": "code",
   "execution_count": 102,
   "metadata": {
    "collapsed": false,
    "slideshow": {
     "slide_type": "skip"
    }
   },
   "outputs": [
    {
     "name": "stdout",
     "output_type": "stream",
     "text": [
      "add_int Loop size: 22\n",
      "add_int Function size: 496\n"
     ]
    }
   ],
   "source": [
    "print(\"add_int Loop size: {}\".format(0x4084+2-0x4070))\n",
    "print(\"add_int Function size: {}\".format(0x4180-0x3f90))"
   ]
  },
  {
   "cell_type": "code",
   "execution_count": 107,
   "metadata": {
    "collapsed": false,
    "slideshow": {
     "slide_type": "skip"
    }
   },
   "outputs": [
    {
     "name": "stdout",
     "output_type": "stream",
     "text": [
      "0000000000004180 <._pycc_method_build_grid_fast>:\r\n",
      "    4180:\t55                   \tpush   %rbp\r\n",
      "    4181:\t41 57                \tpush   %r15\r\n",
      "    4183:\t41 56                \tpush   %r14\r\n",
      "    4185:\t41 55                \tpush   %r13\r\n",
      "    4187:\t41 54                \tpush   %r12\r\n",
      "    4189:\t53                   \tpush   %rbx\r\n",
      "    418a:\t48 81 ec 58 02 00 00 \tsub    $0x258,%rsp\r\n",
      "    4191:\t48 89 fb             \tmov    %rdi,%rbx\r\n",
      "    4194:\t48 8d 84 24 28 02 00 \tlea    0x228(%rsp),%rax\r\n",
      "    419b:\t00 \r\n",
      "    419c:\t48 89 44 24 18       \tmov    %rax,0x18(%rsp)\r\n",
      "    41a1:\t48 8d 84 24 30 02 00 \tlea    0x230(%rsp),%rax\r\n",
      "    41a8:\t00 \r\n",
      "    41a9:\t48 89 44 24 10       \tmov    %rax,0x10(%rsp)\r\n",
      "    41ae:\t48 8d 84 24 38 02 00 \tlea    0x238(%rsp),%rax\r\n",
      "    41b5:\t00 \r\n",
      "    41b6:\t48 89 44 24 08       \tmov    %rax,0x8(%rsp)\r\n",
      "    41bb:\t48 8d 84 24 40 02 00 \tlea    0x240(%rsp),%rax\r\n",
      "    41c2:\t00 \r\n",
      "    41c3:\t48 89 04 24          \tmov    %rax,(%rsp)\r\n",
      "    41c7:\t48 8d 2d 4f 8e 00 00 \tlea    0x8e4f(%rip),%rbp        # d01d <.const.build_grid_fast>\r\n",
      "    41ce:\t4c 8d 84 24 50 02 00 \tlea    0x250(%rsp),%r8\r\n",
      "    41d5:\t00 \r\n",
      "    41d6:\t4c 8d 8c 24 48 02 00 \tlea    0x248(%rsp),%r9\r\n",
      "    41dd:\t00 \r\n",
      "    41de:\tba 06 00 00 00       \tmov    $0x6,%edx\r\n",
      "    41e3:\tb9 06 00 00 00       \tmov    $0x6,%ecx\r\n",
      "    41e8:\t31 c0                \txor    %eax,%eax\r\n",
      "    41ea:\t48 89 f7             \tmov    %rsi,%rdi\r\n",
      "    41ed:\t48 89 ee             \tmov    %rbp,%rsi\r\n",
      "    41f0:\te8 fb f7 ff ff       \tcallq  39f0 <PyArg_UnpackTuple@plt>\r\n",
      "    41f5:\t66 0f 57 c0          \txorpd  %xmm0,%xmm0\r\n",
      "    41f9:\t66 0f 29 84 24 10 02 \tmovapd %xmm0,0x210(%rsp)\r\n",
      "    4200:\t00 00 \r\n",
      "    4202:\t66 0f 29 84 24 00 02 \tmovapd %xmm0,0x200(%rsp)\r\n",
      "    4209:\t00 00 \r\n",
      "    420b:\t66 0f 29 84 24 f0 01 \tmovapd %xmm0,0x1f0(%rsp)\r\n",
      "    4212:\t00 00 \r\n",
      "    4214:\t48 c7 84 24 20 02 00 \tmovq   $0x0,0x220(%rsp)\r\n",
      "    421b:\t00 00 00 00 00 \r\n",
      "    4220:\t66 0f 29 84 24 d0 01 \tmovapd %xmm0,0x1d0(%rsp)\r\n",
      "    4227:\t00 00 \r\n",
      "    4229:\t66 0f 29 84 24 c0 01 \tmovapd %xmm0,0x1c0(%rsp)\r\n",
      "    4230:\t00 00 \r\n",
      "    4232:\t66 0f 29 84 24 b0 01 \tmovapd %xmm0,0x1b0(%rsp)\r\n",
      "    4239:\t00 00 \r\n",
      "    423b:\t48 c7 84 24 e0 01 00 \tmovq   $0x0,0x1e0(%rsp)\r\n",
      "    4242:\t00 00 00 00 00 \r\n",
      "    4247:\t66 0f 29 84 24 90 01 \tmovapd %xmm0,0x190(%rsp)\r\n",
      "    424e:\t00 00 \r\n",
      "    4250:\t66 0f 29 84 24 80 01 \tmovapd %xmm0,0x180(%rsp)\r\n",
      "    4257:\t00 00 \r\n",
      "    4259:\t66 0f 29 84 24 70 01 \tmovapd %xmm0,0x170(%rsp)\r\n",
      "    4260:\t00 00 \r\n",
      "    4262:\t48 c7 84 24 a0 01 00 \tmovq   $0x0,0x1a0(%rsp)\r\n",
      "    4269:\t00 00 00 00 00 \r\n",
      "    426e:\t66 0f 29 84 24 50 01 \tmovapd %xmm0,0x150(%rsp)\r\n",
      "    4275:\t00 00 \r\n",
      "    4277:\t66 0f 29 84 24 40 01 \tmovapd %xmm0,0x140(%rsp)\r\n",
      "    427e:\t00 00 \r\n",
      "    4280:\t66 0f 29 84 24 30 01 \tmovapd %xmm0,0x130(%rsp)\r\n",
      "    4287:\t00 00 \r\n",
      "    4289:\t48 c7 84 24 60 01 00 \tmovq   $0x0,0x160(%rsp)\r\n",
      "    4290:\t00 00 00 00 00 \r\n",
      "    4295:\t85 c0                \ttest   %eax,%eax\r\n",
      "    4297:\t0f 84 b8 07 00 00    \tje     4a55 <._pycc_method_build_grid_fast+0x8d5>\r\n",
      "    429d:\t48 85 db             \ttest   %rbx,%rbx\r\n",
      "    42a0:\t0f 84 8b 09 00 00    \tje     4c31 <._pycc_method_build_grid_fast+0xab1>\r\n",
      "    42a6:\t4c 8b 73 18          \tmov    0x18(%rbx),%r14\r\n",
      "    42aa:\t4d 85 f6             \ttest   %r14,%r14\r\n",
      "    42ad:\t0f 84 29 08 00 00    \tje     4adc <._pycc_method_build_grid_fast+0x95c>\r\n",
      "    42b3:\t48 8b bc 24 50 02 00 \tmov    0x250(%rsp),%rdi\r\n",
      "    42ba:\t00 \r\n",
      "    42bb:\t48 8d b4 24 f0 01 00 \tlea    0x1f0(%rsp),%rsi\r\n",
      "    42c2:\t00 \r\n",
      "    42c3:\te8 88 64 00 00       \tcallq  a750 <NRT_adapt_ndarray_from_python>\r\n",
      "    42c8:\t85 c0                \ttest   %eax,%eax\r\n",
      "    42ca:\t0f 85 85 07 00 00    \tjne    4a55 <._pycc_method_build_grid_fast+0x8d5>\r\n",
      "    42d0:\t4c 8b ac 24 f0 01 00 \tmov    0x1f0(%rsp),%r13\r\n",
      "    42d7:\t00 \r\n",
      "    42d8:\t48 8b 84 24 10 02 00 \tmov    0x210(%rsp),%rax\r\n",
      "    42df:\t00 \r\n",
      "    42e0:\t48 89 84 24 a8 00 00 \tmov    %rax,0xa8(%rsp)\r\n",
      "    42e7:\t00 \r\n",
      "    42e8:\t48 8b 84 24 18 02 00 \tmov    0x218(%rsp),%rax\r\n",
      "    42ef:\t00 \r\n",
      "    42f0:\t48 89 84 24 d0 00 00 \tmov    %rax,0xd0(%rsp)\r\n",
      "    42f7:\t00 \r\n",
      "    42f8:\t48 8b 84 24 20 02 00 \tmov    0x220(%rsp),%rax\r\n",
      "    42ff:\t00 \r\n",
      "    4300:\t48 89 84 24 a0 00 00 \tmov    %rax,0xa0(%rsp)\r\n",
      "    4307:\t00 \r\n",
      "    4308:\t48 8b bc 24 48 02 00 \tmov    0x248(%rsp),%rdi\r\n",
      "    430f:\t00 \r\n",
      "    4310:\t48 8d b4 24 b0 01 00 \tlea    0x1b0(%rsp),%rsi\r\n",
      "    4317:\t00 \r\n",
      "    4318:\te8 33 64 00 00       \tcallq  a750 <NRT_adapt_ndarray_from_python>\r\n",
      "    431d:\t85 c0                \ttest   %eax,%eax\r\n",
      "    431f:\t0f 85 0e 08 00 00    \tjne    4b33 <._pycc_method_build_grid_fast+0x9b3>\r\n",
      "    4325:\t48 8b 84 24 b0 01 00 \tmov    0x1b0(%rsp),%rax\r\n",
      "    432c:\t00 \r\n",
      "    432d:\t48 89 84 24 80 00 00 \tmov    %rax,0x80(%rsp)\r\n",
      "    4334:\t00 \r\n",
      "    4335:\t48 8b 84 24 d0 01 00 \tmov    0x1d0(%rsp),%rax\r\n",
      "    433c:\t00 \r\n",
      "    433d:\t48 89 84 24 98 00 00 \tmov    %rax,0x98(%rsp)\r\n",
      "    4344:\t00 \r\n",
      "    4345:\t48 8b 84 24 e0 01 00 \tmov    0x1e0(%rsp),%rax\r\n",
      "    434c:\t00 \r\n",
      "    434d:\t48 89 44 24 78       \tmov    %rax,0x78(%rsp)\r\n",
      "    4352:\t48 8b bc 24 40 02 00 \tmov    0x240(%rsp),%rdi\r\n",
      "    4359:\t00 \r\n",
      "    435a:\te8 21 f3 ff ff       \tcallq  3680 <PyNumber_Float@plt>\r\n",
      "    435f:\t48 89 c3             \tmov    %rax,%rbx\r\n",
      "    4362:\t48 89 df             \tmov    %rbx,%rdi\r\n",
      "    4365:\te8 c6 f7 ff ff       \tcallq  3b30 <PyFloat_AsDouble@plt>\r\n",
      "    436a:\tf2 0f 11 84 24 f0 00 \tmovsd  %xmm0,0xf0(%rsp)\r\n",
      "    4371:\t00 00 \r\n",
      "    4373:\t48 89 df             \tmov    %rbx,%rdi\r\n",
      "    4376:\te8 05 f8 ff ff       \tcallq  3b80 <Py_DecRef@plt>\r\n",
      "    437b:\te8 90 f6 ff ff       \tcallq  3a10 <PyErr_Occurred@plt>\r\n",
      "    4380:\t48 85 c0             \ttest   %rax,%rax\r\n",
      "    4383:\t0f 85 87 07 00 00    \tjne    4b10 <._pycc_method_build_grid_fast+0x990>\r\n",
      "    4389:\t48 8b bc 24 38 02 00 \tmov    0x238(%rsp),%rdi\r\n",
      "    4390:\t00 \r\n",
      "    4391:\te8 8a f3 ff ff       \tcallq  3720 <PyNumber_Long@plt>\r\n",
      "    4396:\t48 89 c5             \tmov    %rax,%rbp\r\n",
      "    4399:\t48 85 ed             \ttest   %rbp,%rbp\r\n",
      "    439c:\t48 89 84 24 c8 00 00 \tmov    %rax,0xc8(%rsp)\r\n",
      "    43a3:\t00 \r\n",
      "    43a4:\t74 18                \tje     43be <._pycc_method_build_grid_fast+0x23e>\r\n",
      "    43a6:\t48 89 ef             \tmov    %rbp,%rdi\r\n",
      "    43a9:\te8 d2 f8 ff ff       \tcallq  3c80 <PyLong_AsLongLong@plt>\r\n",
      "    43ae:\t48 89 84 24 c8 00 00 \tmov    %rax,0xc8(%rsp)\r\n",
      "    43b5:\t00 \r\n",
      "    43b6:\t48 89 ef             \tmov    %rbp,%rdi\r\n",
      "    43b9:\te8 c2 f7 ff ff       \tcallq  3b80 <Py_DecRef@plt>\r\n",
      "    43be:\te8 4d f6 ff ff       \tcallq  3a10 <PyErr_Occurred@plt>\r\n",
      "    43c3:\t48 85 c0             \ttest   %rax,%rax\r\n",
      "    43c6:\t0f 85 44 07 00 00    \tjne    4b10 <._pycc_method_build_grid_fast+0x990>\r\n",
      "    43cc:\t48 8b bc 24 30 02 00 \tmov    0x230(%rsp),%rdi\r\n",
      "    43d3:\t00 \r\n",
      "    43d4:\t48 8d b4 24 70 01 00 \tlea    0x170(%rsp),%rsi\r\n",
      "    43db:\t00 \r\n",
      "    43dc:\te8 6f 63 00 00       \tcallq  a750 <NRT_adapt_ndarray_from_python>\r\n",
      "    43e1:\t85 c0                \ttest   %eax,%eax\r\n",
      "    43e3:\t0f 85 27 07 00 00    \tjne    4b10 <._pycc_method_build_grid_fast+0x990>\r\n",
      "    43e9:\t4c 89 74 24 30       \tmov    %r14,0x30(%rsp)\r\n",
      "    43ee:\t48 8b ac 24 70 01 00 \tmov    0x170(%rsp),%rbp\r\n",
      "    43f5:\t00 \r\n",
      "    43f6:\t48 8b 84 24 78 01 00 \tmov    0x178(%rsp),%rax\r\n",
      "    43fd:\t00 \r\n",
      "    43fe:\t48 89 44 24 48       \tmov    %rax,0x48(%rsp)\r\n",
      "    4403:\t48 8b 84 24 80 01 00 \tmov    0x180(%rsp),%rax\r\n",
      "    440a:\t00 \r\n",
      "    440b:\t48 89 44 24 50       \tmov    %rax,0x50(%rsp)\r\n",
      "    4410:\t48 8b 84 24 88 01 00 \tmov    0x188(%rsp),%rax\r\n",
      "    4417:\t00 \r\n",
      "    4418:\t48 89 44 24 40       \tmov    %rax,0x40(%rsp)\r\n",
      "    441d:\t4c 8b bc 24 90 01 00 \tmov    0x190(%rsp),%r15\r\n",
      "    4424:\t00 \r\n",
      "    4425:\t4c 8b a4 24 98 01 00 \tmov    0x198(%rsp),%r12\r\n",
      "    442c:\t00 \r\n",
      "    442d:\t48 8b 9c 24 a0 01 00 \tmov    0x1a0(%rsp),%rbx\r\n",
      "    4434:\t00 \r\n",
      "    4435:\t48 8b bc 24 28 02 00 \tmov    0x228(%rsp),%rdi\r\n",
      "    443c:\t00 \r\n",
      "    443d:\t48 8d b4 24 30 01 00 \tlea    0x130(%rsp),%rsi\r\n",
      "    4444:\t00 \r\n",
      "    4445:\te8 06 63 00 00       \tcallq  a750 <NRT_adapt_ndarray_from_python>\r\n",
      "    444a:\t85 c0                \ttest   %eax,%eax\r\n",
      "    444c:\t0f 85 a2 06 00 00    \tjne    4af4 <._pycc_method_build_grid_fast+0x974>\r\n",
      "    4452:\t48 8b 8c 24 30 01 00 \tmov    0x130(%rsp),%rcx\r\n",
      "    4459:\t00 \r\n",
      "    445a:\t48 8b 84 24 50 01 00 \tmov    0x150(%rsp),%rax\r\n",
      "    4461:\t00 \r\n",
      "    4462:\t48 89 84 24 88 00 00 \tmov    %rax,0x88(%rsp)\r\n",
      "    4469:\t00 \r\n",
      "    446a:\t48 8b b4 24 60 01 00 \tmov    0x160(%rsp),%rsi\r\n",
      "    4471:\t00 \r\n",
      "    4472:\t4d 85 ed             \ttest   %r13,%r13\r\n",
      "    4475:\t74 05                \tje     447c <._pycc_method_build_grid_fast+0x2fc>\r\n",
      "    4477:\tf0 49 ff 45 00       \tlock incq 0x0(%r13)\r\n",
      "    447c:\t48 8b bc 24 80 00 00 \tmov    0x80(%rsp),%rdi\r\n",
      "    4483:\t00 \r\n",
      "    4484:\t48 85 ff             \ttest   %rdi,%rdi\r\n",
      "    4487:\tf2 0f 10 8c 24 f0 00 \tmovsd  0xf0(%rsp),%xmm1\r\n",
      "    448e:\t00 00 \r\n",
      "    4490:\t74 04                \tje     4496 <._pycc_method_build_grid_fast+0x316>\r\n",
      "    4492:\tf0 48 ff 07          \tlock incq (%rdi)\r\n",
      "    4496:\t4c 89 6c 24 60       \tmov    %r13,0x60(%rsp)\r\n",
      "    449b:\t48 85 ed             \ttest   %rbp,%rbp\r\n",
      "    449e:\t74 05                \tje     44a5 <._pycc_method_build_grid_fast+0x325>\r\n",
      "    44a0:\tf0 48 ff 45 00       \tlock incq 0x0(%rbp)\r\n",
      "    44a5:\t48 89 9c 24 b0 00 00 \tmov    %rbx,0xb0(%rsp)\r\n",
      "    44ac:\t00 \r\n",
      "    44ad:\t48 85 c9             \ttest   %rcx,%rcx\r\n",
      "    44b0:\t74 04                \tje     44b6 <._pycc_method_build_grid_fast+0x336>\r\n",
      "    44b2:\tf0 48 ff 01          \tlock incq (%rcx)\r\n",
      "    44b6:\t48 89 6c 24 68       \tmov    %rbp,0x68(%rsp)\r\n"
     ]
    }
   ],
   "source": [
    "!grep -A200 00004180.*_pycc_method_build_grid_fast  fft.dasm"
   ]
  },
  {
   "cell_type": "markdown",
   "metadata": {
    "slideshow": {
     "slide_type": "slide"
    }
   },
   "source": [
    "The `_pycc_method_build_grid_fast` function - 2752 bytes\n",
    "\n",
    "```\n",
    "0000000000004180 <._pycc_method_build_grid_fast>:\n",
    "    4180:\t55                   \tpush   %rbp\n",
    "    4181:\t41 57                \tpush   %r15\n",
    "    4183:\t41 56                \tpush   %r14\n",
    "    4185:\t41 55                \tpush   %r13\n",
    "    4187:\t41 54                \tpush   %r12\n",
    "    4189:\t53                   \tpush   %rbx\n",
    "    418a:\t48 81 ec 58 02 00 00 \tsub    $0x258,%rsp\n",
    "    4191:\t48 89 fb             \tmov    %rdi,%rbx\n",
    "    4194:\t48 8d 84 24 28 02 00 \tlea    0x228(%rsp),%rax\n",
    "    419b:\t00 \n",
    "    419c:\t48 89 44 24 18       \tmov    %rax,0x18(%rsp)\n",
    "    41a1:\t48 8d 84 24 30 02 00 \tlea    0x230(%rsp),%rax\n",
    "    41a8:\t00 \n",
    "    41a9:\t48 89 44 24 10       \tmov    %rax,0x10(%rsp)\n",
    "    41ae:\t48 8d 84 24 38 02 00 \tlea    0x238(%rsp),%rax\n",
    "    41b5:\t00 \n",
    "    41b6:\t48 89 44 24 08       \tmov    %rax,0x8(%rsp)\n",
    "    41bb:\t48 8d 84 24 40 02 00 \tlea    0x240(%rsp),%rax\n",
    "    41c2:\t00 \n",
    "    41c3:\t48 89 04 24          \tmov    %rax,(%rsp)\n",
    "    41c7:\t48 8d 2d 4f 8e 00 00 \tlea    0x8e4f(%rip),%rbp        # d01d <.const.build_grid_fast>\n",
    "    41ce:\t4c 8d 84 24 50 02 00 \tlea    0x250(%rsp),%r8\n",
    "    41d5:\t00 \n",
    "    41d6:\t4c 8d 8c 24 48 02 00 \tlea    0x248(%rsp),%r9\n",
    "    41dd:\t00 \n",
    "    41de:\tba 06 00 00 00       \tmov    $0x6,%edx\n",
    "    41e3:\tb9 06 00 00 00       \tmov    $0x6,%ecx\n",
    "    41e8:\t31 c0                \txor    %eax,%eax\n",
    "    41ea:\t48 89 f7             \tmov    %rsi,%rdi\n",
    "    41ed:\t48 89 ee             \tmov    %rbp,%rsi\n",
    "    41f0:\te8 fb f7 ff ff       \tcallq  39f0 <PyArg_UnpackTuple@plt>\n",
    "    41f5:\t66 0f 57 c0          \txorpd  %xmm0,%xmm0\n",
    "    41f9:\t66 0f 29 84 24 10 02 \tmovapd %xmm0,0x210(%rsp)\n",
    "    4200:\t00 00 \n",
    "    4202:\t66 0f 29 84 24 00 02 \tmovapd %xmm0,0x200(%rsp)\n",
    "    4209:\t00 00 \n",
    "    420b:\t66 0f 29 84 24 f0 01 \tmovapd %xmm0,0x1f0(%rsp)\n",
    "    4212:\t00 00 \n",
    "    4214:\t48 c7 84 24 20 02 00 \tmovq   $0x0,0x220(%rsp)\n",
    "    421b:\t00 00 00 00 00 \n",
    "    4220:\t66 0f 29 84 24 d0 01 \tmovapd %xmm0,0x1d0(%rsp) \n",
    " ```"
   ]
  },
  {
   "cell_type": "code",
   "execution_count": 90,
   "metadata": {
    "collapsed": false
   },
   "outputs": [
    {
     "data": {
      "text/plain": [
       "2752"
      ]
     },
     "execution_count": 90,
     "metadata": {},
     "output_type": "execute_result"
    }
   ],
   "source": [
    "0x4c40-0x4180"
   ]
  },
  {
   "cell_type": "markdown",
   "metadata": {
    "slideshow": {
     "slide_type": "slide"
    }
   },
   "source": [
    "## Pattern: Scale up before your scale out\n",
    "\n",
    "* Start with scaling up, prototype locally - easiest\n",
    "* There're a lot of glue layer utilizing best of both world\n",
    "  - pyspark, hadoop streaming\n",
    "* In future: Worth checking out the Blaze ecosystem"
   ]
  },
  {
   "cell_type": "markdown",
   "metadata": {
    "slideshow": {
     "slide_type": "slide"
    }
   },
   "source": [
    "## Summary: PyData can help!\n",
    "\n",
    "* Build a good platform, let people play.\n",
    "  - Open to other language - jupyter scala / zepplin\n",
    "\n",
    "* Python can achieve pretty decent speed if you want to be careful\n",
    "   * Writing it in C is faster - not really"
   ]
  },
  {
   "cell_type": "markdown",
   "metadata": {
    "slideshow": {
     "slide_type": "slide"
    }
   },
   "source": [
    "\n",
    "# Thanks\n",
    "\n",
    "Questions?\n",
    "\n",
    "Come grab me anytime!"
   ]
  }
 ],
 "metadata": {
  "celltoolbar": "Slideshow",
  "kernelspec": {
   "display_name": "Python 2",
   "language": "python",
   "name": "python2"
  },
  "language_info": {
   "codemirror_mode": {
    "name": "ipython",
    "version": 2
   },
   "file_extension": ".py",
   "mimetype": "text/x-python",
   "name": "python",
   "nbconvert_exporter": "python",
   "pygments_lexer": "ipython2",
   "version": "2.7.10"
  }
 },
 "nbformat": 4,
 "nbformat_minor": 0
}
